{
 "cells": [
  {
   "cell_type": "markdown",
   "id": "e5cdc50f",
   "metadata": {},
   "source": [
    "# Importing important libraries"
   ]
  },
  {
   "cell_type": "code",
   "execution_count": 1,
   "id": "c1e59f45",
   "metadata": {},
   "outputs": [],
   "source": [
    "import numpy as np\n",
    "import pandas as pd\n",
    "import matplotlib.pyplot as plt \n",
    "import seaborn as sns\n",
    "%matplotlib inline\n",
    "\n",
    "import warnings\n",
    "warnings.filterwarnings('ignore')"
   ]
  },
  {
   "cell_type": "markdown",
   "id": "d5d6052e",
   "metadata": {},
   "source": [
    "## Importing dataset"
   ]
  },
  {
   "cell_type": "code",
   "execution_count": 2,
   "id": "f28d8605",
   "metadata": {},
   "outputs": [
    {
     "data": {
      "text/html": [
       "<div>\n",
       "<style scoped>\n",
       "    .dataframe tbody tr th:only-of-type {\n",
       "        vertical-align: middle;\n",
       "    }\n",
       "\n",
       "    .dataframe tbody tr th {\n",
       "        vertical-align: top;\n",
       "    }\n",
       "\n",
       "    .dataframe thead th {\n",
       "        text-align: right;\n",
       "    }\n",
       "</style>\n",
       "<table border=\"1\" class=\"dataframe\">\n",
       "  <thead>\n",
       "    <tr style=\"text-align: right;\">\n",
       "      <th></th>\n",
       "      <th>1</th>\n",
       "      <th>1.52101</th>\n",
       "      <th>13.64</th>\n",
       "      <th>4.49</th>\n",
       "      <th>1.10</th>\n",
       "      <th>71.78</th>\n",
       "      <th>0.06</th>\n",
       "      <th>8.75</th>\n",
       "      <th>0.00</th>\n",
       "      <th>0.00.1</th>\n",
       "      <th>1.1</th>\n",
       "    </tr>\n",
       "  </thead>\n",
       "  <tbody>\n",
       "    <tr>\n",
       "      <th>0</th>\n",
       "      <td>2</td>\n",
       "      <td>1.51761</td>\n",
       "      <td>13.89</td>\n",
       "      <td>3.60</td>\n",
       "      <td>1.36</td>\n",
       "      <td>72.73</td>\n",
       "      <td>0.48</td>\n",
       "      <td>7.83</td>\n",
       "      <td>0.00</td>\n",
       "      <td>0.00</td>\n",
       "      <td>1</td>\n",
       "    </tr>\n",
       "    <tr>\n",
       "      <th>1</th>\n",
       "      <td>3</td>\n",
       "      <td>1.51618</td>\n",
       "      <td>13.53</td>\n",
       "      <td>3.55</td>\n",
       "      <td>1.54</td>\n",
       "      <td>72.99</td>\n",
       "      <td>0.39</td>\n",
       "      <td>7.78</td>\n",
       "      <td>0.00</td>\n",
       "      <td>0.00</td>\n",
       "      <td>1</td>\n",
       "    </tr>\n",
       "    <tr>\n",
       "      <th>2</th>\n",
       "      <td>4</td>\n",
       "      <td>1.51766</td>\n",
       "      <td>13.21</td>\n",
       "      <td>3.69</td>\n",
       "      <td>1.29</td>\n",
       "      <td>72.61</td>\n",
       "      <td>0.57</td>\n",
       "      <td>8.22</td>\n",
       "      <td>0.00</td>\n",
       "      <td>0.00</td>\n",
       "      <td>1</td>\n",
       "    </tr>\n",
       "    <tr>\n",
       "      <th>3</th>\n",
       "      <td>5</td>\n",
       "      <td>1.51742</td>\n",
       "      <td>13.27</td>\n",
       "      <td>3.62</td>\n",
       "      <td>1.24</td>\n",
       "      <td>73.08</td>\n",
       "      <td>0.55</td>\n",
       "      <td>8.07</td>\n",
       "      <td>0.00</td>\n",
       "      <td>0.00</td>\n",
       "      <td>1</td>\n",
       "    </tr>\n",
       "    <tr>\n",
       "      <th>4</th>\n",
       "      <td>6</td>\n",
       "      <td>1.51596</td>\n",
       "      <td>12.79</td>\n",
       "      <td>3.61</td>\n",
       "      <td>1.62</td>\n",
       "      <td>72.97</td>\n",
       "      <td>0.64</td>\n",
       "      <td>8.07</td>\n",
       "      <td>0.00</td>\n",
       "      <td>0.26</td>\n",
       "      <td>1</td>\n",
       "    </tr>\n",
       "    <tr>\n",
       "      <th>...</th>\n",
       "      <td>...</td>\n",
       "      <td>...</td>\n",
       "      <td>...</td>\n",
       "      <td>...</td>\n",
       "      <td>...</td>\n",
       "      <td>...</td>\n",
       "      <td>...</td>\n",
       "      <td>...</td>\n",
       "      <td>...</td>\n",
       "      <td>...</td>\n",
       "      <td>...</td>\n",
       "    </tr>\n",
       "    <tr>\n",
       "      <th>208</th>\n",
       "      <td>210</td>\n",
       "      <td>1.51623</td>\n",
       "      <td>14.14</td>\n",
       "      <td>0.00</td>\n",
       "      <td>2.88</td>\n",
       "      <td>72.61</td>\n",
       "      <td>0.08</td>\n",
       "      <td>9.18</td>\n",
       "      <td>1.06</td>\n",
       "      <td>0.00</td>\n",
       "      <td>7</td>\n",
       "    </tr>\n",
       "    <tr>\n",
       "      <th>209</th>\n",
       "      <td>211</td>\n",
       "      <td>1.51685</td>\n",
       "      <td>14.92</td>\n",
       "      <td>0.00</td>\n",
       "      <td>1.99</td>\n",
       "      <td>73.06</td>\n",
       "      <td>0.00</td>\n",
       "      <td>8.40</td>\n",
       "      <td>1.59</td>\n",
       "      <td>0.00</td>\n",
       "      <td>7</td>\n",
       "    </tr>\n",
       "    <tr>\n",
       "      <th>210</th>\n",
       "      <td>212</td>\n",
       "      <td>1.52065</td>\n",
       "      <td>14.36</td>\n",
       "      <td>0.00</td>\n",
       "      <td>2.02</td>\n",
       "      <td>73.42</td>\n",
       "      <td>0.00</td>\n",
       "      <td>8.44</td>\n",
       "      <td>1.64</td>\n",
       "      <td>0.00</td>\n",
       "      <td>7</td>\n",
       "    </tr>\n",
       "    <tr>\n",
       "      <th>211</th>\n",
       "      <td>213</td>\n",
       "      <td>1.51651</td>\n",
       "      <td>14.38</td>\n",
       "      <td>0.00</td>\n",
       "      <td>1.94</td>\n",
       "      <td>73.61</td>\n",
       "      <td>0.00</td>\n",
       "      <td>8.48</td>\n",
       "      <td>1.57</td>\n",
       "      <td>0.00</td>\n",
       "      <td>7</td>\n",
       "    </tr>\n",
       "    <tr>\n",
       "      <th>212</th>\n",
       "      <td>214</td>\n",
       "      <td>1.51711</td>\n",
       "      <td>14.23</td>\n",
       "      <td>0.00</td>\n",
       "      <td>2.08</td>\n",
       "      <td>73.36</td>\n",
       "      <td>0.00</td>\n",
       "      <td>8.62</td>\n",
       "      <td>1.67</td>\n",
       "      <td>0.00</td>\n",
       "      <td>7</td>\n",
       "    </tr>\n",
       "  </tbody>\n",
       "</table>\n",
       "<p>213 rows × 11 columns</p>\n",
       "</div>"
      ],
      "text/plain": [
       "       1  1.52101  13.64  4.49  1.10  71.78  0.06  8.75  0.00  0.00.1  1.1\n",
       "0      2  1.51761  13.89  3.60  1.36  72.73  0.48  7.83  0.00    0.00    1\n",
       "1      3  1.51618  13.53  3.55  1.54  72.99  0.39  7.78  0.00    0.00    1\n",
       "2      4  1.51766  13.21  3.69  1.29  72.61  0.57  8.22  0.00    0.00    1\n",
       "3      5  1.51742  13.27  3.62  1.24  73.08  0.55  8.07  0.00    0.00    1\n",
       "4      6  1.51596  12.79  3.61  1.62  72.97  0.64  8.07  0.00    0.26    1\n",
       "..   ...      ...    ...   ...   ...    ...   ...   ...   ...     ...  ...\n",
       "208  210  1.51623  14.14  0.00  2.88  72.61  0.08  9.18  1.06    0.00    7\n",
       "209  211  1.51685  14.92  0.00  1.99  73.06  0.00  8.40  1.59    0.00    7\n",
       "210  212  1.52065  14.36  0.00  2.02  73.42  0.00  8.44  1.64    0.00    7\n",
       "211  213  1.51651  14.38  0.00  1.94  73.61  0.00  8.48  1.57    0.00    7\n",
       "212  214  1.51711  14.23  0.00  2.08  73.36  0.00  8.62  1.67    0.00    7\n",
       "\n",
       "[213 rows x 11 columns]"
      ]
     },
     "execution_count": 2,
     "metadata": {},
     "output_type": "execute_result"
    }
   ],
   "source": [
    "df=pd.read_csv(\"glass.csv\")\n",
    "df"
   ]
  },
  {
   "cell_type": "markdown",
   "id": "bd23e3bf",
   "metadata": {},
   "source": [
    "### Adding Column names to the dataset"
   ]
  },
  {
   "cell_type": "code",
   "execution_count": 3,
   "id": "e5264808",
   "metadata": {},
   "outputs": [],
   "source": [
    "df.columns=['Id number','RI','Na','Mg','Al','Si','K','Ca','Ba','Fe','Type of Glass']"
   ]
  },
  {
   "cell_type": "code",
   "execution_count": 4,
   "id": "5686c3e6",
   "metadata": {},
   "outputs": [
    {
     "data": {
      "text/html": [
       "<div>\n",
       "<style scoped>\n",
       "    .dataframe tbody tr th:only-of-type {\n",
       "        vertical-align: middle;\n",
       "    }\n",
       "\n",
       "    .dataframe tbody tr th {\n",
       "        vertical-align: top;\n",
       "    }\n",
       "\n",
       "    .dataframe thead th {\n",
       "        text-align: right;\n",
       "    }\n",
       "</style>\n",
       "<table border=\"1\" class=\"dataframe\">\n",
       "  <thead>\n",
       "    <tr style=\"text-align: right;\">\n",
       "      <th></th>\n",
       "      <th>Id number</th>\n",
       "      <th>RI</th>\n",
       "      <th>Na</th>\n",
       "      <th>Mg</th>\n",
       "      <th>Al</th>\n",
       "      <th>Si</th>\n",
       "      <th>K</th>\n",
       "      <th>Ca</th>\n",
       "      <th>Ba</th>\n",
       "      <th>Fe</th>\n",
       "      <th>Type of Glass</th>\n",
       "    </tr>\n",
       "  </thead>\n",
       "  <tbody>\n",
       "    <tr>\n",
       "      <th>0</th>\n",
       "      <td>2</td>\n",
       "      <td>1.51761</td>\n",
       "      <td>13.89</td>\n",
       "      <td>3.60</td>\n",
       "      <td>1.36</td>\n",
       "      <td>72.73</td>\n",
       "      <td>0.48</td>\n",
       "      <td>7.83</td>\n",
       "      <td>0.0</td>\n",
       "      <td>0.00</td>\n",
       "      <td>1</td>\n",
       "    </tr>\n",
       "    <tr>\n",
       "      <th>1</th>\n",
       "      <td>3</td>\n",
       "      <td>1.51618</td>\n",
       "      <td>13.53</td>\n",
       "      <td>3.55</td>\n",
       "      <td>1.54</td>\n",
       "      <td>72.99</td>\n",
       "      <td>0.39</td>\n",
       "      <td>7.78</td>\n",
       "      <td>0.0</td>\n",
       "      <td>0.00</td>\n",
       "      <td>1</td>\n",
       "    </tr>\n",
       "    <tr>\n",
       "      <th>2</th>\n",
       "      <td>4</td>\n",
       "      <td>1.51766</td>\n",
       "      <td>13.21</td>\n",
       "      <td>3.69</td>\n",
       "      <td>1.29</td>\n",
       "      <td>72.61</td>\n",
       "      <td>0.57</td>\n",
       "      <td>8.22</td>\n",
       "      <td>0.0</td>\n",
       "      <td>0.00</td>\n",
       "      <td>1</td>\n",
       "    </tr>\n",
       "    <tr>\n",
       "      <th>3</th>\n",
       "      <td>5</td>\n",
       "      <td>1.51742</td>\n",
       "      <td>13.27</td>\n",
       "      <td>3.62</td>\n",
       "      <td>1.24</td>\n",
       "      <td>73.08</td>\n",
       "      <td>0.55</td>\n",
       "      <td>8.07</td>\n",
       "      <td>0.0</td>\n",
       "      <td>0.00</td>\n",
       "      <td>1</td>\n",
       "    </tr>\n",
       "    <tr>\n",
       "      <th>4</th>\n",
       "      <td>6</td>\n",
       "      <td>1.51596</td>\n",
       "      <td>12.79</td>\n",
       "      <td>3.61</td>\n",
       "      <td>1.62</td>\n",
       "      <td>72.97</td>\n",
       "      <td>0.64</td>\n",
       "      <td>8.07</td>\n",
       "      <td>0.0</td>\n",
       "      <td>0.26</td>\n",
       "      <td>1</td>\n",
       "    </tr>\n",
       "  </tbody>\n",
       "</table>\n",
       "</div>"
      ],
      "text/plain": [
       "   Id number       RI     Na    Mg    Al     Si     K    Ca   Ba    Fe  \\\n",
       "0          2  1.51761  13.89  3.60  1.36  72.73  0.48  7.83  0.0  0.00   \n",
       "1          3  1.51618  13.53  3.55  1.54  72.99  0.39  7.78  0.0  0.00   \n",
       "2          4  1.51766  13.21  3.69  1.29  72.61  0.57  8.22  0.0  0.00   \n",
       "3          5  1.51742  13.27  3.62  1.24  73.08  0.55  8.07  0.0  0.00   \n",
       "4          6  1.51596  12.79  3.61  1.62  72.97  0.64  8.07  0.0  0.26   \n",
       "\n",
       "   Type of Glass  \n",
       "0              1  \n",
       "1              1  \n",
       "2              1  \n",
       "3              1  \n",
       "4              1  "
      ]
     },
     "execution_count": 4,
     "metadata": {},
     "output_type": "execute_result"
    }
   ],
   "source": [
    "df.head()"
   ]
  },
  {
   "cell_type": "code",
   "execution_count": 5,
   "id": "2c38a2b1",
   "metadata": {},
   "outputs": [
    {
     "data": {
      "text/plain": [
       "(213, 11)"
      ]
     },
     "execution_count": 5,
     "metadata": {},
     "output_type": "execute_result"
    }
   ],
   "source": [
    "df.shape"
   ]
  },
  {
   "cell_type": "markdown",
   "id": "18fe6263",
   "metadata": {},
   "source": [
    "The dataset have 213 rows and 11 columns"
   ]
  },
  {
   "cell_type": "code",
   "execution_count": 6,
   "id": "97c1de0d",
   "metadata": {},
   "outputs": [
    {
     "data": {
      "text/plain": [
       "Id number        0\n",
       "RI               0\n",
       "Na               0\n",
       "Mg               0\n",
       "Al               0\n",
       "Si               0\n",
       "K                0\n",
       "Ca               0\n",
       "Ba               0\n",
       "Fe               0\n",
       "Type of Glass    0\n",
       "dtype: int64"
      ]
     },
     "execution_count": 6,
     "metadata": {},
     "output_type": "execute_result"
    }
   ],
   "source": [
    "df.isna().sum()"
   ]
  },
  {
   "cell_type": "markdown",
   "id": "b14ade30",
   "metadata": {},
   "source": [
    "There is no null values in dataset"
   ]
  },
  {
   "cell_type": "code",
   "execution_count": 7,
   "id": "477383ed",
   "metadata": {},
   "outputs": [
    {
     "data": {
      "text/plain": [
       "2    76\n",
       "1    69\n",
       "7    29\n",
       "3    17\n",
       "5    13\n",
       "6     9\n",
       "Name: Type of Glass, dtype: int64"
      ]
     },
     "execution_count": 7,
     "metadata": {},
     "output_type": "execute_result"
    }
   ],
   "source": [
    "df['Type of Glass'].value_counts()"
   ]
  },
  {
   "cell_type": "code",
   "execution_count": 8,
   "id": "d1dd84af",
   "metadata": {},
   "outputs": [
    {
     "data": {
      "text/plain": [
       "Id number          int64\n",
       "RI               float64\n",
       "Na               float64\n",
       "Mg               float64\n",
       "Al               float64\n",
       "Si               float64\n",
       "K                float64\n",
       "Ca               float64\n",
       "Ba               float64\n",
       "Fe               float64\n",
       "Type of Glass      int64\n",
       "dtype: object"
      ]
     },
     "execution_count": 8,
     "metadata": {},
     "output_type": "execute_result"
    }
   ],
   "source": [
    "df.dtypes"
   ]
  },
  {
   "cell_type": "markdown",
   "id": "1bcbe189",
   "metadata": {},
   "source": [
    "We observe that all features having datatype as float (All are continous independent variable)"
   ]
  },
  {
   "cell_type": "markdown",
   "id": "fdd6ae4b",
   "metadata": {},
   "source": [
    "### Classifying glass type in terms of window and non window"
   ]
  },
  {
   "cell_type": "raw",
   "id": "d7cae9ec",
   "metadata": {},
   "source": [
    "Classes 1-4-: window glass\n",
    "Classes 5-7-: non window glass"
   ]
  },
  {
   "cell_type": "code",
   "execution_count": 9,
   "id": "207813be",
   "metadata": {},
   "outputs": [],
   "source": [
    "df['Type of Glass']=df['Type of Glass'].replace([1,2,3,4],'Window Glass')\n",
    "df['Type of Glass']=df['Type of Glass'].replace([5,6,7],'Non Window Glass')\n"
   ]
  },
  {
   "cell_type": "code",
   "execution_count": 10,
   "id": "7012e0b4",
   "metadata": {},
   "outputs": [
    {
     "data": {
      "text/plain": [
       "Index(['Id number', 'RI', 'Na', 'Mg', 'Al', 'Si', 'K', 'Ca', 'Ba', 'Fe',\n",
       "       'Type of Glass'],\n",
       "      dtype='object')"
      ]
     },
     "execution_count": 10,
     "metadata": {},
     "output_type": "execute_result"
    }
   ],
   "source": [
    "df.columns"
   ]
  },
  {
   "cell_type": "code",
   "execution_count": 11,
   "id": "493024bb",
   "metadata": {},
   "outputs": [
    {
     "data": {
      "text/html": [
       "<div>\n",
       "<style scoped>\n",
       "    .dataframe tbody tr th:only-of-type {\n",
       "        vertical-align: middle;\n",
       "    }\n",
       "\n",
       "    .dataframe tbody tr th {\n",
       "        vertical-align: top;\n",
       "    }\n",
       "\n",
       "    .dataframe thead th {\n",
       "        text-align: right;\n",
       "    }\n",
       "</style>\n",
       "<table border=\"1\" class=\"dataframe\">\n",
       "  <thead>\n",
       "    <tr style=\"text-align: right;\">\n",
       "      <th></th>\n",
       "      <th>Id number</th>\n",
       "      <th>RI</th>\n",
       "      <th>Na</th>\n",
       "      <th>Mg</th>\n",
       "      <th>Al</th>\n",
       "      <th>Si</th>\n",
       "      <th>K</th>\n",
       "      <th>Ca</th>\n",
       "      <th>Ba</th>\n",
       "      <th>Fe</th>\n",
       "      <th>Type of Glass</th>\n",
       "    </tr>\n",
       "  </thead>\n",
       "  <tbody>\n",
       "    <tr>\n",
       "      <th>0</th>\n",
       "      <td>2</td>\n",
       "      <td>1.51761</td>\n",
       "      <td>13.89</td>\n",
       "      <td>3.60</td>\n",
       "      <td>1.36</td>\n",
       "      <td>72.73</td>\n",
       "      <td>0.48</td>\n",
       "      <td>7.83</td>\n",
       "      <td>0.0</td>\n",
       "      <td>0.00</td>\n",
       "      <td>Window Glass</td>\n",
       "    </tr>\n",
       "    <tr>\n",
       "      <th>1</th>\n",
       "      <td>3</td>\n",
       "      <td>1.51618</td>\n",
       "      <td>13.53</td>\n",
       "      <td>3.55</td>\n",
       "      <td>1.54</td>\n",
       "      <td>72.99</td>\n",
       "      <td>0.39</td>\n",
       "      <td>7.78</td>\n",
       "      <td>0.0</td>\n",
       "      <td>0.00</td>\n",
       "      <td>Window Glass</td>\n",
       "    </tr>\n",
       "    <tr>\n",
       "      <th>2</th>\n",
       "      <td>4</td>\n",
       "      <td>1.51766</td>\n",
       "      <td>13.21</td>\n",
       "      <td>3.69</td>\n",
       "      <td>1.29</td>\n",
       "      <td>72.61</td>\n",
       "      <td>0.57</td>\n",
       "      <td>8.22</td>\n",
       "      <td>0.0</td>\n",
       "      <td>0.00</td>\n",
       "      <td>Window Glass</td>\n",
       "    </tr>\n",
       "    <tr>\n",
       "      <th>3</th>\n",
       "      <td>5</td>\n",
       "      <td>1.51742</td>\n",
       "      <td>13.27</td>\n",
       "      <td>3.62</td>\n",
       "      <td>1.24</td>\n",
       "      <td>73.08</td>\n",
       "      <td>0.55</td>\n",
       "      <td>8.07</td>\n",
       "      <td>0.0</td>\n",
       "      <td>0.00</td>\n",
       "      <td>Window Glass</td>\n",
       "    </tr>\n",
       "    <tr>\n",
       "      <th>4</th>\n",
       "      <td>6</td>\n",
       "      <td>1.51596</td>\n",
       "      <td>12.79</td>\n",
       "      <td>3.61</td>\n",
       "      <td>1.62</td>\n",
       "      <td>72.97</td>\n",
       "      <td>0.64</td>\n",
       "      <td>8.07</td>\n",
       "      <td>0.0</td>\n",
       "      <td>0.26</td>\n",
       "      <td>Window Glass</td>\n",
       "    </tr>\n",
       "  </tbody>\n",
       "</table>\n",
       "</div>"
      ],
      "text/plain": [
       "   Id number       RI     Na    Mg    Al     Si     K    Ca   Ba    Fe  \\\n",
       "0          2  1.51761  13.89  3.60  1.36  72.73  0.48  7.83  0.0  0.00   \n",
       "1          3  1.51618  13.53  3.55  1.54  72.99  0.39  7.78  0.0  0.00   \n",
       "2          4  1.51766  13.21  3.69  1.29  72.61  0.57  8.22  0.0  0.00   \n",
       "3          5  1.51742  13.27  3.62  1.24  73.08  0.55  8.07  0.0  0.00   \n",
       "4          6  1.51596  12.79  3.61  1.62  72.97  0.64  8.07  0.0  0.26   \n",
       "\n",
       "  Type of Glass  \n",
       "0  Window Glass  \n",
       "1  Window Glass  \n",
       "2  Window Glass  \n",
       "3  Window Glass  \n",
       "4  Window Glass  "
      ]
     },
     "execution_count": 11,
     "metadata": {},
     "output_type": "execute_result"
    }
   ],
   "source": [
    "df.head()"
   ]
  },
  {
   "cell_type": "code",
   "execution_count": 12,
   "id": "22f6f3b9",
   "metadata": {},
   "outputs": [
    {
     "data": {
      "text/plain": [
       "Window Glass        162\n",
       "Non Window Glass     51\n",
       "Name: Type of Glass, dtype: int64"
      ]
     },
     "execution_count": 12,
     "metadata": {},
     "output_type": "execute_result"
    }
   ],
   "source": [
    "df['Type of Glass'].value_counts()"
   ]
  },
  {
   "cell_type": "markdown",
   "id": "26df6adc",
   "metadata": {},
   "source": [
    "We can see that target varibale is highly imbalanced"
   ]
  },
  {
   "cell_type": "markdown",
   "id": "0b112ebb",
   "metadata": {},
   "source": [
    "## Now using encoder to encode the target variable"
   ]
  },
  {
   "cell_type": "code",
   "execution_count": 13,
   "id": "fbcd1be4",
   "metadata": {},
   "outputs": [
    {
     "data": {
      "text/html": [
       "<div>\n",
       "<style scoped>\n",
       "    .dataframe tbody tr th:only-of-type {\n",
       "        vertical-align: middle;\n",
       "    }\n",
       "\n",
       "    .dataframe tbody tr th {\n",
       "        vertical-align: top;\n",
       "    }\n",
       "\n",
       "    .dataframe thead th {\n",
       "        text-align: right;\n",
       "    }\n",
       "</style>\n",
       "<table border=\"1\" class=\"dataframe\">\n",
       "  <thead>\n",
       "    <tr style=\"text-align: right;\">\n",
       "      <th></th>\n",
       "      <th>Id number</th>\n",
       "      <th>RI</th>\n",
       "      <th>Na</th>\n",
       "      <th>Mg</th>\n",
       "      <th>Al</th>\n",
       "      <th>Si</th>\n",
       "      <th>K</th>\n",
       "      <th>Ca</th>\n",
       "      <th>Ba</th>\n",
       "      <th>Fe</th>\n",
       "      <th>Type of Glass</th>\n",
       "    </tr>\n",
       "  </thead>\n",
       "  <tbody>\n",
       "    <tr>\n",
       "      <th>0</th>\n",
       "      <td>2</td>\n",
       "      <td>1.51761</td>\n",
       "      <td>13.89</td>\n",
       "      <td>3.60</td>\n",
       "      <td>1.36</td>\n",
       "      <td>72.73</td>\n",
       "      <td>0.48</td>\n",
       "      <td>7.83</td>\n",
       "      <td>0.00</td>\n",
       "      <td>0.00</td>\n",
       "      <td>1</td>\n",
       "    </tr>\n",
       "    <tr>\n",
       "      <th>1</th>\n",
       "      <td>3</td>\n",
       "      <td>1.51618</td>\n",
       "      <td>13.53</td>\n",
       "      <td>3.55</td>\n",
       "      <td>1.54</td>\n",
       "      <td>72.99</td>\n",
       "      <td>0.39</td>\n",
       "      <td>7.78</td>\n",
       "      <td>0.00</td>\n",
       "      <td>0.00</td>\n",
       "      <td>1</td>\n",
       "    </tr>\n",
       "    <tr>\n",
       "      <th>2</th>\n",
       "      <td>4</td>\n",
       "      <td>1.51766</td>\n",
       "      <td>13.21</td>\n",
       "      <td>3.69</td>\n",
       "      <td>1.29</td>\n",
       "      <td>72.61</td>\n",
       "      <td>0.57</td>\n",
       "      <td>8.22</td>\n",
       "      <td>0.00</td>\n",
       "      <td>0.00</td>\n",
       "      <td>1</td>\n",
       "    </tr>\n",
       "    <tr>\n",
       "      <th>3</th>\n",
       "      <td>5</td>\n",
       "      <td>1.51742</td>\n",
       "      <td>13.27</td>\n",
       "      <td>3.62</td>\n",
       "      <td>1.24</td>\n",
       "      <td>73.08</td>\n",
       "      <td>0.55</td>\n",
       "      <td>8.07</td>\n",
       "      <td>0.00</td>\n",
       "      <td>0.00</td>\n",
       "      <td>1</td>\n",
       "    </tr>\n",
       "    <tr>\n",
       "      <th>4</th>\n",
       "      <td>6</td>\n",
       "      <td>1.51596</td>\n",
       "      <td>12.79</td>\n",
       "      <td>3.61</td>\n",
       "      <td>1.62</td>\n",
       "      <td>72.97</td>\n",
       "      <td>0.64</td>\n",
       "      <td>8.07</td>\n",
       "      <td>0.00</td>\n",
       "      <td>0.26</td>\n",
       "      <td>1</td>\n",
       "    </tr>\n",
       "    <tr>\n",
       "      <th>...</th>\n",
       "      <td>...</td>\n",
       "      <td>...</td>\n",
       "      <td>...</td>\n",
       "      <td>...</td>\n",
       "      <td>...</td>\n",
       "      <td>...</td>\n",
       "      <td>...</td>\n",
       "      <td>...</td>\n",
       "      <td>...</td>\n",
       "      <td>...</td>\n",
       "      <td>...</td>\n",
       "    </tr>\n",
       "    <tr>\n",
       "      <th>208</th>\n",
       "      <td>210</td>\n",
       "      <td>1.51623</td>\n",
       "      <td>14.14</td>\n",
       "      <td>0.00</td>\n",
       "      <td>2.88</td>\n",
       "      <td>72.61</td>\n",
       "      <td>0.08</td>\n",
       "      <td>9.18</td>\n",
       "      <td>1.06</td>\n",
       "      <td>0.00</td>\n",
       "      <td>0</td>\n",
       "    </tr>\n",
       "    <tr>\n",
       "      <th>209</th>\n",
       "      <td>211</td>\n",
       "      <td>1.51685</td>\n",
       "      <td>14.92</td>\n",
       "      <td>0.00</td>\n",
       "      <td>1.99</td>\n",
       "      <td>73.06</td>\n",
       "      <td>0.00</td>\n",
       "      <td>8.40</td>\n",
       "      <td>1.59</td>\n",
       "      <td>0.00</td>\n",
       "      <td>0</td>\n",
       "    </tr>\n",
       "    <tr>\n",
       "      <th>210</th>\n",
       "      <td>212</td>\n",
       "      <td>1.52065</td>\n",
       "      <td>14.36</td>\n",
       "      <td>0.00</td>\n",
       "      <td>2.02</td>\n",
       "      <td>73.42</td>\n",
       "      <td>0.00</td>\n",
       "      <td>8.44</td>\n",
       "      <td>1.64</td>\n",
       "      <td>0.00</td>\n",
       "      <td>0</td>\n",
       "    </tr>\n",
       "    <tr>\n",
       "      <th>211</th>\n",
       "      <td>213</td>\n",
       "      <td>1.51651</td>\n",
       "      <td>14.38</td>\n",
       "      <td>0.00</td>\n",
       "      <td>1.94</td>\n",
       "      <td>73.61</td>\n",
       "      <td>0.00</td>\n",
       "      <td>8.48</td>\n",
       "      <td>1.57</td>\n",
       "      <td>0.00</td>\n",
       "      <td>0</td>\n",
       "    </tr>\n",
       "    <tr>\n",
       "      <th>212</th>\n",
       "      <td>214</td>\n",
       "      <td>1.51711</td>\n",
       "      <td>14.23</td>\n",
       "      <td>0.00</td>\n",
       "      <td>2.08</td>\n",
       "      <td>73.36</td>\n",
       "      <td>0.00</td>\n",
       "      <td>8.62</td>\n",
       "      <td>1.67</td>\n",
       "      <td>0.00</td>\n",
       "      <td>0</td>\n",
       "    </tr>\n",
       "  </tbody>\n",
       "</table>\n",
       "<p>213 rows × 11 columns</p>\n",
       "</div>"
      ],
      "text/plain": [
       "     Id number       RI     Na    Mg    Al     Si     K    Ca    Ba    Fe  \\\n",
       "0            2  1.51761  13.89  3.60  1.36  72.73  0.48  7.83  0.00  0.00   \n",
       "1            3  1.51618  13.53  3.55  1.54  72.99  0.39  7.78  0.00  0.00   \n",
       "2            4  1.51766  13.21  3.69  1.29  72.61  0.57  8.22  0.00  0.00   \n",
       "3            5  1.51742  13.27  3.62  1.24  73.08  0.55  8.07  0.00  0.00   \n",
       "4            6  1.51596  12.79  3.61  1.62  72.97  0.64  8.07  0.00  0.26   \n",
       "..         ...      ...    ...   ...   ...    ...   ...   ...   ...   ...   \n",
       "208        210  1.51623  14.14  0.00  2.88  72.61  0.08  9.18  1.06  0.00   \n",
       "209        211  1.51685  14.92  0.00  1.99  73.06  0.00  8.40  1.59  0.00   \n",
       "210        212  1.52065  14.36  0.00  2.02  73.42  0.00  8.44  1.64  0.00   \n",
       "211        213  1.51651  14.38  0.00  1.94  73.61  0.00  8.48  1.57  0.00   \n",
       "212        214  1.51711  14.23  0.00  2.08  73.36  0.00  8.62  1.67  0.00   \n",
       "\n",
       "     Type of Glass  \n",
       "0                1  \n",
       "1                1  \n",
       "2                1  \n",
       "3                1  \n",
       "4                1  \n",
       "..             ...  \n",
       "208              0  \n",
       "209              0  \n",
       "210              0  \n",
       "211              0  \n",
       "212              0  \n",
       "\n",
       "[213 rows x 11 columns]"
      ]
     },
     "execution_count": 13,
     "metadata": {},
     "output_type": "execute_result"
    }
   ],
   "source": [
    "from sklearn.preprocessing import LabelEncoder\n",
    "\n",
    "enc=LabelEncoder()\n",
    "\n",
    "df['Type of Glass']=enc.fit_transform(df['Type of Glass'])\n",
    "\n",
    "df"
   ]
  },
  {
   "cell_type": "markdown",
   "id": "598a93db",
   "metadata": {},
   "source": [
    "### Describing the Dataset"
   ]
  },
  {
   "cell_type": "code",
   "execution_count": 14,
   "id": "08aa5af6",
   "metadata": {},
   "outputs": [
    {
     "data": {
      "text/html": [
       "<div>\n",
       "<style scoped>\n",
       "    .dataframe tbody tr th:only-of-type {\n",
       "        vertical-align: middle;\n",
       "    }\n",
       "\n",
       "    .dataframe tbody tr th {\n",
       "        vertical-align: top;\n",
       "    }\n",
       "\n",
       "    .dataframe thead th {\n",
       "        text-align: right;\n",
       "    }\n",
       "</style>\n",
       "<table border=\"1\" class=\"dataframe\">\n",
       "  <thead>\n",
       "    <tr style=\"text-align: right;\">\n",
       "      <th></th>\n",
       "      <th>count</th>\n",
       "      <th>mean</th>\n",
       "      <th>std</th>\n",
       "      <th>min</th>\n",
       "      <th>25%</th>\n",
       "      <th>50%</th>\n",
       "      <th>75%</th>\n",
       "      <th>max</th>\n",
       "    </tr>\n",
       "  </thead>\n",
       "  <tbody>\n",
       "    <tr>\n",
       "      <th>Id number</th>\n",
       "      <td>213.0</td>\n",
       "      <td>108.000000</td>\n",
       "      <td>61.631972</td>\n",
       "      <td>2.00000</td>\n",
       "      <td>55.00000</td>\n",
       "      <td>108.00000</td>\n",
       "      <td>161.00000</td>\n",
       "      <td>214.00000</td>\n",
       "    </tr>\n",
       "    <tr>\n",
       "      <th>RI</th>\n",
       "      <td>213.0</td>\n",
       "      <td>1.518353</td>\n",
       "      <td>0.003039</td>\n",
       "      <td>1.51115</td>\n",
       "      <td>1.51652</td>\n",
       "      <td>1.51768</td>\n",
       "      <td>1.51915</td>\n",
       "      <td>1.53393</td>\n",
       "    </tr>\n",
       "    <tr>\n",
       "      <th>Na</th>\n",
       "      <td>213.0</td>\n",
       "      <td>13.406761</td>\n",
       "      <td>0.818371</td>\n",
       "      <td>10.73000</td>\n",
       "      <td>12.90000</td>\n",
       "      <td>13.30000</td>\n",
       "      <td>13.83000</td>\n",
       "      <td>17.38000</td>\n",
       "    </tr>\n",
       "    <tr>\n",
       "      <th>Mg</th>\n",
       "      <td>213.0</td>\n",
       "      <td>2.676056</td>\n",
       "      <td>1.440453</td>\n",
       "      <td>0.00000</td>\n",
       "      <td>2.09000</td>\n",
       "      <td>3.48000</td>\n",
       "      <td>3.60000</td>\n",
       "      <td>3.98000</td>\n",
       "    </tr>\n",
       "    <tr>\n",
       "      <th>Al</th>\n",
       "      <td>213.0</td>\n",
       "      <td>1.446526</td>\n",
       "      <td>0.499882</td>\n",
       "      <td>0.29000</td>\n",
       "      <td>1.19000</td>\n",
       "      <td>1.36000</td>\n",
       "      <td>1.63000</td>\n",
       "      <td>3.50000</td>\n",
       "    </tr>\n",
       "    <tr>\n",
       "      <th>Si</th>\n",
       "      <td>213.0</td>\n",
       "      <td>72.655023</td>\n",
       "      <td>0.774052</td>\n",
       "      <td>69.81000</td>\n",
       "      <td>72.28000</td>\n",
       "      <td>72.79000</td>\n",
       "      <td>73.09000</td>\n",
       "      <td>75.41000</td>\n",
       "    </tr>\n",
       "    <tr>\n",
       "      <th>K</th>\n",
       "      <td>213.0</td>\n",
       "      <td>0.499108</td>\n",
       "      <td>0.653035</td>\n",
       "      <td>0.00000</td>\n",
       "      <td>0.13000</td>\n",
       "      <td>0.56000</td>\n",
       "      <td>0.61000</td>\n",
       "      <td>6.21000</td>\n",
       "    </tr>\n",
       "    <tr>\n",
       "      <th>Ca</th>\n",
       "      <td>213.0</td>\n",
       "      <td>8.957934</td>\n",
       "      <td>1.426435</td>\n",
       "      <td>5.43000</td>\n",
       "      <td>8.24000</td>\n",
       "      <td>8.60000</td>\n",
       "      <td>9.18000</td>\n",
       "      <td>16.19000</td>\n",
       "    </tr>\n",
       "    <tr>\n",
       "      <th>Ba</th>\n",
       "      <td>213.0</td>\n",
       "      <td>0.175869</td>\n",
       "      <td>0.498245</td>\n",
       "      <td>0.00000</td>\n",
       "      <td>0.00000</td>\n",
       "      <td>0.00000</td>\n",
       "      <td>0.00000</td>\n",
       "      <td>3.15000</td>\n",
       "    </tr>\n",
       "    <tr>\n",
       "      <th>Fe</th>\n",
       "      <td>213.0</td>\n",
       "      <td>0.057277</td>\n",
       "      <td>0.097589</td>\n",
       "      <td>0.00000</td>\n",
       "      <td>0.00000</td>\n",
       "      <td>0.00000</td>\n",
       "      <td>0.10000</td>\n",
       "      <td>0.51000</td>\n",
       "    </tr>\n",
       "    <tr>\n",
       "      <th>Type of Glass</th>\n",
       "      <td>213.0</td>\n",
       "      <td>0.760563</td>\n",
       "      <td>0.427745</td>\n",
       "      <td>0.00000</td>\n",
       "      <td>1.00000</td>\n",
       "      <td>1.00000</td>\n",
       "      <td>1.00000</td>\n",
       "      <td>1.00000</td>\n",
       "    </tr>\n",
       "  </tbody>\n",
       "</table>\n",
       "</div>"
      ],
      "text/plain": [
       "               count        mean        std       min       25%        50%  \\\n",
       "Id number      213.0  108.000000  61.631972   2.00000  55.00000  108.00000   \n",
       "RI             213.0    1.518353   0.003039   1.51115   1.51652    1.51768   \n",
       "Na             213.0   13.406761   0.818371  10.73000  12.90000   13.30000   \n",
       "Mg             213.0    2.676056   1.440453   0.00000   2.09000    3.48000   \n",
       "Al             213.0    1.446526   0.499882   0.29000   1.19000    1.36000   \n",
       "Si             213.0   72.655023   0.774052  69.81000  72.28000   72.79000   \n",
       "K              213.0    0.499108   0.653035   0.00000   0.13000    0.56000   \n",
       "Ca             213.0    8.957934   1.426435   5.43000   8.24000    8.60000   \n",
       "Ba             213.0    0.175869   0.498245   0.00000   0.00000    0.00000   \n",
       "Fe             213.0    0.057277   0.097589   0.00000   0.00000    0.00000   \n",
       "Type of Glass  213.0    0.760563   0.427745   0.00000   1.00000    1.00000   \n",
       "\n",
       "                     75%        max  \n",
       "Id number      161.00000  214.00000  \n",
       "RI               1.51915    1.53393  \n",
       "Na              13.83000   17.38000  \n",
       "Mg               3.60000    3.98000  \n",
       "Al               1.63000    3.50000  \n",
       "Si              73.09000   75.41000  \n",
       "K                0.61000    6.21000  \n",
       "Ca               9.18000   16.19000  \n",
       "Ba               0.00000    3.15000  \n",
       "Fe               0.10000    0.51000  \n",
       "Type of Glass    1.00000    1.00000  "
      ]
     },
     "execution_count": 14,
     "metadata": {},
     "output_type": "execute_result"
    }
   ],
   "source": [
    "df.describe().T"
   ]
  },
  {
   "cell_type": "raw",
   "id": "b833e247",
   "metadata": {},
   "source": [
    "From above observations we found that\n",
    "There are total 9 number of continous features\n",
    "\n",
    "1.RI is having mean=1.51 and min_value=1.51 max_value=1.53\n",
    "2.Na is having mean=13.40 and min_value=10.73 max_value=17.38\n",
    "3.Mg is having mean=2.67 and min_value=0 max_value=3.98\n",
    "4.Al is having mean=1.44 and min_value=.29 max_value=3.5\n",
    "5.Si is having mean=72.65 and min_value=69.81 max_value=75.41\n",
    "6.K is having mean=0.49 and min_value=0 max_value=6.21\n",
    "7.Ca is having mean=8.95 and min_value=5.43 max_value=16.19\n",
    "8.Ba is having mean=0.17 and min_value=0. max_value=3.15\n",
    "9.Fe is having mean=.05 and min_value=0 max_value=0.51\n",
    "\n"
   ]
  },
  {
   "cell_type": "markdown",
   "id": "fc26545f",
   "metadata": {},
   "source": [
    "# EDA"
   ]
  },
  {
   "cell_type": "code",
   "execution_count": 15,
   "id": "f37dd74d",
   "metadata": {},
   "outputs": [
    {
     "data": {
      "image/png": "[encoded data removed]",
      "text/plain": [
       "<Figure size 2160x1800 with 11 Axes>"
      ]
     },
     "metadata": {},
     "output_type": "display_data"
    }
   ],
   "source": [
    "plt.figure(figsize=(30,25),facecolor='red')\n",
    "plotnumber=1\n",
    "\n",
    "for column in df:\n",
    "    if plotnumber<=11:\n",
    "        ax=plt.subplot(3,4,plotnumber)\n",
    "        sns.scatterplot(x=column,y=\"Type of Glass\",data=df)\n",
    "        plt.xlabel(column,size=20)\n",
    "        plt.ylabel('Type of Glass',size=20)\n",
    "    plotnumber=plotnumber+1\n",
    "\n",
    "plt.show()"
   ]
  },
  {
   "cell_type": "markdown",
   "id": "39b6ef93",
   "metadata": {},
   "source": [
    "# Visualisation of Trarget Variable"
   ]
  },
  {
   "cell_type": "code",
   "execution_count": 16,
   "id": "a0ad07dd",
   "metadata": {},
   "outputs": [
    {
     "name": "stdout",
     "output_type": "stream",
     "text": [
      "1    162\n",
      "0     51\n",
      "Name: Type of Glass, dtype: int64\n"
     ]
    },
    {
     "data": {
      "image/png": "[encoded data removed]",
      "text/plain": [
       "<Figure size 432x288 with 1 Axes>"
      ]
     },
     "metadata": {
      "needs_background": "light"
     },
     "output_type": "display_data"
    }
   ],
   "source": [
    "ax=sns.countplot(x='Type of Glass',data=df)\n",
    "print(df['Type of Glass'].value_counts())"
   ]
  },
  {
   "cell_type": "markdown",
   "id": "de301e0b",
   "metadata": {},
   "source": [
    "# Checking the correaltion with target variable and between features"
   ]
  },
  {
   "cell_type": "markdown",
   "id": "95375f44",
   "metadata": {},
   "source": [
    "## Plotting heatmap"
   ]
  },
  {
   "cell_type": "code",
   "execution_count": 17,
   "id": "e9d4d4d4",
   "metadata": {},
   "outputs": [
    {
     "data": {
      "image/png": "[encoded data removed]",
      "text/plain": [
       "<Figure size 1800x1440 with 2 Axes>"
      ]
     },
     "metadata": {
      "needs_background": "light"
     },
     "output_type": "display_data"
    }
   ],
   "source": [
    "plt.figure(figsize=(25,20))\n",
    "sns.heatmap(df.corr(),annot=True,linewidths=0.5,linecolor='black',fmt='.2f')\n",
    "plt.title(\"Correlation matrix\")\n",
    "plt.savefig('Correlation matrix.jpg')\n",
    "plt.show()"
   ]
  },
  {
   "cell_type": "raw",
   "id": "4e7e4385",
   "metadata": {},
   "source": [
    "From above plotting we can observe that :-\n",
    "  Mg is having highest realationship with the target varible(76%) \n",
    "  Ca is having lowest relationship with the target variable(4%)"
   ]
  },
  {
   "cell_type": "markdown",
   "id": "c20db212",
   "metadata": {},
   "source": [
    "### It seems that RI is dependent on Ca .Lets Check using scatter plot"
   ]
  },
  {
   "cell_type": "code",
   "execution_count": 18,
   "id": "7bc8feb1",
   "metadata": {},
   "outputs": [
    {
     "data": {
      "text/plain": [
       "<AxesSubplot:xlabel='RI', ylabel='Ca'>"
      ]
     },
     "execution_count": 18,
     "metadata": {},
     "output_type": "execute_result"
    },
    {
     "data": {
      "image/png": "[encoded data removed]",
      "text/plain": [
       "<Figure size 432x288 with 1 Axes>"
      ]
     },
     "metadata": {
      "needs_background": "light"
     },
     "output_type": "display_data"
    }
   ],
   "source": [
    "sns.scatterplot(x='RI',y=\"Ca\",data=df)"
   ]
  },
  {
   "cell_type": "raw",
   "id": "7f27c0aa",
   "metadata": {},
   "source": [
    "we can say the RI and Ca is directly related to each other .So we will remove the feature which will have less relationship with target variable"
   ]
  },
  {
   "cell_type": "code",
   "execution_count": 19,
   "id": "913c41b7",
   "metadata": {},
   "outputs": [
    {
     "data": {
      "text/plain": [
       "Type of Glass    1.000000\n",
       "Mg               0.758357\n",
       "Fe               0.196747\n",
       "RI               0.132368\n",
       "Ca              -0.040319\n",
       "K               -0.052104\n",
       "Si              -0.145654\n",
       "Na              -0.453504\n",
       "Ba              -0.523014\n",
       "Al              -0.585198\n",
       "Id number       -0.739143\n",
       "Name: Type of Glass, dtype: float64"
      ]
     },
     "execution_count": 19,
     "metadata": {},
     "output_type": "execute_result"
    }
   ],
   "source": [
    "df.corr()['Type of Glass'].sort_values(ascending=False)"
   ]
  },
  {
   "cell_type": "code",
   "execution_count": 20,
   "id": "19c6b286",
   "metadata": {},
   "outputs": [
    {
     "data": {
      "image/png": "[encoded data removed]",
      "text/plain": [
       "<Figure size 1584x504 with 1 Axes>"
      ]
     },
     "metadata": {
      "needs_background": "light"
     },
     "output_type": "display_data"
    }
   ],
   "source": [
    "plt.figure(figsize=(22,7))\n",
    "df.corr()['Type of Glass'].sort_values(ascending=False).drop(['Type of Glass']).plot(kind='bar',color='c')\n",
    "plt.xlabel('Feature',fontsize=14)\n",
    "plt.ylabel('column with target names',fontsize=18)\n",
    "plt.title('Correlation')\n",
    "plt.show()\n"
   ]
  },
  {
   "cell_type": "markdown",
   "id": "054eaab5",
   "metadata": {},
   "source": [
    "### We can see that Mg,Fe,RI are positively realted to target variable and Ca,K,Si,Na,Ba,Al are negatvely related to target varibale"
   ]
  },
  {
   "cell_type": "markdown",
   "id": "2ea83d51",
   "metadata": {},
   "source": [
    "# Checking the skewness"
   ]
  },
  {
   "cell_type": "code",
   "execution_count": 21,
   "id": "6e6b8798",
   "metadata": {},
   "outputs": [
    {
     "data": {
      "text/plain": [
       "K                6.549276\n",
       "Ba               3.406749\n",
       "Ca               2.040591\n",
       "Fe               1.747173\n",
       "RI               1.639658\n",
       "Al               0.900017\n",
       "Na               0.457318\n",
       "Id number        0.000000\n",
       "Si              -0.744546\n",
       "Mg              -1.154323\n",
       "Type of Glass   -1.229860\n",
       "dtype: float64"
      ]
     },
     "execution_count": 21,
     "metadata": {},
     "output_type": "execute_result"
    }
   ],
   "source": [
    "df.skew().sort_values(ascending=False)"
   ]
  },
  {
   "cell_type": "raw",
   "id": "99290090",
   "metadata": {},
   "source": [
    "From above obsevation except Na all columns having skewness\n",
    "\n",
    "setting the skewness limit to +/- 0.60."
   ]
  },
  {
   "cell_type": "markdown",
   "id": "6c41bc21",
   "metadata": {},
   "source": [
    "### Lets check skewness through graph"
   ]
  },
  {
   "cell_type": "code",
   "execution_count": 22,
   "id": "1473160e",
   "metadata": {},
   "outputs": [
    {
     "data": {
      "image/png": "[encoded data removed]",
      "text/plain": [
       "<Figure size 2160x1800 with 11 Axes>"
      ]
     },
     "metadata": {},
     "output_type": "display_data"
    }
   ],
   "source": [
    "plt.figure(figsize=(30,25),facecolor='yellow')\n",
    "plotnumber=1\n",
    "\n",
    "for column in df:\n",
    "    if plotnumber<=11:\n",
    "        ax=plt.subplot(4,3,plotnumber)\n",
    "        sns.distplot(df[column])\n",
    "        plt.xlabel(column,size=(20))\n",
    "    plotnumber=plotnumber+1\n",
    "\n",
    "plt.show()"
   ]
  },
  {
   "cell_type": "markdown",
   "id": "a97d446e",
   "metadata": {},
   "source": [
    "From above observation we can say that Mg,Ba,Fe are highly skewd at right."
   ]
  },
  {
   "cell_type": "markdown",
   "id": "ccc93e1a",
   "metadata": {},
   "source": [
    "# Checking the outliers"
   ]
  },
  {
   "cell_type": "code",
   "execution_count": 23,
   "id": "f09d4055",
   "metadata": {},
   "outputs": [
    {
     "data": {
      "image/png": "[encoded data removed]",
      "text/plain": [
       "<Figure size 1440x1152 with 11 Axes>"
      ]
     },
     "metadata": {
      "needs_background": "light"
     },
     "output_type": "display_data"
    }
   ],
   "source": [
    "graph=1\n",
    "\n",
    "plt.figure(figsize=(20,16))\n",
    "\n",
    "for column in df:\n",
    "    if graph<=11:\n",
    "        plt.subplot(4,3,graph)\n",
    "        ax=sns.boxplot(data=df[column])\n",
    "        plt.xlabel(column)\n",
    "    graph+=1\n",
    "plt.show()"
   ]
  },
  {
   "cell_type": "markdown",
   "id": "1f083063",
   "metadata": {},
   "source": [
    "From above observation we can see that RI, Na, Mg, Al , Si ,K, Ca, Ba, Fe are having outliers"
   ]
  },
  {
   "cell_type": "markdown",
   "id": "718aa515",
   "metadata": {},
   "source": [
    "# Preprocessing"
   ]
  },
  {
   "cell_type": "markdown",
   "id": "46da788e",
   "metadata": {},
   "source": [
    "## Separating label and features as x and y"
   ]
  },
  {
   "cell_type": "code",
   "execution_count": 24,
   "id": "0a3eefb4",
   "metadata": {},
   "outputs": [],
   "source": [
    "x=df.drop(columns=['Id number','Type of Glass','Ca'],axis=1)\n",
    "y=df['Type of Glass']"
   ]
  },
  {
   "cell_type": "raw",
   "id": "1089481d",
   "metadata": {},
   "source": [
    "Id number is removed as it is normally and ordianally distributed\n",
    "Ca is removed as there is multicollinearity"
   ]
  },
  {
   "cell_type": "markdown",
   "id": "c3113129",
   "metadata": {},
   "source": [
    "## Removing Outliers using Z-technique"
   ]
  },
  {
   "cell_type": "code",
   "execution_count": 25,
   "id": "e41fae3c",
   "metadata": {
    "scrolled": true
   },
   "outputs": [
    {
     "data": {
      "text/html": [
       "<div>\n",
       "<style scoped>\n",
       "    .dataframe tbody tr th:only-of-type {\n",
       "        vertical-align: middle;\n",
       "    }\n",
       "\n",
       "    .dataframe tbody tr th {\n",
       "        vertical-align: top;\n",
       "    }\n",
       "\n",
       "    .dataframe thead th {\n",
       "        text-align: right;\n",
       "    }\n",
       "</style>\n",
       "<table border=\"1\" class=\"dataframe\">\n",
       "  <thead>\n",
       "    <tr style=\"text-align: right;\">\n",
       "      <th></th>\n",
       "      <th>RI</th>\n",
       "      <th>Na</th>\n",
       "      <th>Mg</th>\n",
       "      <th>Al</th>\n",
       "      <th>Si</th>\n",
       "      <th>K</th>\n",
       "      <th>Ba</th>\n",
       "      <th>Fe</th>\n",
       "    </tr>\n",
       "  </thead>\n",
       "  <tbody>\n",
       "    <tr>\n",
       "      <th>0</th>\n",
       "      <td>0.245101</td>\n",
       "      <td>0.591880</td>\n",
       "      <td>0.642937</td>\n",
       "      <td>0.173500</td>\n",
       "      <td>0.097091</td>\n",
       "      <td>0.029329</td>\n",
       "      <td>0.353808</td>\n",
       "      <td>0.588301</td>\n",
       "    </tr>\n",
       "    <tr>\n",
       "      <th>1</th>\n",
       "      <td>0.716826</td>\n",
       "      <td>0.150946</td>\n",
       "      <td>0.608144</td>\n",
       "      <td>0.187433</td>\n",
       "      <td>0.433777</td>\n",
       "      <td>0.167472</td>\n",
       "      <td>0.353808</td>\n",
       "      <td>0.588301</td>\n",
       "    </tr>\n",
       "    <tr>\n",
       "      <th>2</th>\n",
       "      <td>0.228607</td>\n",
       "      <td>0.240996</td>\n",
       "      <td>0.705564</td>\n",
       "      <td>0.313863</td>\n",
       "      <td>0.058303</td>\n",
       "      <td>0.108813</td>\n",
       "      <td>0.353808</td>\n",
       "      <td>0.588301</td>\n",
       "    </tr>\n",
       "    <tr>\n",
       "      <th>3</th>\n",
       "      <td>0.307777</td>\n",
       "      <td>0.167507</td>\n",
       "      <td>0.656854</td>\n",
       "      <td>0.414122</td>\n",
       "      <td>0.550322</td>\n",
       "      <td>0.078115</td>\n",
       "      <td>0.353808</td>\n",
       "      <td>0.588301</td>\n",
       "    </tr>\n",
       "    <tr>\n",
       "      <th>4</th>\n",
       "      <td>0.789399</td>\n",
       "      <td>0.755419</td>\n",
       "      <td>0.649895</td>\n",
       "      <td>0.347848</td>\n",
       "      <td>0.407878</td>\n",
       "      <td>0.216258</td>\n",
       "      <td>0.353808</td>\n",
       "      <td>2.082200</td>\n",
       "    </tr>\n",
       "    <tr>\n",
       "      <th>...</th>\n",
       "      <td>...</td>\n",
       "      <td>...</td>\n",
       "      <td>...</td>\n",
       "      <td>...</td>\n",
       "      <td>...</td>\n",
       "      <td>...</td>\n",
       "      <td>...</td>\n",
       "      <td>...</td>\n",
       "    </tr>\n",
       "    <tr>\n",
       "      <th>208</th>\n",
       "      <td>0.700332</td>\n",
       "      <td>0.898085</td>\n",
       "      <td>1.862164</td>\n",
       "      <td>2.874379</td>\n",
       "      <td>0.058303</td>\n",
       "      <td>0.643296</td>\n",
       "      <td>1.778672</td>\n",
       "      <td>0.588301</td>\n",
       "    </tr>\n",
       "    <tr>\n",
       "      <th>209</th>\n",
       "      <td>0.495808</td>\n",
       "      <td>1.853443</td>\n",
       "      <td>1.862164</td>\n",
       "      <td>1.089766</td>\n",
       "      <td>0.524423</td>\n",
       "      <td>0.766090</td>\n",
       "      <td>2.844912</td>\n",
       "      <td>0.588301</td>\n",
       "    </tr>\n",
       "    <tr>\n",
       "      <th>210</th>\n",
       "      <td>0.757727</td>\n",
       "      <td>1.167545</td>\n",
       "      <td>1.862164</td>\n",
       "      <td>1.149921</td>\n",
       "      <td>0.990604</td>\n",
       "      <td>0.766090</td>\n",
       "      <td>2.945501</td>\n",
       "      <td>0.588301</td>\n",
       "    </tr>\n",
       "    <tr>\n",
       "      <th>211</th>\n",
       "      <td>0.607966</td>\n",
       "      <td>1.192041</td>\n",
       "      <td>1.862164</td>\n",
       "      <td>0.989506</td>\n",
       "      <td>1.236644</td>\n",
       "      <td>0.766090</td>\n",
       "      <td>2.804676</td>\n",
       "      <td>0.588301</td>\n",
       "    </tr>\n",
       "    <tr>\n",
       "      <th>212</th>\n",
       "      <td>0.410039</td>\n",
       "      <td>1.008318</td>\n",
       "      <td>1.862164</td>\n",
       "      <td>1.270232</td>\n",
       "      <td>0.912907</td>\n",
       "      <td>0.766090</td>\n",
       "      <td>3.005854</td>\n",
       "      <td>0.588301</td>\n",
       "    </tr>\n",
       "  </tbody>\n",
       "</table>\n",
       "<p>213 rows × 8 columns</p>\n",
       "</div>"
      ],
      "text/plain": [
       "           RI        Na        Mg        Al        Si         K        Ba  \\\n",
       "0    0.245101  0.591880  0.642937  0.173500  0.097091  0.029329  0.353808   \n",
       "1    0.716826  0.150946  0.608144  0.187433  0.433777  0.167472  0.353808   \n",
       "2    0.228607  0.240996  0.705564  0.313863  0.058303  0.108813  0.353808   \n",
       "3    0.307777  0.167507  0.656854  0.414122  0.550322  0.078115  0.353808   \n",
       "4    0.789399  0.755419  0.649895  0.347848  0.407878  0.216258  0.353808   \n",
       "..        ...       ...       ...       ...       ...       ...       ...   \n",
       "208  0.700332  0.898085  1.862164  2.874379  0.058303  0.643296  1.778672   \n",
       "209  0.495808  1.853443  1.862164  1.089766  0.524423  0.766090  2.844912   \n",
       "210  0.757727  1.167545  1.862164  1.149921  0.990604  0.766090  2.945501   \n",
       "211  0.607966  1.192041  1.862164  0.989506  1.236644  0.766090  2.804676   \n",
       "212  0.410039  1.008318  1.862164  1.270232  0.912907  0.766090  3.005854   \n",
       "\n",
       "           Fe  \n",
       "0    0.588301  \n",
       "1    0.588301  \n",
       "2    0.588301  \n",
       "3    0.588301  \n",
       "4    2.082200  \n",
       "..        ...  \n",
       "208  0.588301  \n",
       "209  0.588301  \n",
       "210  0.588301  \n",
       "211  0.588301  \n",
       "212  0.588301  \n",
       "\n",
       "[213 rows x 8 columns]"
      ]
     },
     "execution_count": 25,
     "metadata": {},
     "output_type": "execute_result"
    }
   ],
   "source": [
    "from scipy.stats import zscore\n",
    "z=np.abs(zscore(x))\n",
    "z.shape\n",
    "z"
   ]
  },
  {
   "cell_type": "code",
   "execution_count": 26,
   "id": "cae0eac3",
   "metadata": {},
   "outputs": [
    {
     "name": "stdout",
     "output_type": "stream",
     "text": [
      "(array([105, 105, 105, 105, 106, 106, 111, 144, 161, 162, 162, 162, 170,\n",
      "       170, 171, 171, 173, 183, 183, 187, 188, 200, 200, 202, 206, 212],\n",
      "      dtype=int64), array([0, 1, 4, 6, 0, 4, 0, 7, 7, 3, 4, 6, 3, 5, 3, 5, 7, 1, 4, 4, 6, 4,\n",
      "       5, 6, 6, 6], dtype=int64))\n"
     ]
    },
    {
     "data": {
      "text/plain": [
       "26"
      ]
     },
     "execution_count": 26,
     "metadata": {},
     "output_type": "execute_result"
    }
   ],
   "source": [
    "threshold=3  # rule of thumb\n",
    "#index number\n",
    "print(np.where(z>3))\n",
    "len(np.where(z>3)[0])"
   ]
  },
  {
   "cell_type": "markdown",
   "id": "677cb802",
   "metadata": {},
   "source": [
    "We can observe that there are 26 no. of outliers present "
   ]
  },
  {
   "cell_type": "code",
   "execution_count": 27,
   "id": "1b71538e",
   "metadata": {},
   "outputs": [
    {
     "name": "stdout",
     "output_type": "stream",
     "text": [
      "old dataframe (213, 8)\n",
      "new dataframe (197, 11)\n",
      "total number of rows dropped 16\n"
     ]
    }
   ],
   "source": [
    "x_new=df[(z<3).all(axis=1)]\n",
    "print(\"old dataframe\",x.shape)\n",
    "print(\"new dataframe\",x_new.shape)\n",
    "print(\"total number of rows dropped\",x.shape[0]-x_new.shape[0])"
   ]
  },
  {
   "cell_type": "markdown",
   "id": "b00cd333",
   "metadata": {},
   "source": [
    "Total no.of rows dropped is 16"
   ]
  },
  {
   "cell_type": "markdown",
   "id": "b62efa7c",
   "metadata": {},
   "source": [
    "## Percentage data loss"
   ]
  },
  {
   "cell_type": "code",
   "execution_count": 28,
   "id": "e97cfa42",
   "metadata": {},
   "outputs": [
    {
     "data": {
      "text/plain": [
       "7.511737089201878"
      ]
     },
     "execution_count": 28,
     "metadata": {},
     "output_type": "execute_result"
    }
   ],
   "source": [
    "loss_percent=(213-197)/213*100\n",
    "loss_percent"
   ]
  },
  {
   "cell_type": "markdown",
   "id": "40f0a451",
   "metadata": {},
   "source": [
    "Percentage loss is less than 10 % .So its OK"
   ]
  },
  {
   "cell_type": "markdown",
   "id": "d0c71533",
   "metadata": {},
   "source": [
    "# Handling imbalanced dataset\n",
    "Since target variable is imbalanced and size of dataset is small so we will do oversampling"
   ]
  },
  {
   "cell_type": "markdown",
   "id": "a0c68314",
   "metadata": {},
   "source": [
    "## Over sampling using SMOTE"
   ]
  },
  {
   "cell_type": "code",
   "execution_count": 29,
   "id": "95615adf",
   "metadata": {},
   "outputs": [],
   "source": [
    "import sys\n",
    "from collections import Counter\n",
    "import joblib\n",
    "import six\n",
    "from sklearn.model_selection import train_test_split\n",
    "sys.modules['sklearn.externals.six']=six\n",
    "sys.modules['sklearn.externals.joblib']=joblib\n",
    "from sklearn.model_selection import train_test_split"
   ]
  },
  {
   "cell_type": "code",
   "execution_count": 30,
   "id": "f549055c",
   "metadata": {},
   "outputs": [],
   "source": [
    "from imblearn.over_sampling import SMOTE"
   ]
  },
  {
   "cell_type": "code",
   "execution_count": 31,
   "id": "74e9ab7e",
   "metadata": {},
   "outputs": [],
   "source": [
    "x_train,x_test,y_train,y_test=train_test_split(x,y,test_size=0.75,random_state=50)"
   ]
  },
  {
   "cell_type": "code",
   "execution_count": 32,
   "id": "69fc51b8",
   "metadata": {},
   "outputs": [],
   "source": [
    "over_smpl=SMOTE(0.75)\n",
    "x_train_ns,y_train_ns=over_smpl.fit_resample(x_train,y_train)"
   ]
  },
  {
   "cell_type": "code",
   "execution_count": 33,
   "id": "16b4e4d0",
   "metadata": {},
   "outputs": [
    {
     "name": "stdout",
     "output_type": "stream",
     "text": [
      "The number of classes before fitCounter({1: 41, 0: 12})\n"
     ]
    }
   ],
   "source": [
    "print(\"The number of classes before fit{}\".format(Counter(y_train)))"
   ]
  },
  {
   "cell_type": "code",
   "execution_count": 34,
   "id": "438dbfab",
   "metadata": {},
   "outputs": [
    {
     "name": "stdout",
     "output_type": "stream",
     "text": [
      "The number of classes after fitCounter({1: 41, 0: 30})\n"
     ]
    }
   ],
   "source": [
    "print(\"The number of classes after fit{}\".format(Counter(y_train_ns)))"
   ]
  },
  {
   "cell_type": "markdown",
   "id": "902794cc",
   "metadata": {},
   "source": [
    "Our dataset is Balanced"
   ]
  },
  {
   "cell_type": "markdown",
   "id": "f862f778",
   "metadata": {},
   "source": [
    "# Removing skewness using data transforamtion"
   ]
  },
  {
   "cell_type": "code",
   "execution_count": 35,
   "id": "7f5f0d40",
   "metadata": {},
   "outputs": [],
   "source": [
    "from sklearn.preprocessing import power_transform"
   ]
  },
  {
   "cell_type": "code",
   "execution_count": 36,
   "id": "42fb4dd1",
   "metadata": {},
   "outputs": [],
   "source": [
    "x=power_transform(x,method='yeo-johnson')"
   ]
  },
  {
   "cell_type": "code",
   "execution_count": 37,
   "id": "5d92ac11",
   "metadata": {},
   "outputs": [
    {
     "data": {
      "text/plain": [
       "2   -0.911150\n",
       "5   -0.075233\n",
       "1   -0.009526\n",
       "0    0.000000\n",
       "3    0.000874\n",
       "4    0.133867\n",
       "7    0.852473\n",
       "6    1.817526\n",
       "dtype: float64"
      ]
     },
     "execution_count": 37,
     "metadata": {},
     "output_type": "execute_result"
    }
   ],
   "source": [
    "pd.DataFrame(x).skew().sort_values()"
   ]
  },
  {
   "cell_type": "markdown",
   "id": "005f0df4",
   "metadata": {},
   "source": [
    "We can see that skewness is removed"
   ]
  },
  {
   "cell_type": "code",
   "execution_count": 38,
   "id": "952c4ca4",
   "metadata": {},
   "outputs": [
    {
     "data": {
      "text/html": [
       "<div>\n",
       "<style scoped>\n",
       "    .dataframe tbody tr th:only-of-type {\n",
       "        vertical-align: middle;\n",
       "    }\n",
       "\n",
       "    .dataframe tbody tr th {\n",
       "        vertical-align: top;\n",
       "    }\n",
       "\n",
       "    .dataframe thead th {\n",
       "        text-align: right;\n",
       "    }\n",
       "</style>\n",
       "<table border=\"1\" class=\"dataframe\">\n",
       "  <thead>\n",
       "    <tr style=\"text-align: right;\">\n",
       "      <th></th>\n",
       "      <th>0</th>\n",
       "      <th>1</th>\n",
       "      <th>2</th>\n",
       "      <th>3</th>\n",
       "      <th>4</th>\n",
       "      <th>5</th>\n",
       "      <th>6</th>\n",
       "      <th>7</th>\n",
       "    </tr>\n",
       "  </thead>\n",
       "  <tbody>\n",
       "    <tr>\n",
       "      <th>0</th>\n",
       "      <td>-2.081668e-17</td>\n",
       "      <td>0.616990</td>\n",
       "      <td>0.681474</td>\n",
       "      <td>-0.081445</td>\n",
       "      <td>0.038252</td>\n",
       "      <td>0.268575</td>\n",
       "      <td>-0.456097</td>\n",
       "      <td>-0.682180</td>\n",
       "    </tr>\n",
       "    <tr>\n",
       "      <th>1</th>\n",
       "      <td>-6.245005e-17</td>\n",
       "      <td>0.184792</td>\n",
       "      <td>0.620552</td>\n",
       "      <td>0.286720</td>\n",
       "      <td>0.394607</td>\n",
       "      <td>0.011888</td>\n",
       "      <td>-0.456097</td>\n",
       "      <td>-0.682180</td>\n",
       "    </tr>\n",
       "    <tr>\n",
       "      <th>2</th>\n",
       "      <td>-2.081668e-17</td>\n",
       "      <td>-0.210310</td>\n",
       "      <td>0.793249</td>\n",
       "      <td>-0.232162</td>\n",
       "      <td>-0.121300</td>\n",
       "      <td>0.496129</td>\n",
       "      <td>-0.456097</td>\n",
       "      <td>-0.682180</td>\n",
       "    </tr>\n",
       "    <tr>\n",
       "      <th>3</th>\n",
       "      <td>-2.775558e-17</td>\n",
       "      <td>-0.135420</td>\n",
       "      <td>0.706078</td>\n",
       "      <td>-0.342629</td>\n",
       "      <td>0.521438</td>\n",
       "      <td>0.447821</td>\n",
       "      <td>-0.456097</td>\n",
       "      <td>-0.682180</td>\n",
       "    </tr>\n",
       "    <tr>\n",
       "      <th>4</th>\n",
       "      <td>-6.938894e-17</td>\n",
       "      <td>-0.745389</td>\n",
       "      <td>0.693759</td>\n",
       "      <td>0.442150</td>\n",
       "      <td>0.366668</td>\n",
       "      <td>0.656025</td>\n",
       "      <td>-0.456097</td>\n",
       "      <td>1.715594</td>\n",
       "    </tr>\n",
       "    <tr>\n",
       "      <th>...</th>\n",
       "      <td>...</td>\n",
       "      <td>...</td>\n",
       "      <td>...</td>\n",
       "      <td>...</td>\n",
       "      <td>...</td>\n",
       "      <td>...</td>\n",
       "      <td>...</td>\n",
       "      <td>...</td>\n",
       "    </tr>\n",
       "    <tr>\n",
       "      <th>208</th>\n",
       "      <td>-6.245005e-17</td>\n",
       "      <td>0.909819</td>\n",
       "      <td>-1.738836</td>\n",
       "      <td>2.415518</td>\n",
       "      <td>-0.121300</td>\n",
       "      <td>-1.195502</td>\n",
       "      <td>2.365582</td>\n",
       "      <td>-0.682180</td>\n",
       "    </tr>\n",
       "    <tr>\n",
       "      <th>209</th>\n",
       "      <td>-4.510281e-17</td>\n",
       "      <td>1.787436</td>\n",
       "      <td>-1.738836</td>\n",
       "      <td>1.104938</td>\n",
       "      <td>0.493096</td>\n",
       "      <td>-1.627123</td>\n",
       "      <td>2.371415</td>\n",
       "      <td>-0.682180</td>\n",
       "    </tr>\n",
       "    <tr>\n",
       "      <th>210</th>\n",
       "      <td>6.938894e-17</td>\n",
       "      <td>1.162750</td>\n",
       "      <td>-1.738836</td>\n",
       "      <td>1.155073</td>\n",
       "      <td>1.017262</td>\n",
       "      <td>-1.627123</td>\n",
       "      <td>2.371564</td>\n",
       "      <td>-0.682180</td>\n",
       "    </tr>\n",
       "    <tr>\n",
       "      <th>211</th>\n",
       "      <td>-5.204170e-17</td>\n",
       "      <td>1.185528</td>\n",
       "      <td>-1.738836</td>\n",
       "      <td>1.020265</td>\n",
       "      <td>1.306184</td>\n",
       "      <td>-1.627123</td>\n",
       "      <td>2.371347</td>\n",
       "      <td>-0.682180</td>\n",
       "    </tr>\n",
       "    <tr>\n",
       "      <th>212</th>\n",
       "      <td>-3.816392e-17</td>\n",
       "      <td>1.013820</td>\n",
       "      <td>-1.738836</td>\n",
       "      <td>1.253886</td>\n",
       "      <td>0.927811</td>\n",
       "      <td>-1.627123</td>\n",
       "      <td>2.371642</td>\n",
       "      <td>-0.682180</td>\n",
       "    </tr>\n",
       "  </tbody>\n",
       "</table>\n",
       "<p>213 rows × 8 columns</p>\n",
       "</div>"
      ],
      "text/plain": [
       "                0         1         2         3         4         5         6  \\\n",
       "0   -2.081668e-17  0.616990  0.681474 -0.081445  0.038252  0.268575 -0.456097   \n",
       "1   -6.245005e-17  0.184792  0.620552  0.286720  0.394607  0.011888 -0.456097   \n",
       "2   -2.081668e-17 -0.210310  0.793249 -0.232162 -0.121300  0.496129 -0.456097   \n",
       "3   -2.775558e-17 -0.135420  0.706078 -0.342629  0.521438  0.447821 -0.456097   \n",
       "4   -6.938894e-17 -0.745389  0.693759  0.442150  0.366668  0.656025 -0.456097   \n",
       "..            ...       ...       ...       ...       ...       ...       ...   \n",
       "208 -6.245005e-17  0.909819 -1.738836  2.415518 -0.121300 -1.195502  2.365582   \n",
       "209 -4.510281e-17  1.787436 -1.738836  1.104938  0.493096 -1.627123  2.371415   \n",
       "210  6.938894e-17  1.162750 -1.738836  1.155073  1.017262 -1.627123  2.371564   \n",
       "211 -5.204170e-17  1.185528 -1.738836  1.020265  1.306184 -1.627123  2.371347   \n",
       "212 -3.816392e-17  1.013820 -1.738836  1.253886  0.927811 -1.627123  2.371642   \n",
       "\n",
       "            7  \n",
       "0   -0.682180  \n",
       "1   -0.682180  \n",
       "2   -0.682180  \n",
       "3   -0.682180  \n",
       "4    1.715594  \n",
       "..        ...  \n",
       "208 -0.682180  \n",
       "209 -0.682180  \n",
       "210 -0.682180  \n",
       "211 -0.682180  \n",
       "212 -0.682180  \n",
       "\n",
       "[213 rows x 8 columns]"
      ]
     },
     "execution_count": 38,
     "metadata": {},
     "output_type": "execute_result"
    }
   ],
   "source": [
    "x_new=pd.DataFrame(x)\n",
    "x_new"
   ]
  },
  {
   "cell_type": "markdown",
   "id": "6650845a",
   "metadata": {},
   "source": [
    "# Data Standardisation"
   ]
  },
  {
   "cell_type": "code",
   "execution_count": 39,
   "id": "72d5e38a",
   "metadata": {},
   "outputs": [],
   "source": [
    "from sklearn.preprocessing import StandardScaler\n",
    "\n",
    "scaler=StandardScaler()\n",
    "\n",
    "x_scaled=scaler.fit_transform(x_new)"
   ]
  },
  {
   "cell_type": "markdown",
   "id": "c03f13db",
   "metadata": {},
   "source": [
    "# Check for multicolliernity"
   ]
  },
  {
   "cell_type": "code",
   "execution_count": 40,
   "id": "607ac7aa",
   "metadata": {},
   "outputs": [],
   "source": [
    "from statsmodels.stats.outliers_influence import variance_inflation_factor"
   ]
  },
  {
   "cell_type": "code",
   "execution_count": 41,
   "id": "86f8067e",
   "metadata": {},
   "outputs": [
    {
     "data": {
      "text/html": [
       "<div>\n",
       "<style scoped>\n",
       "    .dataframe tbody tr th:only-of-type {\n",
       "        vertical-align: middle;\n",
       "    }\n",
       "\n",
       "    .dataframe tbody tr th {\n",
       "        vertical-align: top;\n",
       "    }\n",
       "\n",
       "    .dataframe thead th {\n",
       "        text-align: right;\n",
       "    }\n",
       "</style>\n",
       "<table border=\"1\" class=\"dataframe\">\n",
       "  <thead>\n",
       "    <tr style=\"text-align: right;\">\n",
       "      <th></th>\n",
       "      <th>vif1</th>\n",
       "      <th>features</th>\n",
       "    </tr>\n",
       "  </thead>\n",
       "  <tbody>\n",
       "    <tr>\n",
       "      <th>0</th>\n",
       "      <td>5.283892</td>\n",
       "      <td>0</td>\n",
       "    </tr>\n",
       "    <tr>\n",
       "      <th>1</th>\n",
       "      <td>2.806971</td>\n",
       "      <td>1</td>\n",
       "    </tr>\n",
       "    <tr>\n",
       "      <th>2</th>\n",
       "      <td>2.942385</td>\n",
       "      <td>2</td>\n",
       "    </tr>\n",
       "    <tr>\n",
       "      <th>3</th>\n",
       "      <td>3.489968</td>\n",
       "      <td>3</td>\n",
       "    </tr>\n",
       "    <tr>\n",
       "      <th>4</th>\n",
       "      <td>3.376824</td>\n",
       "      <td>4</td>\n",
       "    </tr>\n",
       "    <tr>\n",
       "      <th>5</th>\n",
       "      <td>2.621644</td>\n",
       "      <td>5</td>\n",
       "    </tr>\n",
       "    <tr>\n",
       "      <th>6</th>\n",
       "      <td>2.118615</td>\n",
       "      <td>6</td>\n",
       "    </tr>\n",
       "    <tr>\n",
       "      <th>7</th>\n",
       "      <td>1.069703</td>\n",
       "      <td>7</td>\n",
       "    </tr>\n",
       "  </tbody>\n",
       "</table>\n",
       "</div>"
      ],
      "text/plain": [
       "       vif1  features\n",
       "0  5.283892         0\n",
       "1  2.806971         1\n",
       "2  2.942385         2\n",
       "3  3.489968         3\n",
       "4  3.376824         4\n",
       "5  2.621644         5\n",
       "6  2.118615         6\n",
       "7  1.069703         7"
      ]
     },
     "execution_count": 41,
     "metadata": {},
     "output_type": "execute_result"
    }
   ],
   "source": [
    "vif=pd.DataFrame()\n",
    "vif['vif1']=[variance_inflation_factor(x_scaled,i) for i in range(x_scaled.shape[1])]\n",
    "vif['features']=x_new.columns\n",
    "vif"
   ]
  },
  {
   "cell_type": "raw",
   "id": "73312938",
   "metadata": {},
   "source": [
    "we can observe that Variance Inflation Factor is greater than 5 for RI but we already removed Ca."
   ]
  },
  {
   "cell_type": "markdown",
   "id": "77cb1602",
   "metadata": {},
   "source": [
    "# Training our model"
   ]
  },
  {
   "cell_type": "markdown",
   "id": "9f79715e",
   "metadata": {},
   "source": [
    "### Logistic Regression Classifier"
   ]
  },
  {
   "cell_type": "code",
   "execution_count": 42,
   "id": "ea2c6585",
   "metadata": {},
   "outputs": [],
   "source": [
    "from sklearn.model_selection import train_test_split\n",
    "from sklearn.linear_model import LogisticRegression\n",
    "from sklearn.metrics import accuracy_score,classification_report,roc_auc_score,roc_curve,confusion_matrix\n",
    "\n"
   ]
  },
  {
   "cell_type": "code",
   "execution_count": 43,
   "id": "bb5179fc",
   "metadata": {},
   "outputs": [],
   "source": [
    "lr=LogisticRegression()"
   ]
  },
  {
   "cell_type": "markdown",
   "id": "6edd0f2d",
   "metadata": {},
   "source": [
    "## Finding the best random state"
   ]
  },
  {
   "cell_type": "code",
   "execution_count": 44,
   "id": "f9506eac",
   "metadata": {},
   "outputs": [
    {
     "name": "stdout",
     "output_type": "stream",
     "text": [
      "Testing accuracy 0.9534883720930233 random state 0\n",
      "max_accuracy 0.9534883720930233 max_random_state 0\n",
      "Testing accuracy 0.9534883720930233 random state 1\n",
      "Testing accuracy 0.9767441860465116 random state 2\n",
      "max_accuracy 0.9767441860465116 max_random_state 2\n",
      "Testing accuracy 0.9534883720930233 random state 3\n",
      "Testing accuracy 0.9302325581395349 random state 4\n",
      "Testing accuracy 0.9767441860465116 random state 5\n",
      "Testing accuracy 0.9534883720930233 random state 6\n",
      "Testing accuracy 0.9767441860465116 random state 7\n",
      "Testing accuracy 0.9534883720930233 random state 8\n",
      "Testing accuracy 0.9534883720930233 random state 9\n",
      "Testing accuracy 0.9767441860465116 random state 10\n",
      "Testing accuracy 0.9302325581395349 random state 11\n",
      "Testing accuracy 0.9767441860465116 random state 12\n",
      "Testing accuracy 0.9534883720930233 random state 13\n",
      "Testing accuracy 0.9302325581395349 random state 14\n",
      "Testing accuracy 0.9302325581395349 random state 15\n",
      "Testing accuracy 0.9302325581395349 random state 16\n",
      "Testing accuracy 1.0 random state 17\n",
      "max_accuracy 1.0 max_random_state 17\n",
      "Testing accuracy 0.9302325581395349 random state 18\n",
      "Testing accuracy 0.9302325581395349 random state 19\n",
      "Testing accuracy 0.9767441860465116 random state 20\n",
      "Testing accuracy 0.9767441860465116 random state 21\n",
      "Testing accuracy 0.9534883720930233 random state 22\n",
      "Testing accuracy 0.9534883720930233 random state 23\n",
      "Testing accuracy 0.9302325581395349 random state 24\n",
      "Testing accuracy 0.9302325581395349 random state 25\n",
      "Testing accuracy 0.9302325581395349 random state 26\n",
      "Testing accuracy 0.9534883720930233 random state 27\n",
      "Testing accuracy 0.9302325581395349 random state 28\n",
      "Testing accuracy 0.9534883720930233 random state 29\n",
      "Testing accuracy 0.9534883720930233 random state 30\n",
      "Testing accuracy 0.9534883720930233 random state 31\n",
      "Testing accuracy 0.9767441860465116 random state 32\n",
      "Testing accuracy 0.9302325581395349 random state 33\n",
      "Testing accuracy 0.9534883720930233 random state 34\n",
      "Testing accuracy 0.9069767441860465 random state 35\n",
      "Testing accuracy 0.9534883720930233 random state 36\n",
      "Testing accuracy 0.9767441860465116 random state 37\n",
      "Testing accuracy 0.9534883720930233 random state 38\n",
      "Testing accuracy 0.9302325581395349 random state 39\n",
      "Testing accuracy 0.9069767441860465 random state 40\n",
      "Testing accuracy 0.9767441860465116 random state 41\n",
      "Testing accuracy 0.9534883720930233 random state 42\n",
      "Testing accuracy 0.9767441860465116 random state 43\n",
      "Testing accuracy 1.0 random state 44\n",
      "Testing accuracy 0.9534883720930233 random state 45\n",
      "Testing accuracy 0.9302325581395349 random state 46\n",
      "Testing accuracy 0.9534883720930233 random state 47\n",
      "Testing accuracy 0.9767441860465116 random state 48\n",
      "Testing accuracy 0.9069767441860465 random state 49\n",
      "Testing accuracy 0.9534883720930233 random state 50\n",
      "Testing accuracy 1.0 random state 51\n",
      "Testing accuracy 1.0 random state 52\n",
      "Testing accuracy 0.9302325581395349 random state 53\n",
      "Testing accuracy 0.9767441860465116 random state 54\n",
      "Testing accuracy 0.9767441860465116 random state 55\n",
      "Testing accuracy 0.9767441860465116 random state 56\n",
      "Testing accuracy 0.9767441860465116 random state 57\n",
      "Testing accuracy 0.9767441860465116 random state 58\n",
      "Testing accuracy 0.9534883720930233 random state 59\n",
      "Testing accuracy 0.9302325581395349 random state 60\n",
      "Testing accuracy 0.9534883720930233 random state 61\n",
      "Testing accuracy 0.9302325581395349 random state 62\n",
      "Testing accuracy 0.9534883720930233 random state 63\n",
      "Testing accuracy 0.9767441860465116 random state 64\n",
      "Testing accuracy 0.9302325581395349 random state 65\n",
      "Testing accuracy 0.9534883720930233 random state 66\n",
      "Testing accuracy 0.9767441860465116 random state 67\n",
      "Testing accuracy 1.0 random state 68\n",
      "Testing accuracy 0.9767441860465116 random state 69\n",
      "Testing accuracy 0.9534883720930233 random state 70\n",
      "Testing accuracy 0.9767441860465116 random state 71\n",
      "Testing accuracy 0.9534883720930233 random state 72\n",
      "Testing accuracy 0.9767441860465116 random state 73\n",
      "Testing accuracy 0.9302325581395349 random state 74\n",
      "Testing accuracy 1.0 random state 75\n",
      "Testing accuracy 0.9767441860465116 random state 76\n",
      "Testing accuracy 0.9534883720930233 random state 77\n",
      "Testing accuracy 1.0 random state 78\n",
      "Testing accuracy 0.9534883720930233 random state 79\n",
      "Testing accuracy 1.0 random state 80\n",
      "Testing accuracy 1.0 random state 81\n",
      "Testing accuracy 0.9534883720930233 random state 82\n",
      "Testing accuracy 0.9767441860465116 random state 83\n",
      "Testing accuracy 0.9302325581395349 random state 84\n",
      "Testing accuracy 0.9767441860465116 random state 85\n",
      "Testing accuracy 0.9302325581395349 random state 86\n",
      "Testing accuracy 0.9534883720930233 random state 87\n",
      "Testing accuracy 0.9534883720930233 random state 88\n",
      "Testing accuracy 0.9534883720930233 random state 89\n",
      "Testing accuracy 0.9069767441860465 random state 90\n",
      "Testing accuracy 0.9767441860465116 random state 91\n",
      "Testing accuracy 0.9302325581395349 random state 92\n",
      "Testing accuracy 0.9767441860465116 random state 93\n",
      "Testing accuracy 0.9767441860465116 random state 94\n",
      "Testing accuracy 0.9534883720930233 random state 95\n",
      "Testing accuracy 0.9069767441860465 random state 96\n",
      "Testing accuracy 1.0 random state 97\n",
      "Testing accuracy 0.9767441860465116 random state 98\n",
      "Testing accuracy 0.9534883720930233 random state 99\n",
      "Testing accuracy 0.9302325581395349 random state 100\n",
      "Testing accuracy 0.8604651162790697 random state 101\n",
      "Testing accuracy 0.9069767441860465 random state 102\n",
      "Testing accuracy 0.9534883720930233 random state 103\n",
      "Testing accuracy 0.9534883720930233 random state 104\n",
      "Testing accuracy 0.9069767441860465 random state 105\n",
      "Testing accuracy 0.9069767441860465 random state 106\n",
      "Testing accuracy 0.9302325581395349 random state 107\n",
      "Testing accuracy 0.9534883720930233 random state 108\n",
      "Testing accuracy 1.0 random state 109\n",
      "Testing accuracy 0.9767441860465116 random state 110\n",
      "Testing accuracy 0.9534883720930233 random state 111\n",
      "Testing accuracy 0.9767441860465116 random state 112\n",
      "Testing accuracy 0.9302325581395349 random state 113\n",
      "Testing accuracy 0.9534883720930233 random state 114\n",
      "Testing accuracy 0.9302325581395349 random state 115\n",
      "Testing accuracy 0.9534883720930233 random state 116\n",
      "Testing accuracy 0.8837209302325582 random state 117\n",
      "Testing accuracy 0.9534883720930233 random state 118\n",
      "Testing accuracy 0.9534883720930233 random state 119\n",
      "Testing accuracy 0.9302325581395349 random state 120\n",
      "Testing accuracy 0.9534883720930233 random state 121\n",
      "Testing accuracy 0.9069767441860465 random state 122\n",
      "Testing accuracy 0.8837209302325582 random state 123\n",
      "Testing accuracy 0.9534883720930233 random state 124\n",
      "Testing accuracy 1.0 random state 125\n",
      "Testing accuracy 0.9534883720930233 random state 126\n",
      "Testing accuracy 0.9534883720930233 random state 127\n",
      "Testing accuracy 1.0 random state 128\n",
      "Testing accuracy 0.9069767441860465 random state 129\n",
      "Testing accuracy 0.9534883720930233 random state 130\n",
      "Testing accuracy 0.9069767441860465 random state 131\n",
      "Testing accuracy 0.8604651162790697 random state 132\n",
      "Testing accuracy 0.9534883720930233 random state 133\n",
      "Testing accuracy 0.9534883720930233 random state 134\n",
      "Testing accuracy 0.8604651162790697 random state 135\n",
      "Testing accuracy 0.9767441860465116 random state 136\n",
      "Testing accuracy 0.9302325581395349 random state 137\n",
      "Testing accuracy 0.9069767441860465 random state 138\n",
      "Testing accuracy 0.9534883720930233 random state 139\n",
      "Testing accuracy 0.8604651162790697 random state 140\n",
      "Testing accuracy 0.8837209302325582 random state 141\n",
      "Testing accuracy 0.8837209302325582 random state 142\n",
      "Testing accuracy 0.9534883720930233 random state 143\n",
      "Testing accuracy 0.9767441860465116 random state 144\n",
      "Testing accuracy 0.9069767441860465 random state 145\n",
      "Testing accuracy 0.9767441860465116 random state 146\n",
      "Testing accuracy 0.9069767441860465 random state 147\n",
      "Testing accuracy 1.0 random state 148\n",
      "Testing accuracy 0.9302325581395349 random state 149\n",
      "Testing accuracy 0.9534883720930233 random state 150\n",
      "Testing accuracy 0.9302325581395349 random state 151\n",
      "Testing accuracy 0.9534883720930233 random state 152\n",
      "Testing accuracy 0.9534883720930233 random state 153\n",
      "Testing accuracy 0.9534883720930233 random state 154\n",
      "Testing accuracy 0.9302325581395349 random state 155\n",
      "Testing accuracy 0.9534883720930233 random state 156\n",
      "Testing accuracy 0.9534883720930233 random state 157\n",
      "Testing accuracy 0.9767441860465116 random state 158\n",
      "Testing accuracy 0.9302325581395349 random state 159\n",
      "Testing accuracy 0.9767441860465116 random state 160\n",
      "Testing accuracy 0.8837209302325582 random state 161\n",
      "Testing accuracy 0.9069767441860465 random state 162\n",
      "Testing accuracy 0.9767441860465116 random state 163\n",
      "Testing accuracy 0.9767441860465116 random state 164\n",
      "Testing accuracy 1.0 random state 165\n",
      "Testing accuracy 0.9767441860465116 random state 166\n",
      "Testing accuracy 0.9767441860465116 random state 167\n",
      "Testing accuracy 0.9069767441860465 random state 168\n",
      "Testing accuracy 0.9534883720930233 random state 169\n",
      "Testing accuracy 0.9767441860465116 random state 170\n",
      "Testing accuracy 0.9767441860465116 random state 171\n",
      "Testing accuracy 0.9767441860465116 random state 172\n",
      "Testing accuracy 0.9302325581395349 random state 173\n",
      "Testing accuracy 0.9767441860465116 random state 174\n",
      "Testing accuracy 0.9534883720930233 random state 175\n",
      "Testing accuracy 0.9534883720930233 random state 176\n",
      "Testing accuracy 0.9302325581395349 random state 177\n",
      "Testing accuracy 0.9302325581395349 random state 178\n",
      "Testing accuracy 0.9302325581395349 random state 179\n",
      "Testing accuracy 0.8837209302325582 random state 180\n",
      "Testing accuracy 0.9534883720930233 random state 181\n",
      "Testing accuracy 0.9534883720930233 random state 182\n",
      "Testing accuracy 0.9069767441860465 random state 183\n",
      "Testing accuracy 0.9534883720930233 random state 184\n",
      "Testing accuracy 0.9534883720930233 random state 185\n",
      "Testing accuracy 0.9534883720930233 random state 186\n",
      "Testing accuracy 0.9534883720930233 random state 187\n",
      "Testing accuracy 0.9302325581395349 random state 188\n",
      "Testing accuracy 0.9767441860465116 random state 189\n",
      "Testing accuracy 0.9534883720930233 random state 190\n",
      "Testing accuracy 0.9534883720930233 random state 191\n",
      "Testing accuracy 0.9767441860465116 random state 192\n",
      "Testing accuracy 0.9534883720930233 random state 193\n",
      "Testing accuracy 0.9302325581395349 random state 194\n",
      "Testing accuracy 0.9534883720930233 random state 195\n",
      "Testing accuracy 0.9534883720930233 random state 196\n",
      "Testing accuracy 1.0 random state 197\n",
      "Testing accuracy 0.9767441860465116 random state 198\n",
      "Testing accuracy 0.9767441860465116 random state 199\n"
     ]
    }
   ],
   "source": [
    "max_acc=0\n",
    "max_rs=0\n",
    "\n",
    "for i in range(0,200):\n",
    "    x_train_ns,x_test,y_train_ns,y_test=train_test_split(x_scaled,y,random_state=i,test_size=0.20)\n",
    "    lr=LogisticRegression()\n",
    "    lr.fit(x_train_ns,y_train_ns)\n",
    "    pred_lr=lr.predict(x_test)\n",
    "    accuracy=accuracy_score(y_test,pred_lr)\n",
    "    print('Testing accuracy', accuracy,'random state',i)\n",
    "    \n",
    "    if accuracy>max_acc:\n",
    "        max_acc=accuracy\n",
    "        max_rs=i\n",
    "        print('max_accuracy',max_acc,'max_random_state',i)\n",
    "        "
   ]
  },
  {
   "cell_type": "markdown",
   "id": "52f9fdf0",
   "metadata": {},
   "source": [
    "We find max accuracy of 100% at random state 17"
   ]
  },
  {
   "cell_type": "markdown",
   "id": "3021e9c5",
   "metadata": {},
   "source": [
    "# Train Test Split"
   ]
  },
  {
   "cell_type": "code",
   "execution_count": 45,
   "id": "96ef0c1f",
   "metadata": {},
   "outputs": [],
   "source": [
    "x_train_ns,x_test,y_train_ns,y_test=train_test_split(x_scaled,y,random_state=17,test_size=0.20)\n"
   ]
  },
  {
   "cell_type": "code",
   "execution_count": 46,
   "id": "268ff7f4",
   "metadata": {},
   "outputs": [],
   "source": [
    "def metric_score(clf,x_train,x_test,y_train,y_test,train=True):\n",
    "    if train:\n",
    "        y_pred=clf.predict(x_train_ns)\n",
    "        print(f\"Accuracy score in training:{accuracy_score(y_train_ns,y_pred)*100:2f}%\")\n",
    "        \n",
    "    elif train==False:\n",
    "        pred=clf.predict(x_test)\n",
    "        print(f\"Accuracy score in testing:{accuracy_score(y_test,pred)*100:2f}%\")\n",
    "        \n",
    "        print(\"Classification report\\n\",classification_report(y_test,pred,digits=2))"
   ]
  },
  {
   "cell_type": "code",
   "execution_count": 47,
   "id": "03b2f47e",
   "metadata": {},
   "outputs": [],
   "source": [
    "lr=LogisticRegression()\n",
    "\n"
   ]
  },
  {
   "cell_type": "code",
   "execution_count": 48,
   "id": "b581db96",
   "metadata": {},
   "outputs": [
    {
     "data": {
      "text/html": [
       "<style>#sk-container-id-1 {color: black;background-color: white;}#sk-container-id-1 pre{padding: 0;}#sk-container-id-1 div.sk-toggleable {background-color: white;}#sk-container-id-1 label.sk-toggleable__label {cursor: pointer;display: block;width: 100%;margin-bottom: 0;padding: 0.3em;box-sizing: border-box;text-align: center;}#sk-container-id-1 label.sk-toggleable__label-arrow:before {content: \"▸\";float: left;margin-right: 0.25em;color: #696969;}#sk-container-id-1 label.sk-toggleable__label-arrow:hover:before {color: black;}#sk-container-id-1 div.sk-estimator:hover label.sk-toggleable__label-arrow:before {color: black;}#sk-container-id-1 div.sk-toggleable__content {max-height: 0;max-width: 0;overflow: hidden;text-align: left;background-color: #f0f8ff;}#sk-container-id-1 div.sk-toggleable__content pre {margin: 0.2em;color: black;border-radius: 0.25em;background-color: #f0f8ff;}#sk-container-id-1 input.sk-toggleable__control:checked~div.sk-toggleable__content {max-height: 200px;max-width: 100%;overflow: auto;}#sk-container-id-1 input.sk-toggleable__control:checked~label.sk-toggleable__label-arrow:before {content: \"▾\";}#sk-container-id-1 div.sk-estimator input.sk-toggleable__control:checked~label.sk-toggleable__label {background-color: #d4ebff;}#sk-container-id-1 div.sk-label input.sk-toggleable__control:checked~label.sk-toggleable__label {background-color: #d4ebff;}#sk-container-id-1 input.sk-hidden--visually {border: 0;clip: rect(1px 1px 1px 1px);clip: rect(1px, 1px, 1px, 1px);height: 1px;margin: -1px;overflow: hidden;padding: 0;position: absolute;width: 1px;}#sk-container-id-1 div.sk-estimator {font-family: monospace;background-color: #f0f8ff;border: 1px dotted black;border-radius: 0.25em;box-sizing: border-box;margin-bottom: 0.5em;}#sk-container-id-1 div.sk-estimator:hover {background-color: #d4ebff;}#sk-container-id-1 div.sk-parallel-item::after {content: \"\";width: 100%;border-bottom: 1px solid gray;flex-grow: 1;}#sk-container-id-1 div.sk-label:hover label.sk-toggleable__label {background-color: #d4ebff;}#sk-container-id-1 div.sk-serial::before {content: \"\";position: absolute;border-left: 1px solid gray;box-sizing: border-box;top: 0;bottom: 0;left: 50%;z-index: 0;}#sk-container-id-1 div.sk-serial {display: flex;flex-direction: column;align-items: center;background-color: white;padding-right: 0.2em;padding-left: 0.2em;position: relative;}#sk-container-id-1 div.sk-item {position: relative;z-index: 1;}#sk-container-id-1 div.sk-parallel {display: flex;align-items: stretch;justify-content: center;background-color: white;position: relative;}#sk-container-id-1 div.sk-item::before, #sk-container-id-1 div.sk-parallel-item::before {content: \"\";position: absolute;border-left: 1px solid gray;box-sizing: border-box;top: 0;bottom: 0;left: 50%;z-index: -1;}#sk-container-id-1 div.sk-parallel-item {display: flex;flex-direction: column;z-index: 1;position: relative;background-color: white;}#sk-container-id-1 div.sk-parallel-item:first-child::after {align-self: flex-end;width: 50%;}#sk-container-id-1 div.sk-parallel-item:last-child::after {align-self: flex-start;width: 50%;}#sk-container-id-1 div.sk-parallel-item:only-child::after {width: 0;}#sk-container-id-1 div.sk-dashed-wrapped {border: 1px dashed gray;margin: 0 0.4em 0.5em 0.4em;box-sizing: border-box;padding-bottom: 0.4em;background-color: white;}#sk-container-id-1 div.sk-label label {font-family: monospace;font-weight: bold;display: inline-block;line-height: 1.2em;}#sk-container-id-1 div.sk-label-container {text-align: center;}#sk-container-id-1 div.sk-container {/* jupyter's `normalize.less` sets `[hidden] { display: none; }` but bootstrap.min.css set `[hidden] { display: none !important; }` so we also need the `!important` here to be able to override the default hidden behavior on the sphinx rendered scikit-learn.org. See: https://github.com/scikit-learn/scikit-learn/issues/21755 */display: inline-block !important;position: relative;}#sk-container-id-1 div.sk-text-repr-fallback {display: none;}</style><div id=\"sk-container-id-1\" class=\"sk-top-container\"><div class=\"sk-text-repr-fallback\"><pre>LogisticRegression()</pre><b>In a Jupyter environment, please rerun this cell to show the HTML representation or trust the notebook. <br />On GitHub, the HTML representation is unable to render, please try loading this page with nbviewer.org.</b></div><div class=\"sk-container\" hidden><div class=\"sk-item\"><div class=\"sk-estimator sk-toggleable\"><input class=\"sk-toggleable__control sk-hidden--visually\" id=\"sk-estimator-id-1\" type=\"checkbox\" checked><label for=\"sk-estimator-id-1\" class=\"sk-toggleable__label sk-toggleable__label-arrow\">LogisticRegression</label><div class=\"sk-toggleable__content\"><pre>LogisticRegression()</pre></div></div></div></div></div>"
      ],
      "text/plain": [
       "LogisticRegression()"
      ]
     },
     "execution_count": 48,
     "metadata": {},
     "output_type": "execute_result"
    }
   ],
   "source": [
    "lr.fit(x_train_ns,y_train_ns)\n",
    "\n",
    "\n",
    "\n"
   ]
  },
  {
   "cell_type": "code",
   "execution_count": 49,
   "id": "7effe73d",
   "metadata": {},
   "outputs": [
    {
     "name": "stdout",
     "output_type": "stream",
     "text": [
      "Accuracy score in training:95.882353%\n"
     ]
    }
   ],
   "source": [
    "metric_score(lr,x_train_ns,x_test,y_train_ns,y_test,train=True)"
   ]
  },
  {
   "cell_type": "code",
   "execution_count": 50,
   "id": "539facc2",
   "metadata": {},
   "outputs": [
    {
     "name": "stdout",
     "output_type": "stream",
     "text": [
      "Accuracy score in testing:100.000000%\n",
      "Classification report\n",
      "               precision    recall  f1-score   support\n",
      "\n",
      "           0       1.00      1.00      1.00         9\n",
      "           1       1.00      1.00      1.00        34\n",
      "\n",
      "    accuracy                           1.00        43\n",
      "   macro avg       1.00      1.00      1.00        43\n",
      "weighted avg       1.00      1.00      1.00        43\n",
      "\n"
     ]
    }
   ],
   "source": [
    "metric_score(lr,x_train_ns,x_test,y_train_ns,y_test,train=False)"
   ]
  },
  {
   "cell_type": "code",
   "execution_count": 51,
   "id": "5a7d73c1",
   "metadata": {},
   "outputs": [
    {
     "data": {
      "text/plain": [
       "array([1, 0, 0, 1, 0, 1, 1, 1, 1, 1, 1, 1, 1, 1, 1, 1, 1, 1, 1, 1, 1, 0,\n",
       "       0, 1, 1, 0, 1, 1, 1, 1, 0, 1, 1, 0, 1, 1, 1, 0, 1, 1, 1, 1, 1])"
      ]
     },
     "execution_count": 51,
     "metadata": {},
     "output_type": "execute_result"
    }
   ],
   "source": [
    "y_pred=lr.predict(x_test)\n",
    "y_pred"
   ]
  },
  {
   "cell_type": "markdown",
   "id": "5aed7ce2",
   "metadata": {},
   "source": [
    "## Confusion Matrix"
   ]
  },
  {
   "cell_type": "code",
   "execution_count": 52,
   "id": "df83fbec",
   "metadata": {},
   "outputs": [
    {
     "data": {
      "text/plain": [
       "array([[ 9,  0],\n",
       "       [ 0, 34]], dtype=int64)"
      ]
     },
     "execution_count": 52,
     "metadata": {},
     "output_type": "execute_result"
    }
   ],
   "source": [
    "conf_mat=confusion_matrix(y_test,y_pred)\n",
    "conf_mat"
   ]
  },
  {
   "cell_type": "markdown",
   "id": "b1ce3a02",
   "metadata": {},
   "source": [
    "## Finding best Cross validation score for logistic regression:"
   ]
  },
  {
   "cell_type": "code",
   "execution_count": 53,
   "id": "db39da9c",
   "metadata": {},
   "outputs": [
    {
     "name": "stdout",
     "output_type": "stream",
     "text": [
      "cv at  2\n",
      "Cross validation score is :- 84.05484041615236\n",
      "\n",
      "cv at  3\n",
      "Cross validation score is :- 87.79342723004694\n",
      "\n",
      "cv at  4\n",
      "Cross validation score is :- 90.13801537386443\n",
      "\n",
      "cv at  5\n",
      "Cross validation score is :- 88.26135105204872\n",
      "\n",
      "cv at  6\n",
      "Cross validation score is :- 90.1984126984127\n",
      "\n",
      "cv at  7\n",
      "Cross validation score is :- 91.53609831029186\n",
      "\n",
      "cv at  8\n",
      "Cross validation score is :- 90.15313390313389\n",
      "\n",
      "cv at  9\n",
      "Cross validation score is :- 93.01529790660226\n",
      "\n"
     ]
    }
   ],
   "source": [
    "pred_lr=lr.predict(x_test)\n",
    "from sklearn.model_selection import cross_val_score\n",
    "lss=accuracy_score(y_test,pred_lr)\n",
    "for j in range(2,10):\n",
    "    cv_score=cross_val_score(lr,x,y,cv=j)\n",
    "    cv_score_mean=cv_score.mean()\n",
    "    print(\"cv at \", j)\n",
    "    print(\"Cross validation score is :-\", cv_score_mean*100)\n",
    "    print()"
   ]
  },
  {
   "cell_type": "markdown",
   "id": "ee517ffc",
   "metadata": {},
   "source": [
    "At cv=9 we got maximum validation score of 93.01"
   ]
  },
  {
   "cell_type": "code",
   "execution_count": 54,
   "id": "f5ff1fc7",
   "metadata": {},
   "outputs": [
    {
     "name": "stdout",
     "output_type": "stream",
     "text": [
      "the cv score is  0.9301529790660226\n"
     ]
    }
   ],
   "source": [
    "lssscore_selected=cross_val_score(lr,x_scaled,y,cv=9).mean()\n",
    "print(\"the cv score is \",lssscore_selected)"
   ]
  },
  {
   "cell_type": "markdown",
   "id": "b538076f",
   "metadata": {},
   "source": [
    "There we found that at cv=9 and random state =17 we have testing accuracy =100% and cross_val score=93.01%"
   ]
  },
  {
   "cell_type": "markdown",
   "id": "b818abad",
   "metadata": {},
   "source": [
    "# Hyperparameter Tuning using Grid search cv"
   ]
  },
  {
   "cell_type": "code",
   "execution_count": 55,
   "id": "2e80ca44",
   "metadata": {},
   "outputs": [],
   "source": [
    "from sklearn.model_selection import GridSearchCV\n",
    "\n",
    "\n",
    "\n",
    "\n"
   ]
  },
  {
   "cell_type": "code",
   "execution_count": 56,
   "id": "fe34fd76",
   "metadata": {},
   "outputs": [],
   "source": [
    "param_grid={'penalty':['l1','l2','elesticnet','none'],\n",
    "           'solver':['lbfgs','newton-cg','liblinear','sag'],\n",
    "           'max_iter':[100,1000,2500]}\n"
   ]
  },
  {
   "cell_type": "code",
   "execution_count": 57,
   "id": "bf41b842",
   "metadata": {},
   "outputs": [
    {
     "name": "stdout",
     "output_type": "stream",
     "text": [
      "best_parameters {'max_iter': 100, 'penalty': 'none', 'solver': 'sag'}\n"
     ]
    }
   ],
   "source": [
    "grid_srch=GridSearchCV(estimator=lr,param_grid=param_grid)\n",
    "\n",
    "grid_srch.fit(x_train_ns,y_train_ns)\n",
    "\n",
    "print('best_parameters',grid_srch.best_params_)"
   ]
  },
  {
   "cell_type": "code",
   "execution_count": 58,
   "id": "1fc3a28a",
   "metadata": {},
   "outputs": [],
   "source": [
    "lr=grid_srch.best_estimator_"
   ]
  },
  {
   "cell_type": "code",
   "execution_count": 59,
   "id": "8eb94038",
   "metadata": {},
   "outputs": [
    {
     "name": "stdout",
     "output_type": "stream",
     "text": [
      "Accuracy score in training:96.470588%\n"
     ]
    }
   ],
   "source": [
    "metric_score(lr,x_train_ns,x_test,y_train_ns,y_test,train=True)"
   ]
  },
  {
   "cell_type": "code",
   "execution_count": 60,
   "id": "215f4b78",
   "metadata": {},
   "outputs": [
    {
     "name": "stdout",
     "output_type": "stream",
     "text": [
      "Accuracy score in testing:100.000000%\n",
      "Classification report\n",
      "               precision    recall  f1-score   support\n",
      "\n",
      "           0       1.00      1.00      1.00         9\n",
      "           1       1.00      1.00      1.00        34\n",
      "\n",
      "    accuracy                           1.00        43\n",
      "   macro avg       1.00      1.00      1.00        43\n",
      "weighted avg       1.00      1.00      1.00        43\n",
      "\n"
     ]
    }
   ],
   "source": [
    "metric_score(lr,x_train,x_test,y_train,y_test,train=False)"
   ]
  },
  {
   "cell_type": "markdown",
   "id": "df1cda36",
   "metadata": {},
   "source": [
    "## Cross validation score"
   ]
  },
  {
   "cell_type": "code",
   "execution_count": 61,
   "id": "b4532094",
   "metadata": {},
   "outputs": [
    {
     "name": "stdout",
     "output_type": "stream",
     "text": [
      "the cv score is  0.9160628019323672\n"
     ]
    }
   ],
   "source": [
    "lssscore_selected=cross_val_score(lr,x_scaled,y,cv=9).mean()\n",
    "print(\"the cv score is \",lssscore_selected)"
   ]
  },
  {
   "cell_type": "markdown",
   "id": "16ee4baf",
   "metadata": {},
   "source": [
    "## Conclusion(Logistic Regression)"
   ]
  },
  {
   "cell_type": "raw",
   "id": "34021dad",
   "metadata": {},
   "source": [
    "After hyperparameter tuning\n",
    "Training accuracy :96.47\n",
    "Testing score: 100\n",
    "cv_score:91.14"
   ]
  },
  {
   "cell_type": "markdown",
   "id": "d2c35729",
   "metadata": {},
   "source": [
    "# Using Random Forest Classifier"
   ]
  },
  {
   "cell_type": "code",
   "execution_count": 62,
   "id": "720fa80f",
   "metadata": {},
   "outputs": [],
   "source": [
    "from sklearn.ensemble import RandomForestClassifier\n",
    "\n"
   ]
  },
  {
   "cell_type": "code",
   "execution_count": 63,
   "id": "9e2f3ab3",
   "metadata": {},
   "outputs": [],
   "source": [
    "rf=RandomForestClassifier()"
   ]
  },
  {
   "cell_type": "code",
   "execution_count": 64,
   "id": "89f2046a",
   "metadata": {},
   "outputs": [
    {
     "data": {
      "text/html": [
       "<style>#sk-container-id-2 {color: black;background-color: white;}#sk-container-id-2 pre{padding: 0;}#sk-container-id-2 div.sk-toggleable {background-color: white;}#sk-container-id-2 label.sk-toggleable__label {cursor: pointer;display: block;width: 100%;margin-bottom: 0;padding: 0.3em;box-sizing: border-box;text-align: center;}#sk-container-id-2 label.sk-toggleable__label-arrow:before {content: \"▸\";float: left;margin-right: 0.25em;color: #696969;}#sk-container-id-2 label.sk-toggleable__label-arrow:hover:before {color: black;}#sk-container-id-2 div.sk-estimator:hover label.sk-toggleable__label-arrow:before {color: black;}#sk-container-id-2 div.sk-toggleable__content {max-height: 0;max-width: 0;overflow: hidden;text-align: left;background-color: #f0f8ff;}#sk-container-id-2 div.sk-toggleable__content pre {margin: 0.2em;color: black;border-radius: 0.25em;background-color: #f0f8ff;}#sk-container-id-2 input.sk-toggleable__control:checked~div.sk-toggleable__content {max-height: 200px;max-width: 100%;overflow: auto;}#sk-container-id-2 input.sk-toggleable__control:checked~label.sk-toggleable__label-arrow:before {content: \"▾\";}#sk-container-id-2 div.sk-estimator input.sk-toggleable__control:checked~label.sk-toggleable__label {background-color: #d4ebff;}#sk-container-id-2 div.sk-label input.sk-toggleable__control:checked~label.sk-toggleable__label {background-color: #d4ebff;}#sk-container-id-2 input.sk-hidden--visually {border: 0;clip: rect(1px 1px 1px 1px);clip: rect(1px, 1px, 1px, 1px);height: 1px;margin: -1px;overflow: hidden;padding: 0;position: absolute;width: 1px;}#sk-container-id-2 div.sk-estimator {font-family: monospace;background-color: #f0f8ff;border: 1px dotted black;border-radius: 0.25em;box-sizing: border-box;margin-bottom: 0.5em;}#sk-container-id-2 div.sk-estimator:hover {background-color: #d4ebff;}#sk-container-id-2 div.sk-parallel-item::after {content: \"\";width: 100%;border-bottom: 1px solid gray;flex-grow: 1;}#sk-container-id-2 div.sk-label:hover label.sk-toggleable__label {background-color: #d4ebff;}#sk-container-id-2 div.sk-serial::before {content: \"\";position: absolute;border-left: 1px solid gray;box-sizing: border-box;top: 0;bottom: 0;left: 50%;z-index: 0;}#sk-container-id-2 div.sk-serial {display: flex;flex-direction: column;align-items: center;background-color: white;padding-right: 0.2em;padding-left: 0.2em;position: relative;}#sk-container-id-2 div.sk-item {position: relative;z-index: 1;}#sk-container-id-2 div.sk-parallel {display: flex;align-items: stretch;justify-content: center;background-color: white;position: relative;}#sk-container-id-2 div.sk-item::before, #sk-container-id-2 div.sk-parallel-item::before {content: \"\";position: absolute;border-left: 1px solid gray;box-sizing: border-box;top: 0;bottom: 0;left: 50%;z-index: -1;}#sk-container-id-2 div.sk-parallel-item {display: flex;flex-direction: column;z-index: 1;position: relative;background-color: white;}#sk-container-id-2 div.sk-parallel-item:first-child::after {align-self: flex-end;width: 50%;}#sk-container-id-2 div.sk-parallel-item:last-child::after {align-self: flex-start;width: 50%;}#sk-container-id-2 div.sk-parallel-item:only-child::after {width: 0;}#sk-container-id-2 div.sk-dashed-wrapped {border: 1px dashed gray;margin: 0 0.4em 0.5em 0.4em;box-sizing: border-box;padding-bottom: 0.4em;background-color: white;}#sk-container-id-2 div.sk-label label {font-family: monospace;font-weight: bold;display: inline-block;line-height: 1.2em;}#sk-container-id-2 div.sk-label-container {text-align: center;}#sk-container-id-2 div.sk-container {/* jupyter's `normalize.less` sets `[hidden] { display: none; }` but bootstrap.min.css set `[hidden] { display: none !important; }` so we also need the `!important` here to be able to override the default hidden behavior on the sphinx rendered scikit-learn.org. See: https://github.com/scikit-learn/scikit-learn/issues/21755 */display: inline-block !important;position: relative;}#sk-container-id-2 div.sk-text-repr-fallback {display: none;}</style><div id=\"sk-container-id-2\" class=\"sk-top-container\"><div class=\"sk-text-repr-fallback\"><pre>RandomForestClassifier()</pre><b>In a Jupyter environment, please rerun this cell to show the HTML representation or trust the notebook. <br />On GitHub, the HTML representation is unable to render, please try loading this page with nbviewer.org.</b></div><div class=\"sk-container\" hidden><div class=\"sk-item\"><div class=\"sk-estimator sk-toggleable\"><input class=\"sk-toggleable__control sk-hidden--visually\" id=\"sk-estimator-id-2\" type=\"checkbox\" checked><label for=\"sk-estimator-id-2\" class=\"sk-toggleable__label sk-toggleable__label-arrow\">RandomForestClassifier</label><div class=\"sk-toggleable__content\"><pre>RandomForestClassifier()</pre></div></div></div></div></div>"
      ],
      "text/plain": [
       "RandomForestClassifier()"
      ]
     },
     "execution_count": 64,
     "metadata": {},
     "output_type": "execute_result"
    }
   ],
   "source": [
    "rf.fit(x_train_ns,y_train_ns)"
   ]
  },
  {
   "cell_type": "code",
   "execution_count": 65,
   "id": "b5aa67d1",
   "metadata": {},
   "outputs": [
    {
     "name": "stdout",
     "output_type": "stream",
     "text": [
      "Accuracy score in training:100.000000%\n"
     ]
    }
   ],
   "source": [
    "metric_score(rf,x_train_ns,x_test,y_train_ns,y_test,train=True)"
   ]
  },
  {
   "cell_type": "code",
   "execution_count": 66,
   "id": "4b9d4bfd",
   "metadata": {},
   "outputs": [
    {
     "name": "stdout",
     "output_type": "stream",
     "text": [
      "Accuracy score in testing:97.674419%\n",
      "Classification report\n",
      "               precision    recall  f1-score   support\n",
      "\n",
      "           0       0.90      1.00      0.95         9\n",
      "           1       1.00      0.97      0.99        34\n",
      "\n",
      "    accuracy                           0.98        43\n",
      "   macro avg       0.95      0.99      0.97        43\n",
      "weighted avg       0.98      0.98      0.98        43\n",
      "\n"
     ]
    }
   ],
   "source": [
    "metric_score(rf,x_train_ns,x_test,y_train_ns,y_test,train=False)\n"
   ]
  },
  {
   "cell_type": "code",
   "execution_count": 67,
   "id": "ba2fa60b",
   "metadata": {},
   "outputs": [
    {
     "name": "stdout",
     "output_type": "stream",
     "text": [
      "the cv score is  0.8828502415458936\n"
     ]
    }
   ],
   "source": [
    "lssscore_selected=cross_val_score(rf,x_scaled,y,cv=9).mean()\n",
    "print(\"the cv score is \",lssscore_selected)\n"
   ]
  },
  {
   "cell_type": "markdown",
   "id": "f3bc0670",
   "metadata": {},
   "source": [
    "# Confusion Matrix"
   ]
  },
  {
   "cell_type": "code",
   "execution_count": 68,
   "id": "a49f88b6",
   "metadata": {
    "scrolled": true
   },
   "outputs": [],
   "source": [
    "y_pred=rf.predict(x_test)"
   ]
  },
  {
   "cell_type": "code",
   "execution_count": 69,
   "id": "aa39d563",
   "metadata": {},
   "outputs": [
    {
     "data": {
      "text/plain": [
       "array([[ 9,  0],\n",
       "       [ 1, 33]], dtype=int64)"
      ]
     },
     "execution_count": 69,
     "metadata": {},
     "output_type": "execute_result"
    }
   ],
   "source": [
    "conf_mat=confusion_matrix(y_test,y_pred)\n",
    "conf_mat"
   ]
  },
  {
   "cell_type": "markdown",
   "id": "2ab10a16",
   "metadata": {},
   "source": [
    "## Hyperparameter Tuning"
   ]
  },
  {
   "cell_type": "code",
   "execution_count": 70,
   "id": "055ba2f9",
   "metadata": {},
   "outputs": [],
   "source": [
    "params={'n_estimators':[10,15],\n",
    "       'criterion':['entropy','gini'],\n",
    "       'max_depth':[5,25],\n",
    "       'min_samples_split':[3,4,5,6,7,8]}"
   ]
  },
  {
   "cell_type": "code",
   "execution_count": 71,
   "id": "6148003a",
   "metadata": {},
   "outputs": [],
   "source": [
    "grd=GridSearchCV(estimator=rf,param_grid=params)"
   ]
  },
  {
   "cell_type": "code",
   "execution_count": 72,
   "id": "7fa17c08",
   "metadata": {},
   "outputs": [
    {
     "data": {
      "text/html": [
       "<style>#sk-container-id-3 {color: black;background-color: white;}#sk-container-id-3 pre{padding: 0;}#sk-container-id-3 div.sk-toggleable {background-color: white;}#sk-container-id-3 label.sk-toggleable__label {cursor: pointer;display: block;width: 100%;margin-bottom: 0;padding: 0.3em;box-sizing: border-box;text-align: center;}#sk-container-id-3 label.sk-toggleable__label-arrow:before {content: \"▸\";float: left;margin-right: 0.25em;color: #696969;}#sk-container-id-3 label.sk-toggleable__label-arrow:hover:before {color: black;}#sk-container-id-3 div.sk-estimator:hover label.sk-toggleable__label-arrow:before {color: black;}#sk-container-id-3 div.sk-toggleable__content {max-height: 0;max-width: 0;overflow: hidden;text-align: left;background-color: #f0f8ff;}#sk-container-id-3 div.sk-toggleable__content pre {margin: 0.2em;color: black;border-radius: 0.25em;background-color: #f0f8ff;}#sk-container-id-3 input.sk-toggleable__control:checked~div.sk-toggleable__content {max-height: 200px;max-width: 100%;overflow: auto;}#sk-container-id-3 input.sk-toggleable__control:checked~label.sk-toggleable__label-arrow:before {content: \"▾\";}#sk-container-id-3 div.sk-estimator input.sk-toggleable__control:checked~label.sk-toggleable__label {background-color: #d4ebff;}#sk-container-id-3 div.sk-label input.sk-toggleable__control:checked~label.sk-toggleable__label {background-color: #d4ebff;}#sk-container-id-3 input.sk-hidden--visually {border: 0;clip: rect(1px 1px 1px 1px);clip: rect(1px, 1px, 1px, 1px);height: 1px;margin: -1px;overflow: hidden;padding: 0;position: absolute;width: 1px;}#sk-container-id-3 div.sk-estimator {font-family: monospace;background-color: #f0f8ff;border: 1px dotted black;border-radius: 0.25em;box-sizing: border-box;margin-bottom: 0.5em;}#sk-container-id-3 div.sk-estimator:hover {background-color: #d4ebff;}#sk-container-id-3 div.sk-parallel-item::after {content: \"\";width: 100%;border-bottom: 1px solid gray;flex-grow: 1;}#sk-container-id-3 div.sk-label:hover label.sk-toggleable__label {background-color: #d4ebff;}#sk-container-id-3 div.sk-serial::before {content: \"\";position: absolute;border-left: 1px solid gray;box-sizing: border-box;top: 0;bottom: 0;left: 50%;z-index: 0;}#sk-container-id-3 div.sk-serial {display: flex;flex-direction: column;align-items: center;background-color: white;padding-right: 0.2em;padding-left: 0.2em;position: relative;}#sk-container-id-3 div.sk-item {position: relative;z-index: 1;}#sk-container-id-3 div.sk-parallel {display: flex;align-items: stretch;justify-content: center;background-color: white;position: relative;}#sk-container-id-3 div.sk-item::before, #sk-container-id-3 div.sk-parallel-item::before {content: \"\";position: absolute;border-left: 1px solid gray;box-sizing: border-box;top: 0;bottom: 0;left: 50%;z-index: -1;}#sk-container-id-3 div.sk-parallel-item {display: flex;flex-direction: column;z-index: 1;position: relative;background-color: white;}#sk-container-id-3 div.sk-parallel-item:first-child::after {align-self: flex-end;width: 50%;}#sk-container-id-3 div.sk-parallel-item:last-child::after {align-self: flex-start;width: 50%;}#sk-container-id-3 div.sk-parallel-item:only-child::after {width: 0;}#sk-container-id-3 div.sk-dashed-wrapped {border: 1px dashed gray;margin: 0 0.4em 0.5em 0.4em;box-sizing: border-box;padding-bottom: 0.4em;background-color: white;}#sk-container-id-3 div.sk-label label {font-family: monospace;font-weight: bold;display: inline-block;line-height: 1.2em;}#sk-container-id-3 div.sk-label-container {text-align: center;}#sk-container-id-3 div.sk-container {/* jupyter's `normalize.less` sets `[hidden] { display: none; }` but bootstrap.min.css set `[hidden] { display: none !important; }` so we also need the `!important` here to be able to override the default hidden behavior on the sphinx rendered scikit-learn.org. See: https://github.com/scikit-learn/scikit-learn/issues/21755 */display: inline-block !important;position: relative;}#sk-container-id-3 div.sk-text-repr-fallback {display: none;}</style><div id=\"sk-container-id-3\" class=\"sk-top-container\"><div class=\"sk-text-repr-fallback\"><pre>GridSearchCV(estimator=RandomForestClassifier(),\n",
       "             param_grid={&#x27;criterion&#x27;: [&#x27;entropy&#x27;, &#x27;gini&#x27;], &#x27;max_depth&#x27;: [5, 25],\n",
       "                         &#x27;min_samples_split&#x27;: [3, 4, 5, 6, 7, 8],\n",
       "                         &#x27;n_estimators&#x27;: [10, 15]})</pre><b>In a Jupyter environment, please rerun this cell to show the HTML representation or trust the notebook. <br />On GitHub, the HTML representation is unable to render, please try loading this page with nbviewer.org.</b></div><div class=\"sk-container\" hidden><div class=\"sk-item sk-dashed-wrapped\"><div class=\"sk-label-container\"><div class=\"sk-label sk-toggleable\"><input class=\"sk-toggleable__control sk-hidden--visually\" id=\"sk-estimator-id-3\" type=\"checkbox\" ><label for=\"sk-estimator-id-3\" class=\"sk-toggleable__label sk-toggleable__label-arrow\">GridSearchCV</label><div class=\"sk-toggleable__content\"><pre>GridSearchCV(estimator=RandomForestClassifier(),\n",
       "             param_grid={&#x27;criterion&#x27;: [&#x27;entropy&#x27;, &#x27;gini&#x27;], &#x27;max_depth&#x27;: [5, 25],\n",
       "                         &#x27;min_samples_split&#x27;: [3, 4, 5, 6, 7, 8],\n",
       "                         &#x27;n_estimators&#x27;: [10, 15]})</pre></div></div></div><div class=\"sk-parallel\"><div class=\"sk-parallel-item\"><div class=\"sk-item\"><div class=\"sk-label-container\"><div class=\"sk-label sk-toggleable\"><input class=\"sk-toggleable__control sk-hidden--visually\" id=\"sk-estimator-id-4\" type=\"checkbox\" ><label for=\"sk-estimator-id-4\" class=\"sk-toggleable__label sk-toggleable__label-arrow\">estimator: RandomForestClassifier</label><div class=\"sk-toggleable__content\"><pre>RandomForestClassifier()</pre></div></div></div><div class=\"sk-serial\"><div class=\"sk-item\"><div class=\"sk-estimator sk-toggleable\"><input class=\"sk-toggleable__control sk-hidden--visually\" id=\"sk-estimator-id-5\" type=\"checkbox\" ><label for=\"sk-estimator-id-5\" class=\"sk-toggleable__label sk-toggleable__label-arrow\">RandomForestClassifier</label><div class=\"sk-toggleable__content\"><pre>RandomForestClassifier()</pre></div></div></div></div></div></div></div></div></div></div>"
      ],
      "text/plain": [
       "GridSearchCV(estimator=RandomForestClassifier(),\n",
       "             param_grid={'criterion': ['entropy', 'gini'], 'max_depth': [5, 25],\n",
       "                         'min_samples_split': [3, 4, 5, 6, 7, 8],\n",
       "                         'n_estimators': [10, 15]})"
      ]
     },
     "execution_count": 72,
     "metadata": {},
     "output_type": "execute_result"
    }
   ],
   "source": [
    "grd.fit(x_train_ns,y_train_ns)"
   ]
  },
  {
   "cell_type": "code",
   "execution_count": 73,
   "id": "dfada610",
   "metadata": {},
   "outputs": [],
   "source": [
    "rf=grd.best_estimator_"
   ]
  },
  {
   "cell_type": "code",
   "execution_count": 74,
   "id": "b6a088ba",
   "metadata": {},
   "outputs": [
    {
     "name": "stdout",
     "output_type": "stream",
     "text": [
      "Accuracy score in training:98.823529%\n"
     ]
    }
   ],
   "source": [
    "metric_score(rf,x_train_ns,x_test,y_train_ns,y_test,train=True)"
   ]
  },
  {
   "cell_type": "code",
   "execution_count": 75,
   "id": "8eefc143",
   "metadata": {},
   "outputs": [
    {
     "name": "stdout",
     "output_type": "stream",
     "text": [
      "Accuracy score in testing:97.674419%\n",
      "Classification report\n",
      "               precision    recall  f1-score   support\n",
      "\n",
      "           0       0.90      1.00      0.95         9\n",
      "           1       1.00      0.97      0.99        34\n",
      "\n",
      "    accuracy                           0.98        43\n",
      "   macro avg       0.95      0.99      0.97        43\n",
      "weighted avg       0.98      0.98      0.98        43\n",
      "\n"
     ]
    }
   ],
   "source": [
    "metric_score(rf,x_train_ns,x_test,y_train_ns,y_test,train=False)"
   ]
  },
  {
   "cell_type": "code",
   "execution_count": 76,
   "id": "bfe6c0f1",
   "metadata": {},
   "outputs": [
    {
     "name": "stdout",
     "output_type": "stream",
     "text": [
      "the cv score is  0.873389694041868\n"
     ]
    }
   ],
   "source": [
    "lssscore_selected=cross_val_score(rf,x_scaled,y,cv=9).mean()\n",
    "print(\"the cv score is \",lssscore_selected)"
   ]
  },
  {
   "cell_type": "markdown",
   "id": "beff3fce",
   "metadata": {},
   "source": [
    "## Conclusion(Random Forest Classifier)"
   ]
  },
  {
   "cell_type": "raw",
   "id": "4843bdbc",
   "metadata": {},
   "source": [
    "After hyperparameter tuning\n",
    "Training accuracy :99.41\n",
    "Testing score: 97.67\n",
    "cv_score:89.71"
   ]
  },
  {
   "cell_type": "markdown",
   "id": "225f558e",
   "metadata": {},
   "source": [
    "# Using KNN Classifier"
   ]
  },
  {
   "cell_type": "code",
   "execution_count": 77,
   "id": "9463bf8e",
   "metadata": {},
   "outputs": [],
   "source": [
    "from sklearn.neighbors import KNeighborsClassifier\n"
   ]
  },
  {
   "cell_type": "code",
   "execution_count": 78,
   "id": "47e92174",
   "metadata": {},
   "outputs": [],
   "source": [
    "knn=KNeighborsClassifier()"
   ]
  },
  {
   "cell_type": "code",
   "execution_count": 79,
   "id": "5fd01dde",
   "metadata": {},
   "outputs": [
    {
     "data": {
      "text/html": [
       "<style>#sk-container-id-4 {color: black;background-color: white;}#sk-container-id-4 pre{padding: 0;}#sk-container-id-4 div.sk-toggleable {background-color: white;}#sk-container-id-4 label.sk-toggleable__label {cursor: pointer;display: block;width: 100%;margin-bottom: 0;padding: 0.3em;box-sizing: border-box;text-align: center;}#sk-container-id-4 label.sk-toggleable__label-arrow:before {content: \"▸\";float: left;margin-right: 0.25em;color: #696969;}#sk-container-id-4 label.sk-toggleable__label-arrow:hover:before {color: black;}#sk-container-id-4 div.sk-estimator:hover label.sk-toggleable__label-arrow:before {color: black;}#sk-container-id-4 div.sk-toggleable__content {max-height: 0;max-width: 0;overflow: hidden;text-align: left;background-color: #f0f8ff;}#sk-container-id-4 div.sk-toggleable__content pre {margin: 0.2em;color: black;border-radius: 0.25em;background-color: #f0f8ff;}#sk-container-id-4 input.sk-toggleable__control:checked~div.sk-toggleable__content {max-height: 200px;max-width: 100%;overflow: auto;}#sk-container-id-4 input.sk-toggleable__control:checked~label.sk-toggleable__label-arrow:before {content: \"▾\";}#sk-container-id-4 div.sk-estimator input.sk-toggleable__control:checked~label.sk-toggleable__label {background-color: #d4ebff;}#sk-container-id-4 div.sk-label input.sk-toggleable__control:checked~label.sk-toggleable__label {background-color: #d4ebff;}#sk-container-id-4 input.sk-hidden--visually {border: 0;clip: rect(1px 1px 1px 1px);clip: rect(1px, 1px, 1px, 1px);height: 1px;margin: -1px;overflow: hidden;padding: 0;position: absolute;width: 1px;}#sk-container-id-4 div.sk-estimator {font-family: monospace;background-color: #f0f8ff;border: 1px dotted black;border-radius: 0.25em;box-sizing: border-box;margin-bottom: 0.5em;}#sk-container-id-4 div.sk-estimator:hover {background-color: #d4ebff;}#sk-container-id-4 div.sk-parallel-item::after {content: \"\";width: 100%;border-bottom: 1px solid gray;flex-grow: 1;}#sk-container-id-4 div.sk-label:hover label.sk-toggleable__label {background-color: #d4ebff;}#sk-container-id-4 div.sk-serial::before {content: \"\";position: absolute;border-left: 1px solid gray;box-sizing: border-box;top: 0;bottom: 0;left: 50%;z-index: 0;}#sk-container-id-4 div.sk-serial {display: flex;flex-direction: column;align-items: center;background-color: white;padding-right: 0.2em;padding-left: 0.2em;position: relative;}#sk-container-id-4 div.sk-item {position: relative;z-index: 1;}#sk-container-id-4 div.sk-parallel {display: flex;align-items: stretch;justify-content: center;background-color: white;position: relative;}#sk-container-id-4 div.sk-item::before, #sk-container-id-4 div.sk-parallel-item::before {content: \"\";position: absolute;border-left: 1px solid gray;box-sizing: border-box;top: 0;bottom: 0;left: 50%;z-index: -1;}#sk-container-id-4 div.sk-parallel-item {display: flex;flex-direction: column;z-index: 1;position: relative;background-color: white;}#sk-container-id-4 div.sk-parallel-item:first-child::after {align-self: flex-end;width: 50%;}#sk-container-id-4 div.sk-parallel-item:last-child::after {align-self: flex-start;width: 50%;}#sk-container-id-4 div.sk-parallel-item:only-child::after {width: 0;}#sk-container-id-4 div.sk-dashed-wrapped {border: 1px dashed gray;margin: 0 0.4em 0.5em 0.4em;box-sizing: border-box;padding-bottom: 0.4em;background-color: white;}#sk-container-id-4 div.sk-label label {font-family: monospace;font-weight: bold;display: inline-block;line-height: 1.2em;}#sk-container-id-4 div.sk-label-container {text-align: center;}#sk-container-id-4 div.sk-container {/* jupyter's `normalize.less` sets `[hidden] { display: none; }` but bootstrap.min.css set `[hidden] { display: none !important; }` so we also need the `!important` here to be able to override the default hidden behavior on the sphinx rendered scikit-learn.org. See: https://github.com/scikit-learn/scikit-learn/issues/21755 */display: inline-block !important;position: relative;}#sk-container-id-4 div.sk-text-repr-fallback {display: none;}</style><div id=\"sk-container-id-4\" class=\"sk-top-container\"><div class=\"sk-text-repr-fallback\"><pre>KNeighborsClassifier()</pre><b>In a Jupyter environment, please rerun this cell to show the HTML representation or trust the notebook. <br />On GitHub, the HTML representation is unable to render, please try loading this page with nbviewer.org.</b></div><div class=\"sk-container\" hidden><div class=\"sk-item\"><div class=\"sk-estimator sk-toggleable\"><input class=\"sk-toggleable__control sk-hidden--visually\" id=\"sk-estimator-id-6\" type=\"checkbox\" checked><label for=\"sk-estimator-id-6\" class=\"sk-toggleable__label sk-toggleable__label-arrow\">KNeighborsClassifier</label><div class=\"sk-toggleable__content\"><pre>KNeighborsClassifier()</pre></div></div></div></div></div>"
      ],
      "text/plain": [
       "KNeighborsClassifier()"
      ]
     },
     "execution_count": 79,
     "metadata": {},
     "output_type": "execute_result"
    }
   ],
   "source": [
    "knn.fit(x_train_ns,y_train_ns)"
   ]
  },
  {
   "cell_type": "code",
   "execution_count": 80,
   "id": "c82b1fba",
   "metadata": {},
   "outputs": [
    {
     "name": "stdout",
     "output_type": "stream",
     "text": [
      "Accuracy score in training:94.117647%\n"
     ]
    }
   ],
   "source": [
    "metric_score(knn,x_train_ns,x_test,y_train_ns,y_test,train=True)\n"
   ]
  },
  {
   "cell_type": "code",
   "execution_count": 81,
   "id": "6eaec713",
   "metadata": {},
   "outputs": [
    {
     "name": "stdout",
     "output_type": "stream",
     "text": [
      "Accuracy score in testing:95.348837%\n",
      "Classification report\n",
      "               precision    recall  f1-score   support\n",
      "\n",
      "           0       0.89      0.89      0.89         9\n",
      "           1       0.97      0.97      0.97        34\n",
      "\n",
      "    accuracy                           0.95        43\n",
      "   macro avg       0.93      0.93      0.93        43\n",
      "weighted avg       0.95      0.95      0.95        43\n",
      "\n"
     ]
    }
   ],
   "source": [
    "metric_score(knn,x_train_ns,x_test,y_train_ns,y_test,train=False)"
   ]
  },
  {
   "cell_type": "code",
   "execution_count": 82,
   "id": "12ea3497",
   "metadata": {},
   "outputs": [
    {
     "name": "stdout",
     "output_type": "stream",
     "text": [
      "the cv score is  0.8880837359098229\n"
     ]
    }
   ],
   "source": [
    "lssscore_selected=cross_val_score(knn,x_scaled,y,cv=9).mean()\n",
    "print(\"the cv score is \",lssscore_selected)"
   ]
  },
  {
   "cell_type": "markdown",
   "id": "e76473fb",
   "metadata": {},
   "source": [
    "# Confusion Matrix"
   ]
  },
  {
   "cell_type": "code",
   "execution_count": 83,
   "id": "8f3d57cd",
   "metadata": {
    "scrolled": true
   },
   "outputs": [],
   "source": [
    "y_pred=knn.predict(x_test)\n"
   ]
  },
  {
   "cell_type": "code",
   "execution_count": 84,
   "id": "d91944aa",
   "metadata": {},
   "outputs": [
    {
     "data": {
      "text/plain": [
       "array([[ 8,  1],\n",
       "       [ 1, 33]], dtype=int64)"
      ]
     },
     "execution_count": 84,
     "metadata": {},
     "output_type": "execute_result"
    }
   ],
   "source": [
    "conf_mat=confusion_matrix(y_test,y_pred)\n",
    "conf_mat"
   ]
  },
  {
   "cell_type": "markdown",
   "id": "8e9df0df",
   "metadata": {},
   "source": [
    "## Hyperparameter Tuning"
   ]
  },
  {
   "cell_type": "code",
   "execution_count": 85,
   "id": "520dc212",
   "metadata": {},
   "outputs": [],
   "source": [
    "params={'algorithm':['kd_tree','brute'],\n",
    "       'leaf_size':[3,5,6,7,8,9,10],\n",
    "       'n_neighbors':[3,5,7,9,11,13,15]}"
   ]
  },
  {
   "cell_type": "code",
   "execution_count": 86,
   "id": "c32559b2",
   "metadata": {
    "scrolled": true
   },
   "outputs": [],
   "source": [
    "grd=GridSearchCV(estimator=knn,param_grid=params)\n"
   ]
  },
  {
   "cell_type": "code",
   "execution_count": 87,
   "id": "fedbef86",
   "metadata": {},
   "outputs": [
    {
     "data": {
      "text/html": [
       "<style>#sk-container-id-5 {color: black;background-color: white;}#sk-container-id-5 pre{padding: 0;}#sk-container-id-5 div.sk-toggleable {background-color: white;}#sk-container-id-5 label.sk-toggleable__label {cursor: pointer;display: block;width: 100%;margin-bottom: 0;padding: 0.3em;box-sizing: border-box;text-align: center;}#sk-container-id-5 label.sk-toggleable__label-arrow:before {content: \"▸\";float: left;margin-right: 0.25em;color: #696969;}#sk-container-id-5 label.sk-toggleable__label-arrow:hover:before {color: black;}#sk-container-id-5 div.sk-estimator:hover label.sk-toggleable__label-arrow:before {color: black;}#sk-container-id-5 div.sk-toggleable__content {max-height: 0;max-width: 0;overflow: hidden;text-align: left;background-color: #f0f8ff;}#sk-container-id-5 div.sk-toggleable__content pre {margin: 0.2em;color: black;border-radius: 0.25em;background-color: #f0f8ff;}#sk-container-id-5 input.sk-toggleable__control:checked~div.sk-toggleable__content {max-height: 200px;max-width: 100%;overflow: auto;}#sk-container-id-5 input.sk-toggleable__control:checked~label.sk-toggleable__label-arrow:before {content: \"▾\";}#sk-container-id-5 div.sk-estimator input.sk-toggleable__control:checked~label.sk-toggleable__label {background-color: #d4ebff;}#sk-container-id-5 div.sk-label input.sk-toggleable__control:checked~label.sk-toggleable__label {background-color: #d4ebff;}#sk-container-id-5 input.sk-hidden--visually {border: 0;clip: rect(1px 1px 1px 1px);clip: rect(1px, 1px, 1px, 1px);height: 1px;margin: -1px;overflow: hidden;padding: 0;position: absolute;width: 1px;}#sk-container-id-5 div.sk-estimator {font-family: monospace;background-color: #f0f8ff;border: 1px dotted black;border-radius: 0.25em;box-sizing: border-box;margin-bottom: 0.5em;}#sk-container-id-5 div.sk-estimator:hover {background-color: #d4ebff;}#sk-container-id-5 div.sk-parallel-item::after {content: \"\";width: 100%;border-bottom: 1px solid gray;flex-grow: 1;}#sk-container-id-5 div.sk-label:hover label.sk-toggleable__label {background-color: #d4ebff;}#sk-container-id-5 div.sk-serial::before {content: \"\";position: absolute;border-left: 1px solid gray;box-sizing: border-box;top: 0;bottom: 0;left: 50%;z-index: 0;}#sk-container-id-5 div.sk-serial {display: flex;flex-direction: column;align-items: center;background-color: white;padding-right: 0.2em;padding-left: 0.2em;position: relative;}#sk-container-id-5 div.sk-item {position: relative;z-index: 1;}#sk-container-id-5 div.sk-parallel {display: flex;align-items: stretch;justify-content: center;background-color: white;position: relative;}#sk-container-id-5 div.sk-item::before, #sk-container-id-5 div.sk-parallel-item::before {content: \"\";position: absolute;border-left: 1px solid gray;box-sizing: border-box;top: 0;bottom: 0;left: 50%;z-index: -1;}#sk-container-id-5 div.sk-parallel-item {display: flex;flex-direction: column;z-index: 1;position: relative;background-color: white;}#sk-container-id-5 div.sk-parallel-item:first-child::after {align-self: flex-end;width: 50%;}#sk-container-id-5 div.sk-parallel-item:last-child::after {align-self: flex-start;width: 50%;}#sk-container-id-5 div.sk-parallel-item:only-child::after {width: 0;}#sk-container-id-5 div.sk-dashed-wrapped {border: 1px dashed gray;margin: 0 0.4em 0.5em 0.4em;box-sizing: border-box;padding-bottom: 0.4em;background-color: white;}#sk-container-id-5 div.sk-label label {font-family: monospace;font-weight: bold;display: inline-block;line-height: 1.2em;}#sk-container-id-5 div.sk-label-container {text-align: center;}#sk-container-id-5 div.sk-container {/* jupyter's `normalize.less` sets `[hidden] { display: none; }` but bootstrap.min.css set `[hidden] { display: none !important; }` so we also need the `!important` here to be able to override the default hidden behavior on the sphinx rendered scikit-learn.org. See: https://github.com/scikit-learn/scikit-learn/issues/21755 */display: inline-block !important;position: relative;}#sk-container-id-5 div.sk-text-repr-fallback {display: none;}</style><div id=\"sk-container-id-5\" class=\"sk-top-container\"><div class=\"sk-text-repr-fallback\"><pre>GridSearchCV(estimator=KNeighborsClassifier(),\n",
       "             param_grid={&#x27;algorithm&#x27;: [&#x27;kd_tree&#x27;, &#x27;brute&#x27;],\n",
       "                         &#x27;leaf_size&#x27;: [3, 5, 6, 7, 8, 9, 10],\n",
       "                         &#x27;n_neighbors&#x27;: [3, 5, 7, 9, 11, 13, 15]})</pre><b>In a Jupyter environment, please rerun this cell to show the HTML representation or trust the notebook. <br />On GitHub, the HTML representation is unable to render, please try loading this page with nbviewer.org.</b></div><div class=\"sk-container\" hidden><div class=\"sk-item sk-dashed-wrapped\"><div class=\"sk-label-container\"><div class=\"sk-label sk-toggleable\"><input class=\"sk-toggleable__control sk-hidden--visually\" id=\"sk-estimator-id-7\" type=\"checkbox\" ><label for=\"sk-estimator-id-7\" class=\"sk-toggleable__label sk-toggleable__label-arrow\">GridSearchCV</label><div class=\"sk-toggleable__content\"><pre>GridSearchCV(estimator=KNeighborsClassifier(),\n",
       "             param_grid={&#x27;algorithm&#x27;: [&#x27;kd_tree&#x27;, &#x27;brute&#x27;],\n",
       "                         &#x27;leaf_size&#x27;: [3, 5, 6, 7, 8, 9, 10],\n",
       "                         &#x27;n_neighbors&#x27;: [3, 5, 7, 9, 11, 13, 15]})</pre></div></div></div><div class=\"sk-parallel\"><div class=\"sk-parallel-item\"><div class=\"sk-item\"><div class=\"sk-label-container\"><div class=\"sk-label sk-toggleable\"><input class=\"sk-toggleable__control sk-hidden--visually\" id=\"sk-estimator-id-8\" type=\"checkbox\" ><label for=\"sk-estimator-id-8\" class=\"sk-toggleable__label sk-toggleable__label-arrow\">estimator: KNeighborsClassifier</label><div class=\"sk-toggleable__content\"><pre>KNeighborsClassifier()</pre></div></div></div><div class=\"sk-serial\"><div class=\"sk-item\"><div class=\"sk-estimator sk-toggleable\"><input class=\"sk-toggleable__control sk-hidden--visually\" id=\"sk-estimator-id-9\" type=\"checkbox\" ><label for=\"sk-estimator-id-9\" class=\"sk-toggleable__label sk-toggleable__label-arrow\">KNeighborsClassifier</label><div class=\"sk-toggleable__content\"><pre>KNeighborsClassifier()</pre></div></div></div></div></div></div></div></div></div></div>"
      ],
      "text/plain": [
       "GridSearchCV(estimator=KNeighborsClassifier(),\n",
       "             param_grid={'algorithm': ['kd_tree', 'brute'],\n",
       "                         'leaf_size': [3, 5, 6, 7, 8, 9, 10],\n",
       "                         'n_neighbors': [3, 5, 7, 9, 11, 13, 15]})"
      ]
     },
     "execution_count": 87,
     "metadata": {},
     "output_type": "execute_result"
    }
   ],
   "source": [
    "grd.fit(x_train_ns,y_train_ns)"
   ]
  },
  {
   "cell_type": "code",
   "execution_count": 88,
   "id": "19309364",
   "metadata": {},
   "outputs": [],
   "source": [
    "knn=grd.best_estimator_"
   ]
  },
  {
   "cell_type": "code",
   "execution_count": 89,
   "id": "ac0a1f05",
   "metadata": {},
   "outputs": [
    {
     "name": "stdout",
     "output_type": "stream",
     "text": [
      "Accuracy score in training:94.117647%\n"
     ]
    }
   ],
   "source": [
    "metric_score(knn,x_train_ns,x_test,y_train_ns,y_test,train=True)"
   ]
  },
  {
   "cell_type": "code",
   "execution_count": 90,
   "id": "271267f7",
   "metadata": {},
   "outputs": [
    {
     "name": "stdout",
     "output_type": "stream",
     "text": [
      "Accuracy score in testing:97.674419%\n",
      "Classification report\n",
      "               precision    recall  f1-score   support\n",
      "\n",
      "           0       1.00      0.89      0.94         9\n",
      "           1       0.97      1.00      0.99        34\n",
      "\n",
      "    accuracy                           0.98        43\n",
      "   macro avg       0.99      0.94      0.96        43\n",
      "weighted avg       0.98      0.98      0.98        43\n",
      "\n"
     ]
    }
   ],
   "source": [
    "metric_score(knn,x_train_ns,x_test,y_train_ns,y_test,train=False)\n"
   ]
  },
  {
   "cell_type": "code",
   "execution_count": 91,
   "id": "33c8283c",
   "metadata": {},
   "outputs": [
    {
     "name": "stdout",
     "output_type": "stream",
     "text": [
      "the cv score is  0.8927133655394525\n"
     ]
    }
   ],
   "source": [
    "lssscore_selected=cross_val_score(knn,x_scaled,y,cv=9).mean()\n",
    "print(\"the cv score is \",lssscore_selected)"
   ]
  },
  {
   "cell_type": "markdown",
   "id": "0dcfeef1",
   "metadata": {},
   "source": [
    "## Conclusion(KNN)"
   ]
  },
  {
   "cell_type": "raw",
   "id": "058c200a",
   "metadata": {},
   "source": [
    "After hyperparameter tuning\n",
    "Training accuracy :94.11\n",
    "Testing score: 97.67\n",
    "cv_score:89.27"
   ]
  },
  {
   "cell_type": "markdown",
   "id": "6a01ad0a",
   "metadata": {},
   "source": [
    "# Using X-Gradient Boosting"
   ]
  },
  {
   "cell_type": "code",
   "execution_count": 92,
   "id": "8c63fc27",
   "metadata": {
    "scrolled": true
   },
   "outputs": [],
   "source": [
    "import xgboost as xgb"
   ]
  },
  {
   "cell_type": "code",
   "execution_count": 93,
   "id": "bd492284",
   "metadata": {},
   "outputs": [],
   "source": [
    "xgb=xgb.XGBClassifier()"
   ]
  },
  {
   "cell_type": "code",
   "execution_count": 94,
   "id": "28affe98",
   "metadata": {},
   "outputs": [
    {
     "data": {
      "text/html": [
       "<style>#sk-container-id-6 {color: black;background-color: white;}#sk-container-id-6 pre{padding: 0;}#sk-container-id-6 div.sk-toggleable {background-color: white;}#sk-container-id-6 label.sk-toggleable__label {cursor: pointer;display: block;width: 100%;margin-bottom: 0;padding: 0.3em;box-sizing: border-box;text-align: center;}#sk-container-id-6 label.sk-toggleable__label-arrow:before {content: \"▸\";float: left;margin-right: 0.25em;color: #696969;}#sk-container-id-6 label.sk-toggleable__label-arrow:hover:before {color: black;}#sk-container-id-6 div.sk-estimator:hover label.sk-toggleable__label-arrow:before {color: black;}#sk-container-id-6 div.sk-toggleable__content {max-height: 0;max-width: 0;overflow: hidden;text-align: left;background-color: #f0f8ff;}#sk-container-id-6 div.sk-toggleable__content pre {margin: 0.2em;color: black;border-radius: 0.25em;background-color: #f0f8ff;}#sk-container-id-6 input.sk-toggleable__control:checked~div.sk-toggleable__content {max-height: 200px;max-width: 100%;overflow: auto;}#sk-container-id-6 input.sk-toggleable__control:checked~label.sk-toggleable__label-arrow:before {content: \"▾\";}#sk-container-id-6 div.sk-estimator input.sk-toggleable__control:checked~label.sk-toggleable__label {background-color: #d4ebff;}#sk-container-id-6 div.sk-label input.sk-toggleable__control:checked~label.sk-toggleable__label {background-color: #d4ebff;}#sk-container-id-6 input.sk-hidden--visually {border: 0;clip: rect(1px 1px 1px 1px);clip: rect(1px, 1px, 1px, 1px);height: 1px;margin: -1px;overflow: hidden;padding: 0;position: absolute;width: 1px;}#sk-container-id-6 div.sk-estimator {font-family: monospace;background-color: #f0f8ff;border: 1px dotted black;border-radius: 0.25em;box-sizing: border-box;margin-bottom: 0.5em;}#sk-container-id-6 div.sk-estimator:hover {background-color: #d4ebff;}#sk-container-id-6 div.sk-parallel-item::after {content: \"\";width: 100%;border-bottom: 1px solid gray;flex-grow: 1;}#sk-container-id-6 div.sk-label:hover label.sk-toggleable__label {background-color: #d4ebff;}#sk-container-id-6 div.sk-serial::before {content: \"\";position: absolute;border-left: 1px solid gray;box-sizing: border-box;top: 0;bottom: 0;left: 50%;z-index: 0;}#sk-container-id-6 div.sk-serial {display: flex;flex-direction: column;align-items: center;background-color: white;padding-right: 0.2em;padding-left: 0.2em;position: relative;}#sk-container-id-6 div.sk-item {position: relative;z-index: 1;}#sk-container-id-6 div.sk-parallel {display: flex;align-items: stretch;justify-content: center;background-color: white;position: relative;}#sk-container-id-6 div.sk-item::before, #sk-container-id-6 div.sk-parallel-item::before {content: \"\";position: absolute;border-left: 1px solid gray;box-sizing: border-box;top: 0;bottom: 0;left: 50%;z-index: -1;}#sk-container-id-6 div.sk-parallel-item {display: flex;flex-direction: column;z-index: 1;position: relative;background-color: white;}#sk-container-id-6 div.sk-parallel-item:first-child::after {align-self: flex-end;width: 50%;}#sk-container-id-6 div.sk-parallel-item:last-child::after {align-self: flex-start;width: 50%;}#sk-container-id-6 div.sk-parallel-item:only-child::after {width: 0;}#sk-container-id-6 div.sk-dashed-wrapped {border: 1px dashed gray;margin: 0 0.4em 0.5em 0.4em;box-sizing: border-box;padding-bottom: 0.4em;background-color: white;}#sk-container-id-6 div.sk-label label {font-family: monospace;font-weight: bold;display: inline-block;line-height: 1.2em;}#sk-container-id-6 div.sk-label-container {text-align: center;}#sk-container-id-6 div.sk-container {/* jupyter's `normalize.less` sets `[hidden] { display: none; }` but bootstrap.min.css set `[hidden] { display: none !important; }` so we also need the `!important` here to be able to override the default hidden behavior on the sphinx rendered scikit-learn.org. See: https://github.com/scikit-learn/scikit-learn/issues/21755 */display: inline-block !important;position: relative;}#sk-container-id-6 div.sk-text-repr-fallback {display: none;}</style><div id=\"sk-container-id-6\" class=\"sk-top-container\"><div class=\"sk-text-repr-fallback\"><pre>XGBClassifier(base_score=0.5, booster=&#x27;gbtree&#x27;, callbacks=None,\n",
       "              colsample_bylevel=1, colsample_bynode=1, colsample_bytree=1,\n",
       "              early_stopping_rounds=None, enable_categorical=False,\n",
       "              eval_metric=None, gamma=0, gpu_id=-1, grow_policy=&#x27;depthwise&#x27;,\n",
       "              importance_type=None, interaction_constraints=&#x27;&#x27;,\n",
       "              learning_rate=0.300000012, max_bin=256, max_cat_to_onehot=4,\n",
       "              max_delta_step=0, max_depth=6, max_leaves=0, min_child_weight=1,\n",
       "              missing=nan, monotone_constraints=&#x27;()&#x27;, n_estimators=100,\n",
       "              n_jobs=0, num_parallel_tree=1, predictor=&#x27;auto&#x27;, random_state=0,\n",
       "              reg_alpha=0, reg_lambda=1, ...)</pre><b>In a Jupyter environment, please rerun this cell to show the HTML representation or trust the notebook. <br />On GitHub, the HTML representation is unable to render, please try loading this page with nbviewer.org.</b></div><div class=\"sk-container\" hidden><div class=\"sk-item\"><div class=\"sk-estimator sk-toggleable\"><input class=\"sk-toggleable__control sk-hidden--visually\" id=\"sk-estimator-id-10\" type=\"checkbox\" checked><label for=\"sk-estimator-id-10\" class=\"sk-toggleable__label sk-toggleable__label-arrow\">XGBClassifier</label><div class=\"sk-toggleable__content\"><pre>XGBClassifier(base_score=0.5, booster=&#x27;gbtree&#x27;, callbacks=None,\n",
       "              colsample_bylevel=1, colsample_bynode=1, colsample_bytree=1,\n",
       "              early_stopping_rounds=None, enable_categorical=False,\n",
       "              eval_metric=None, gamma=0, gpu_id=-1, grow_policy=&#x27;depthwise&#x27;,\n",
       "              importance_type=None, interaction_constraints=&#x27;&#x27;,\n",
       "              learning_rate=0.300000012, max_bin=256, max_cat_to_onehot=4,\n",
       "              max_delta_step=0, max_depth=6, max_leaves=0, min_child_weight=1,\n",
       "              missing=nan, monotone_constraints=&#x27;()&#x27;, n_estimators=100,\n",
       "              n_jobs=0, num_parallel_tree=1, predictor=&#x27;auto&#x27;, random_state=0,\n",
       "              reg_alpha=0, reg_lambda=1, ...)</pre></div></div></div></div></div>"
      ],
      "text/plain": [
       "XGBClassifier(base_score=0.5, booster='gbtree', callbacks=None,\n",
       "              colsample_bylevel=1, colsample_bynode=1, colsample_bytree=1,\n",
       "              early_stopping_rounds=None, enable_categorical=False,\n",
       "              eval_metric=None, gamma=0, gpu_id=-1, grow_policy='depthwise',\n",
       "              importance_type=None, interaction_constraints='',\n",
       "              learning_rate=0.300000012, max_bin=256, max_cat_to_onehot=4,\n",
       "              max_delta_step=0, max_depth=6, max_leaves=0, min_child_weight=1,\n",
       "              missing=nan, monotone_constraints='()', n_estimators=100,\n",
       "              n_jobs=0, num_parallel_tree=1, predictor='auto', random_state=0,\n",
       "              reg_alpha=0, reg_lambda=1, ...)"
      ]
     },
     "execution_count": 94,
     "metadata": {},
     "output_type": "execute_result"
    }
   ],
   "source": [
    "xgb.fit(x_train_ns,y_train_ns)"
   ]
  },
  {
   "cell_type": "code",
   "execution_count": 95,
   "id": "19c2ae2e",
   "metadata": {},
   "outputs": [
    {
     "name": "stdout",
     "output_type": "stream",
     "text": [
      "Accuracy score in training:100.000000%\n"
     ]
    }
   ],
   "source": [
    "metric_score(xgb,x_train_ns,x_test,y_train_ns,y_test,train=True)"
   ]
  },
  {
   "cell_type": "code",
   "execution_count": 96,
   "id": "d58c731b",
   "metadata": {},
   "outputs": [
    {
     "name": "stdout",
     "output_type": "stream",
     "text": [
      "Accuracy score in testing:97.674419%\n",
      "Classification report\n",
      "               precision    recall  f1-score   support\n",
      "\n",
      "           0       1.00      0.89      0.94         9\n",
      "           1       0.97      1.00      0.99        34\n",
      "\n",
      "    accuracy                           0.98        43\n",
      "   macro avg       0.99      0.94      0.96        43\n",
      "weighted avg       0.98      0.98      0.98        43\n",
      "\n"
     ]
    }
   ],
   "source": [
    "metric_score(xgb,x_train_ns,x_test,y_train_ns,y_test,train=False)"
   ]
  },
  {
   "cell_type": "markdown",
   "id": "a16742a3",
   "metadata": {},
   "source": [
    "## Cross Val Score"
   ]
  },
  {
   "cell_type": "code",
   "execution_count": 97,
   "id": "99d5fbc2",
   "metadata": {},
   "outputs": [
    {
     "name": "stdout",
     "output_type": "stream",
     "text": [
      "the cv score is  0.8921095008051529\n"
     ]
    }
   ],
   "source": [
    "lssscore_selected=cross_val_score(xgb,x_scaled,y,cv=9).mean()\n",
    "print(\"the cv score is \",lssscore_selected)"
   ]
  },
  {
   "cell_type": "markdown",
   "id": "31ff62bb",
   "metadata": {},
   "source": [
    "# Confusion Matrix"
   ]
  },
  {
   "cell_type": "code",
   "execution_count": 98,
   "id": "975398a9",
   "metadata": {
    "scrolled": true
   },
   "outputs": [],
   "source": [
    "y_pred=xgb.predict(x_test)\n"
   ]
  },
  {
   "cell_type": "code",
   "execution_count": 99,
   "id": "31717b7a",
   "metadata": {},
   "outputs": [
    {
     "data": {
      "text/plain": [
       "array([[ 8,  1],\n",
       "       [ 0, 34]], dtype=int64)"
      ]
     },
     "execution_count": 99,
     "metadata": {},
     "output_type": "execute_result"
    }
   ],
   "source": [
    "conf_mat=confusion_matrix(y_test,y_pred)\n",
    "conf_mat"
   ]
  },
  {
   "cell_type": "code",
   "execution_count": null,
   "id": "209ffdde",
   "metadata": {},
   "outputs": [],
   "source": []
  },
  {
   "cell_type": "markdown",
   "id": "b4cd90a9",
   "metadata": {},
   "source": [
    "### Hyperparameter Tuning"
   ]
  },
  {
   "cell_type": "code",
   "execution_count": 100,
   "id": "1ecf157e",
   "metadata": {},
   "outputs": [],
   "source": [
    "params={'random_state':[1,100],\n",
    "       'max_depth':[3,5,6,7,8,9,10],\n",
    "       'max_leaves':[3,5,7,9,11,13,15],\n",
    "       'n_estimators':[10,20]}"
   ]
  },
  {
   "cell_type": "code",
   "execution_count": 101,
   "id": "67bc1ded",
   "metadata": {},
   "outputs": [],
   "source": [
    "grd=GridSearchCV(estimator=xgb,param_grid=params)\n"
   ]
  },
  {
   "cell_type": "code",
   "execution_count": 102,
   "id": "1079a76c",
   "metadata": {},
   "outputs": [
    {
     "data": {
      "text/html": [
       "<style>#sk-container-id-7 {color: black;background-color: white;}#sk-container-id-7 pre{padding: 0;}#sk-container-id-7 div.sk-toggleable {background-color: white;}#sk-container-id-7 label.sk-toggleable__label {cursor: pointer;display: block;width: 100%;margin-bottom: 0;padding: 0.3em;box-sizing: border-box;text-align: center;}#sk-container-id-7 label.sk-toggleable__label-arrow:before {content: \"▸\";float: left;margin-right: 0.25em;color: #696969;}#sk-container-id-7 label.sk-toggleable__label-arrow:hover:before {color: black;}#sk-container-id-7 div.sk-estimator:hover label.sk-toggleable__label-arrow:before {color: black;}#sk-container-id-7 div.sk-toggleable__content {max-height: 0;max-width: 0;overflow: hidden;text-align: left;background-color: #f0f8ff;}#sk-container-id-7 div.sk-toggleable__content pre {margin: 0.2em;color: black;border-radius: 0.25em;background-color: #f0f8ff;}#sk-container-id-7 input.sk-toggleable__control:checked~div.sk-toggleable__content {max-height: 200px;max-width: 100%;overflow: auto;}#sk-container-id-7 input.sk-toggleable__control:checked~label.sk-toggleable__label-arrow:before {content: \"▾\";}#sk-container-id-7 div.sk-estimator input.sk-toggleable__control:checked~label.sk-toggleable__label {background-color: #d4ebff;}#sk-container-id-7 div.sk-label input.sk-toggleable__control:checked~label.sk-toggleable__label {background-color: #d4ebff;}#sk-container-id-7 input.sk-hidden--visually {border: 0;clip: rect(1px 1px 1px 1px);clip: rect(1px, 1px, 1px, 1px);height: 1px;margin: -1px;overflow: hidden;padding: 0;position: absolute;width: 1px;}#sk-container-id-7 div.sk-estimator {font-family: monospace;background-color: #f0f8ff;border: 1px dotted black;border-radius: 0.25em;box-sizing: border-box;margin-bottom: 0.5em;}#sk-container-id-7 div.sk-estimator:hover {background-color: #d4ebff;}#sk-container-id-7 div.sk-parallel-item::after {content: \"\";width: 100%;border-bottom: 1px solid gray;flex-grow: 1;}#sk-container-id-7 div.sk-label:hover label.sk-toggleable__label {background-color: #d4ebff;}#sk-container-id-7 div.sk-serial::before {content: \"\";position: absolute;border-left: 1px solid gray;box-sizing: border-box;top: 0;bottom: 0;left: 50%;z-index: 0;}#sk-container-id-7 div.sk-serial {display: flex;flex-direction: column;align-items: center;background-color: white;padding-right: 0.2em;padding-left: 0.2em;position: relative;}#sk-container-id-7 div.sk-item {position: relative;z-index: 1;}#sk-container-id-7 div.sk-parallel {display: flex;align-items: stretch;justify-content: center;background-color: white;position: relative;}#sk-container-id-7 div.sk-item::before, #sk-container-id-7 div.sk-parallel-item::before {content: \"\";position: absolute;border-left: 1px solid gray;box-sizing: border-box;top: 0;bottom: 0;left: 50%;z-index: -1;}#sk-container-id-7 div.sk-parallel-item {display: flex;flex-direction: column;z-index: 1;position: relative;background-color: white;}#sk-container-id-7 div.sk-parallel-item:first-child::after {align-self: flex-end;width: 50%;}#sk-container-id-7 div.sk-parallel-item:last-child::after {align-self: flex-start;width: 50%;}#sk-container-id-7 div.sk-parallel-item:only-child::after {width: 0;}#sk-container-id-7 div.sk-dashed-wrapped {border: 1px dashed gray;margin: 0 0.4em 0.5em 0.4em;box-sizing: border-box;padding-bottom: 0.4em;background-color: white;}#sk-container-id-7 div.sk-label label {font-family: monospace;font-weight: bold;display: inline-block;line-height: 1.2em;}#sk-container-id-7 div.sk-label-container {text-align: center;}#sk-container-id-7 div.sk-container {/* jupyter's `normalize.less` sets `[hidden] { display: none; }` but bootstrap.min.css set `[hidden] { display: none !important; }` so we also need the `!important` here to be able to override the default hidden behavior on the sphinx rendered scikit-learn.org. See: https://github.com/scikit-learn/scikit-learn/issues/21755 */display: inline-block !important;position: relative;}#sk-container-id-7 div.sk-text-repr-fallback {display: none;}</style><div id=\"sk-container-id-7\" class=\"sk-top-container\"><div class=\"sk-text-repr-fallback\"><pre>GridSearchCV(estimator=XGBClassifier(base_score=0.5, booster=&#x27;gbtree&#x27;,\n",
       "                                     callbacks=None, colsample_bylevel=1,\n",
       "                                     colsample_bynode=1, colsample_bytree=1,\n",
       "                                     early_stopping_rounds=None,\n",
       "                                     enable_categorical=False, eval_metric=None,\n",
       "                                     gamma=0, gpu_id=-1,\n",
       "                                     grow_policy=&#x27;depthwise&#x27;,\n",
       "                                     importance_type=None,\n",
       "                                     interaction_constraints=&#x27;&#x27;,\n",
       "                                     learning_rate=0.300000012, max_bin=256,\n",
       "                                     max_cat_to_onehot=4, max_delta_step=0,\n",
       "                                     max_depth=6, max_leaves=0,\n",
       "                                     min_child_weight=1, missing=nan,\n",
       "                                     monotone_constraints=&#x27;()&#x27;,\n",
       "                                     n_estimators=100, n_jobs=0,\n",
       "                                     num_parallel_tree=1, predictor=&#x27;auto&#x27;,\n",
       "                                     random_state=0, reg_alpha=0, reg_lambda=1, ...),\n",
       "             param_grid={&#x27;max_depth&#x27;: [3, 5, 6, 7, 8, 9, 10],\n",
       "                         &#x27;max_leaves&#x27;: [3, 5, 7, 9, 11, 13, 15],\n",
       "                         &#x27;n_estimators&#x27;: [10, 20], &#x27;random_state&#x27;: [1, 100]})</pre><b>In a Jupyter environment, please rerun this cell to show the HTML representation or trust the notebook. <br />On GitHub, the HTML representation is unable to render, please try loading this page with nbviewer.org.</b></div><div class=\"sk-container\" hidden><div class=\"sk-item sk-dashed-wrapped\"><div class=\"sk-label-container\"><div class=\"sk-label sk-toggleable\"><input class=\"sk-toggleable__control sk-hidden--visually\" id=\"sk-estimator-id-11\" type=\"checkbox\" ><label for=\"sk-estimator-id-11\" class=\"sk-toggleable__label sk-toggleable__label-arrow\">GridSearchCV</label><div class=\"sk-toggleable__content\"><pre>GridSearchCV(estimator=XGBClassifier(base_score=0.5, booster=&#x27;gbtree&#x27;,\n",
       "                                     callbacks=None, colsample_bylevel=1,\n",
       "                                     colsample_bynode=1, colsample_bytree=1,\n",
       "                                     early_stopping_rounds=None,\n",
       "                                     enable_categorical=False, eval_metric=None,\n",
       "                                     gamma=0, gpu_id=-1,\n",
       "                                     grow_policy=&#x27;depthwise&#x27;,\n",
       "                                     importance_type=None,\n",
       "                                     interaction_constraints=&#x27;&#x27;,\n",
       "                                     learning_rate=0.300000012, max_bin=256,\n",
       "                                     max_cat_to_onehot=4, max_delta_step=0,\n",
       "                                     max_depth=6, max_leaves=0,\n",
       "                                     min_child_weight=1, missing=nan,\n",
       "                                     monotone_constraints=&#x27;()&#x27;,\n",
       "                                     n_estimators=100, n_jobs=0,\n",
       "                                     num_parallel_tree=1, predictor=&#x27;auto&#x27;,\n",
       "                                     random_state=0, reg_alpha=0, reg_lambda=1, ...),\n",
       "             param_grid={&#x27;max_depth&#x27;: [3, 5, 6, 7, 8, 9, 10],\n",
       "                         &#x27;max_leaves&#x27;: [3, 5, 7, 9, 11, 13, 15],\n",
       "                         &#x27;n_estimators&#x27;: [10, 20], &#x27;random_state&#x27;: [1, 100]})</pre></div></div></div><div class=\"sk-parallel\"><div class=\"sk-parallel-item\"><div class=\"sk-item\"><div class=\"sk-label-container\"><div class=\"sk-label sk-toggleable\"><input class=\"sk-toggleable__control sk-hidden--visually\" id=\"sk-estimator-id-12\" type=\"checkbox\" ><label for=\"sk-estimator-id-12\" class=\"sk-toggleable__label sk-toggleable__label-arrow\">estimator: XGBClassifier</label><div class=\"sk-toggleable__content\"><pre>XGBClassifier(base_score=0.5, booster=&#x27;gbtree&#x27;, callbacks=None,\n",
       "              colsample_bylevel=1, colsample_bynode=1, colsample_bytree=1,\n",
       "              early_stopping_rounds=None, enable_categorical=False,\n",
       "              eval_metric=None, gamma=0, gpu_id=-1, grow_policy=&#x27;depthwise&#x27;,\n",
       "              importance_type=None, interaction_constraints=&#x27;&#x27;,\n",
       "              learning_rate=0.300000012, max_bin=256, max_cat_to_onehot=4,\n",
       "              max_delta_step=0, max_depth=6, max_leaves=0, min_child_weight=1,\n",
       "              missing=nan, monotone_constraints=&#x27;()&#x27;, n_estimators=100,\n",
       "              n_jobs=0, num_parallel_tree=1, predictor=&#x27;auto&#x27;, random_state=0,\n",
       "              reg_alpha=0, reg_lambda=1, ...)</pre></div></div></div><div class=\"sk-serial\"><div class=\"sk-item\"><div class=\"sk-estimator sk-toggleable\"><input class=\"sk-toggleable__control sk-hidden--visually\" id=\"sk-estimator-id-13\" type=\"checkbox\" ><label for=\"sk-estimator-id-13\" class=\"sk-toggleable__label sk-toggleable__label-arrow\">XGBClassifier</label><div class=\"sk-toggleable__content\"><pre>XGBClassifier(base_score=0.5, booster=&#x27;gbtree&#x27;, callbacks=None,\n",
       "              colsample_bylevel=1, colsample_bynode=1, colsample_bytree=1,\n",
       "              early_stopping_rounds=None, enable_categorical=False,\n",
       "              eval_metric=None, gamma=0, gpu_id=-1, grow_policy=&#x27;depthwise&#x27;,\n",
       "              importance_type=None, interaction_constraints=&#x27;&#x27;,\n",
       "              learning_rate=0.300000012, max_bin=256, max_cat_to_onehot=4,\n",
       "              max_delta_step=0, max_depth=6, max_leaves=0, min_child_weight=1,\n",
       "              missing=nan, monotone_constraints=&#x27;()&#x27;, n_estimators=100,\n",
       "              n_jobs=0, num_parallel_tree=1, predictor=&#x27;auto&#x27;, random_state=0,\n",
       "              reg_alpha=0, reg_lambda=1, ...)</pre></div></div></div></div></div></div></div></div></div></div>"
      ],
      "text/plain": [
       "GridSearchCV(estimator=XGBClassifier(base_score=0.5, booster='gbtree',\n",
       "                                     callbacks=None, colsample_bylevel=1,\n",
       "                                     colsample_bynode=1, colsample_bytree=1,\n",
       "                                     early_stopping_rounds=None,\n",
       "                                     enable_categorical=False, eval_metric=None,\n",
       "                                     gamma=0, gpu_id=-1,\n",
       "                                     grow_policy='depthwise',\n",
       "                                     importance_type=None,\n",
       "                                     interaction_constraints='',\n",
       "                                     learning_rate=0.300000012, max_bin=256,\n",
       "                                     max_cat_to_onehot=4, max_delta_step=0,\n",
       "                                     max_depth=6, max_leaves=0,\n",
       "                                     min_child_weight=1, missing=nan,\n",
       "                                     monotone_constraints='()',\n",
       "                                     n_estimators=100, n_jobs=0,\n",
       "                                     num_parallel_tree=1, predictor='auto',\n",
       "                                     random_state=0, reg_alpha=0, reg_lambda=1, ...),\n",
       "             param_grid={'max_depth': [3, 5, 6, 7, 8, 9, 10],\n",
       "                         'max_leaves': [3, 5, 7, 9, 11, 13, 15],\n",
       "                         'n_estimators': [10, 20], 'random_state': [1, 100]})"
      ]
     },
     "execution_count": 102,
     "metadata": {},
     "output_type": "execute_result"
    }
   ],
   "source": [
    "grd.fit(x_train_ns,y_train_ns)\n"
   ]
  },
  {
   "cell_type": "code",
   "execution_count": 103,
   "id": "970dfa8f",
   "metadata": {},
   "outputs": [],
   "source": [
    "xgb=grd.best_estimator_"
   ]
  },
  {
   "cell_type": "code",
   "execution_count": 104,
   "id": "058c7848",
   "metadata": {},
   "outputs": [
    {
     "name": "stdout",
     "output_type": "stream",
     "text": [
      "Accuracy score in training:98.235294%\n"
     ]
    }
   ],
   "source": [
    "metric_score(xgb,x_train_ns,x_test,y_train_ns,y_test,train=True)"
   ]
  },
  {
   "cell_type": "code",
   "execution_count": 105,
   "id": "034f0240",
   "metadata": {},
   "outputs": [
    {
     "name": "stdout",
     "output_type": "stream",
     "text": [
      "Accuracy score in testing:93.023256%\n",
      "Classification report\n",
      "               precision    recall  f1-score   support\n",
      "\n",
      "           0       0.80      0.89      0.84         9\n",
      "           1       0.97      0.94      0.96        34\n",
      "\n",
      "    accuracy                           0.93        43\n",
      "   macro avg       0.88      0.92      0.90        43\n",
      "weighted avg       0.93      0.93      0.93        43\n",
      "\n"
     ]
    }
   ],
   "source": [
    "metric_score(xgb,x_train_ns,x_test,y_train_ns,y_test,train=False)\n"
   ]
  },
  {
   "cell_type": "code",
   "execution_count": 106,
   "id": "f7045da7",
   "metadata": {},
   "outputs": [
    {
     "name": "stdout",
     "output_type": "stream",
     "text": [
      "the cv score is  0.8826489533011271\n"
     ]
    }
   ],
   "source": [
    "lssscore_selected=cross_val_score(xgb,x_scaled,y,cv=9).mean()\n",
    "print(\"the cv score is \",lssscore_selected)"
   ]
  },
  {
   "cell_type": "markdown",
   "id": "eb1e5b62",
   "metadata": {},
   "source": [
    "# Conclusion(XG Boost)"
   ]
  },
  {
   "cell_type": "raw",
   "id": "7d423629",
   "metadata": {},
   "source": [
    "After hyperparameter tuning\n",
    "Training accuracy :98.23\n",
    "Testing score: 93.02\n",
    "cv_score:88.26"
   ]
  },
  {
   "cell_type": "markdown",
   "id": "402b31fe",
   "metadata": {},
   "source": [
    "# Plotting auc for all models"
   ]
  },
  {
   "cell_type": "code",
   "execution_count": 107,
   "id": "e2d17ee4",
   "metadata": {},
   "outputs": [],
   "source": [
    "from sklearn.metrics import roc_auc_score,roc_curve,plot_roc_curve"
   ]
  },
  {
   "cell_type": "code",
   "execution_count": 108,
   "id": "d7e1e78f",
   "metadata": {},
   "outputs": [
    {
     "data": {
      "text/plain": [
       "Text(0.5, 1.0, 'Recieving operating characterstics')"
      ]
     },
     "execution_count": 108,
     "metadata": {},
     "output_type": "execute_result"
    },
    {
     "data": {
      "image/png": "[encoded data removed]",
      "text/plain": [
       "<Figure size 432x288 with 1 Axes>"
      ]
     },
     "metadata": {
      "needs_background": "light"
     },
     "output_type": "display_data"
    }
   ],
   "source": [
    "disp=plot_roc_curve(lr,x_train_ns,y_train_ns)\n",
    "plot_roc_curve(rf,x_train_ns,y_train_ns,ax=disp.ax_)\n",
    "plot_roc_curve(knn,x_train_ns,y_train_ns,ax=disp.ax_)\n",
    "plot_roc_curve(xgb,x_train_ns,y_train_ns,ax=disp.ax_)\n",
    "plt.legend(prop={'size':10},loc='lower right')\n",
    "plt.plot([0,1],[0,1],color='navy',lw=5,linestyle='--')\n",
    "plt.title('Recieving operating characterstics')\n"
   ]
  },
  {
   "cell_type": "markdown",
   "id": "89f34f81",
   "metadata": {},
   "source": [
    "# Final Conclusion"
   ]
  },
  {
   "cell_type": "markdown",
   "id": "3738b42d",
   "metadata": {},
   "source": [
    "### We conclude that Random Forest Classifier is having max auc_score:1 among all the models and training accuracy=98.82 and testing accuracy:97.67 and cvscore:89.71"
   ]
  },
  {
   "cell_type": "markdown",
   "id": "d5fbb59d",
   "metadata": {},
   "source": [
    "# Saving the best model"
   ]
  },
  {
   "cell_type": "code",
   "execution_count": 109,
   "id": "be991637",
   "metadata": {},
   "outputs": [],
   "source": [
    "import pickle\n",
    "\n",
    "pickle.dump(rf,open('classifmodel_glass','wb'))"
   ]
  },
  {
   "cell_type": "code",
   "execution_count": null,
   "id": "541fcc3e",
   "metadata": {},
   "outputs": [],
   "source": []
  },
  {
   "cell_type": "code",
   "execution_count": null,
   "id": "696e5304",
   "metadata": {},
   "outputs": [],
   "source": []
  },
  {
   "cell_type": "code",
   "execution_count": null,
   "id": "625713bf",
   "metadata": {},
   "outputs": [],
   "source": []
  }
 ],
 "metadata": {
  "kernelspec": {
   "display_name": "Python 3 (ipykernel)",
   "language": "python",
   "name": "python3"
  },
  "language_info": {
   "codemirror_mode": {
    "name": "ipython",
    "version": 3
   },
   "file_extension": ".py",
   "mimetype": "text/x-python",
   "name": "python",
   "nbconvert_exporter": "python",
   "pygments_lexer": "ipython3",
   "version": "3.9.12"
  }
 },
 "nbformat": 4,
 "nbformat_minor": 5
}
