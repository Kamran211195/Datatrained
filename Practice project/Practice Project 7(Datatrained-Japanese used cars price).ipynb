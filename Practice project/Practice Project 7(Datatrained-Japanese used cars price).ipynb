{
 "cells": [
  {
   "cell_type": "markdown",
   "id": "bfd08c3d",
   "metadata": {},
   "source": [
    "# Importing Required libraries"
   ]
  },
  {
   "cell_type": "code",
   "execution_count": 1,
   "id": "30158c6c",
   "metadata": {},
   "outputs": [],
   "source": [
    "import numpy as np\n",
    "import pandas as pd\n",
    "import matplotlib.pyplot as plt \n",
    "import seaborn as sns\n",
    "%matplotlib inline\n",
    "\n",
    "import warnings\n",
    "warnings.filterwarnings('ignore')"
   ]
  },
  {
   "cell_type": "markdown",
   "id": "114d2c30",
   "metadata": {},
   "source": [
    "# Importing Dataset"
   ]
  },
  {
   "cell_type": "code",
   "execution_count": 2,
   "id": "a5a0d856",
   "metadata": {},
   "outputs": [],
   "source": [
    "df=pd.read_csv('Japan_used_cars_datasets.csv')"
   ]
  },
  {
   "cell_type": "code",
   "execution_count": 3,
   "id": "a0c767a3",
   "metadata": {},
   "outputs": [
    {
     "data": {
      "text/html": [
       "<div>\n",
       "<style scoped>\n",
       "    .dataframe tbody tr th:only-of-type {\n",
       "        vertical-align: middle;\n",
       "    }\n",
       "\n",
       "    .dataframe tbody tr th {\n",
       "        vertical-align: top;\n",
       "    }\n",
       "\n",
       "    .dataframe thead th {\n",
       "        text-align: right;\n",
       "    }\n",
       "</style>\n",
       "<table border=\"1\" class=\"dataframe\">\n",
       "  <thead>\n",
       "    <tr style=\"text-align: right;\">\n",
       "      <th></th>\n",
       "      <th>id</th>\n",
       "      <th>price</th>\n",
       "      <th>mark</th>\n",
       "      <th>model</th>\n",
       "      <th>year</th>\n",
       "      <th>mileage</th>\n",
       "      <th>engine_capacity</th>\n",
       "      <th>transmission</th>\n",
       "      <th>drive</th>\n",
       "      <th>hand_drive</th>\n",
       "      <th>fuel</th>\n",
       "    </tr>\n",
       "  </thead>\n",
       "  <tbody>\n",
       "    <tr>\n",
       "      <th>0</th>\n",
       "      <td>0</td>\n",
       "      <td>80</td>\n",
       "      <td>nissan</td>\n",
       "      <td>march</td>\n",
       "      <td>2003</td>\n",
       "      <td>80000</td>\n",
       "      <td>1240</td>\n",
       "      <td>at</td>\n",
       "      <td>2wd</td>\n",
       "      <td>rhd</td>\n",
       "      <td>gasoline</td>\n",
       "    </tr>\n",
       "    <tr>\n",
       "      <th>1</th>\n",
       "      <td>1</td>\n",
       "      <td>110</td>\n",
       "      <td>nissan</td>\n",
       "      <td>march</td>\n",
       "      <td>2010</td>\n",
       "      <td>53000</td>\n",
       "      <td>1200</td>\n",
       "      <td>at</td>\n",
       "      <td>2wd</td>\n",
       "      <td>rhd</td>\n",
       "      <td>gasoline</td>\n",
       "    </tr>\n",
       "    <tr>\n",
       "      <th>2</th>\n",
       "      <td>2</td>\n",
       "      <td>165</td>\n",
       "      <td>nissan</td>\n",
       "      <td>lafesta</td>\n",
       "      <td>2005</td>\n",
       "      <td>47690</td>\n",
       "      <td>2000</td>\n",
       "      <td>at</td>\n",
       "      <td>2wd</td>\n",
       "      <td>rhd</td>\n",
       "      <td>gasoline</td>\n",
       "    </tr>\n",
       "    <tr>\n",
       "      <th>3</th>\n",
       "      <td>3</td>\n",
       "      <td>190</td>\n",
       "      <td>toyota</td>\n",
       "      <td>avensis</td>\n",
       "      <td>2008</td>\n",
       "      <td>130661</td>\n",
       "      <td>1990</td>\n",
       "      <td>at</td>\n",
       "      <td>2wd</td>\n",
       "      <td>rhd</td>\n",
       "      <td>gasoline</td>\n",
       "    </tr>\n",
       "    <tr>\n",
       "      <th>4</th>\n",
       "      <td>4</td>\n",
       "      <td>190</td>\n",
       "      <td>daihatsu</td>\n",
       "      <td>mira</td>\n",
       "      <td>2006</td>\n",
       "      <td>66300</td>\n",
       "      <td>660</td>\n",
       "      <td>at</td>\n",
       "      <td>2wd</td>\n",
       "      <td>rhd</td>\n",
       "      <td>gasoline</td>\n",
       "    </tr>\n",
       "  </tbody>\n",
       "</table>\n",
       "</div>"
      ],
      "text/plain": [
       "   id  price      mark    model  year  mileage  engine_capacity transmission  \\\n",
       "0   0     80    nissan    march  2003    80000             1240           at   \n",
       "1   1    110    nissan    march  2010    53000             1200           at   \n",
       "2   2    165    nissan  lafesta  2005    47690             2000           at   \n",
       "3   3    190    toyota  avensis  2008   130661             1990           at   \n",
       "4   4    190  daihatsu     mira  2006    66300              660           at   \n",
       "\n",
       "  drive hand_drive      fuel  \n",
       "0   2wd        rhd  gasoline  \n",
       "1   2wd        rhd  gasoline  \n",
       "2   2wd        rhd  gasoline  \n",
       "3   2wd        rhd  gasoline  \n",
       "4   2wd        rhd  gasoline  "
      ]
     },
     "execution_count": 3,
     "metadata": {},
     "output_type": "execute_result"
    }
   ],
   "source": [
    "df.head()"
   ]
  },
  {
   "cell_type": "code",
   "execution_count": 4,
   "id": "1ca36f8d",
   "metadata": {},
   "outputs": [
    {
     "data": {
      "text/plain": [
       "(2318, 11)"
      ]
     },
     "execution_count": 4,
     "metadata": {},
     "output_type": "execute_result"
    }
   ],
   "source": [
    "df.shape"
   ]
  },
  {
   "cell_type": "markdown",
   "id": "086a686c",
   "metadata": {},
   "source": [
    " The dataset is having 2318 columns and 11 rows"
   ]
  },
  {
   "cell_type": "code",
   "execution_count": 5,
   "id": "794480e8",
   "metadata": {},
   "outputs": [
    {
     "data": {
      "text/plain": [
       "id                 0\n",
       "price              0\n",
       "mark               0\n",
       "model              0\n",
       "year               0\n",
       "mileage            0\n",
       "engine_capacity    0\n",
       "transmission       0\n",
       "drive              0\n",
       "hand_drive         0\n",
       "fuel               0\n",
       "dtype: int64"
      ]
     },
     "execution_count": 5,
     "metadata": {},
     "output_type": "execute_result"
    }
   ],
   "source": [
    "df.isna().sum()"
   ]
  },
  {
   "cell_type": "markdown",
   "id": "f494983d",
   "metadata": {},
   "source": [
    "There are no null values in dataset"
   ]
  },
  {
   "cell_type": "code",
   "execution_count": 6,
   "id": "28ee7723",
   "metadata": {},
   "outputs": [
    {
     "data": {
      "text/html": [
       "<div>\n",
       "<style scoped>\n",
       "    .dataframe tbody tr th:only-of-type {\n",
       "        vertical-align: middle;\n",
       "    }\n",
       "\n",
       "    .dataframe tbody tr th {\n",
       "        vertical-align: top;\n",
       "    }\n",
       "\n",
       "    .dataframe thead th {\n",
       "        text-align: right;\n",
       "    }\n",
       "</style>\n",
       "<table border=\"1\" class=\"dataframe\">\n",
       "  <thead>\n",
       "    <tr style=\"text-align: right;\">\n",
       "      <th></th>\n",
       "      <th>count</th>\n",
       "      <th>mean</th>\n",
       "      <th>std</th>\n",
       "      <th>min</th>\n",
       "      <th>25%</th>\n",
       "      <th>50%</th>\n",
       "      <th>75%</th>\n",
       "      <th>max</th>\n",
       "    </tr>\n",
       "  </thead>\n",
       "  <tbody>\n",
       "    <tr>\n",
       "      <th>id</th>\n",
       "      <td>2318.0</td>\n",
       "      <td>1169.047023</td>\n",
       "      <td>674.460724</td>\n",
       "      <td>0.0</td>\n",
       "      <td>583.25</td>\n",
       "      <td>1168.5</td>\n",
       "      <td>1753.75</td>\n",
       "      <td>2335.0</td>\n",
       "    </tr>\n",
       "    <tr>\n",
       "      <th>price</th>\n",
       "      <td>2318.0</td>\n",
       "      <td>971.522433</td>\n",
       "      <td>288.673112</td>\n",
       "      <td>80.0</td>\n",
       "      <td>776.00</td>\n",
       "      <td>1000.0</td>\n",
       "      <td>1213.00</td>\n",
       "      <td>1400.0</td>\n",
       "    </tr>\n",
       "    <tr>\n",
       "      <th>year</th>\n",
       "      <td>2318.0</td>\n",
       "      <td>2005.972390</td>\n",
       "      <td>3.698863</td>\n",
       "      <td>1979.0</td>\n",
       "      <td>2004.00</td>\n",
       "      <td>2006.0</td>\n",
       "      <td>2009.00</td>\n",
       "      <td>2015.0</td>\n",
       "    </tr>\n",
       "    <tr>\n",
       "      <th>mileage</th>\n",
       "      <td>2318.0</td>\n",
       "      <td>100013.194996</td>\n",
       "      <td>52512.478883</td>\n",
       "      <td>2000.0</td>\n",
       "      <td>67000.00</td>\n",
       "      <td>94000.0</td>\n",
       "      <td>124000.00</td>\n",
       "      <td>790000.0</td>\n",
       "    </tr>\n",
       "    <tr>\n",
       "      <th>engine_capacity</th>\n",
       "      <td>2318.0</td>\n",
       "      <td>1507.010785</td>\n",
       "      <td>549.585170</td>\n",
       "      <td>9.0</td>\n",
       "      <td>1300.00</td>\n",
       "      <td>1490.0</td>\n",
       "      <td>1800.00</td>\n",
       "      <td>12340.0</td>\n",
       "    </tr>\n",
       "  </tbody>\n",
       "</table>\n",
       "</div>"
      ],
      "text/plain": [
       "                  count           mean           std     min       25%  \\\n",
       "id               2318.0    1169.047023    674.460724     0.0    583.25   \n",
       "price            2318.0     971.522433    288.673112    80.0    776.00   \n",
       "year             2318.0    2005.972390      3.698863  1979.0   2004.00   \n",
       "mileage          2318.0  100013.194996  52512.478883  2000.0  67000.00   \n",
       "engine_capacity  2318.0    1507.010785    549.585170     9.0   1300.00   \n",
       "\n",
       "                     50%        75%       max  \n",
       "id                1168.5    1753.75    2335.0  \n",
       "price             1000.0    1213.00    1400.0  \n",
       "year              2006.0    2009.00    2015.0  \n",
       "mileage          94000.0  124000.00  790000.0  \n",
       "engine_capacity   1490.0    1800.00   12340.0  "
      ]
     },
     "execution_count": 6,
     "metadata": {},
     "output_type": "execute_result"
    }
   ],
   "source": [
    "df.describe().T"
   ]
  },
  {
   "cell_type": "markdown",
   "id": "fd05998f",
   "metadata": {},
   "source": [
    "    The target varibale (price) is having mean:-971.522 ,minimum value:-80 and maximum value:-1400\n",
    "    Mileage is having mean:- 100013.19 ,minimum value:-2000 and maximum value:-790000\n",
    "    engine_capacity is having mean:-1507,minimum value:-9 and maximum value:-12340\n",
    "            \n",
    "\n",
    "            "
   ]
  },
  {
   "cell_type": "code",
   "execution_count": 7,
   "id": "3b6e520c",
   "metadata": {},
   "outputs": [
    {
     "data": {
      "text/plain": [
       "id                  int64\n",
       "price               int64\n",
       "mark               object\n",
       "model              object\n",
       "year                int64\n",
       "mileage             int64\n",
       "engine_capacity     int64\n",
       "transmission       object\n",
       "drive              object\n",
       "hand_drive         object\n",
       "fuel               object\n",
       "dtype: object"
      ]
     },
     "execution_count": 7,
     "metadata": {},
     "output_type": "execute_result"
    }
   ],
   "source": [
    "df.dtypes"
   ]
  },
  {
   "cell_type": "markdown",
   "id": "6dd05ad9",
   "metadata": {},
   "source": [
    "Target variable is integer in nature ."
   ]
  },
  {
   "cell_type": "code",
   "execution_count": 8,
   "id": "6abb9501",
   "metadata": {},
   "outputs": [
    {
     "data": {
      "text/plain": [
       "array(['nissan', 'toyota', 'daihatsu', 'volkswagen', 'mazda', 'honda',\n",
       "       'subaru', 'mercedes-benz', 'kubota', 'mitsubishi', 'suzuki', 'bmw',\n",
       "       'chrysler', 'smart', 'gm', 'opel', 'isuzu', 'land rover',\n",
       "       'peugeot', 'hyundai', 'kia motors', 'audi', 'citroen', 'mitsuoka',\n",
       "       'volvo', 'ford', 'hino', 'jaguar'], dtype=object)"
      ]
     },
     "execution_count": 8,
     "metadata": {},
     "output_type": "execute_result"
    }
   ],
   "source": [
    "df['mark'].unique()"
   ]
  },
  {
   "cell_type": "code",
   "execution_count": 9,
   "id": "cb2a47b8",
   "metadata": {},
   "outputs": [
    {
     "data": {
      "text/plain": [
       "array(['march', 'lafesta', 'avensis', 'mira', 'passat', 'bongo van',\n",
       "       'step wgn', 'sambar', 'inspire', 'mercedes-benz others', 'note',\n",
       "       'passo', 'impreza', 'kubota others', 'life', 'progres',\n",
       "       'cube cubic', 'cube', 'a-class', 'coltplus', 'mr wagon',\n",
       "       'pajero mini', 'fit', 'legacy b4', 'vitz', 'mark ii blit',\n",
       "       'insight', 'move', 'tanto', 'terios kid', 'az-wagon', 'coo',\n",
       "       'verisa', 'swift', 'delica d2', 'tiida', 'sienta', 'mini', 'colt',\n",
       "       'platz', 'bluebird sylphy', 'eclipse', 'bb', 'moco',\n",
       "       'clipper truck', 'esse', 'ek wagon', 'polo', 'x-trail',\n",
       "       'atenza sport', 'ad van', 'pixis space', 'freed spike', 'stream',\n",
       "       'alto', 'raum', 'wish', 'every', 'demio', 'jimny', 'premacy',\n",
       "       'cr-v', 'lapin', 'delica', 'wagon r', 'lancer', 'naked', 'odyssey',\n",
       "       'ractis', 'porte', 'corolla rumion', 'tiida latio', 'voxy',\n",
       "       'carol', 'sunny', 'bongo truck', 'boon', 's-mx', 'pt cruiser',\n",
       "       'golf', 'ad expert', 'fit hybrid', 'serena', 'edix', 'move custom',\n",
       "       'impreza anesis', 'estima', 'carry truck', 'solio', 'mpv',\n",
       "       'vanette van', 'accord', 'tribute', 'pajero io', 'noah',\n",
       "       'vanette truck', 'delica truck', 'lancer cargo', 'atenza wagon',\n",
       "       'atenza', 'vamos', 'r2', 'fun cargo', 'airwave', 'ipsum',\n",
       "       'verossa', 'forfour', 'elgrand', 'ist', 'mirage',\n",
       "       'chevrolet others', 'corolla spacio', 'aerio', 'altezza', 'vectra',\n",
       "       'minicab truck', 'outback', 'mark x', 'gaia', 'alphard', 'caldina',\n",
       "       'alphard g', 'brevis', 'axela sport', 'alphard v', 'pleo',\n",
       "       'minicab van', 'nv100clipper', 'sx4', 'legacy', 'aristo',\n",
       "       'palette', 'wizard', 'forester', 'grand escudo', 'jetta',\n",
       "       'corolla axio', 'discovery', 'stagea', 'dion', 'mira avy',\n",
       "       'mark ii', 'corolla runx', 'hijet cargo', 'biante', 'carol eco',\n",
       "       'axela', 'cami', 'hijet truck', 'e-class', 'hr-v', 'elysion',\n",
       "       'crown comfort', 'canter', 'impreza sportswagon', 'corolla ii',\n",
       "       '207', 'sx4 sedan', 'townace van', 'allion', 'passo sette',\n",
       "       'crown', 'civic ferio', 'fuga', 'legacy touring wagon', 'tucson',\n",
       "       'gloria hardtop', '3 series', 'x-trek', 'stella', 'bongo',\n",
       "       'bongo friendee', 'a4', 'a4 avant', 'fit shuttle', 'acty truck',\n",
       "       'sambar truck', 'freed', 'isis', 'exiga', 'skyline', 'allex',\n",
       "       'splash', 'titan dash', 'chaser', 'voltz', 'visto', 'civic hybrid',\n",
       "       'wingroad', 'murano', 'probox', 'c-class', 'corolla sedan',\n",
       "       'xsara picasso', 'rx-8', 'corona premio', 'comfort', 'miragino',\n",
       "       'new beetle', 'viewt', 'canter guts', 'regius wagon', 'v70',\n",
       "       'mira es', 'acty van', 'duet', 'b-class', '307', 'belta', 'otti',\n",
       "       'mini cooper', 'ek sport', 'escudo', 'succeed van', 'atrai wagon',\n",
       "       'atrai', 'zest', 'mdx', 'galant fortis', 'terios', 'clipper van',\n",
       "       '1 series', 'townace noah', 'premio', 'outlander', 'opa',\n",
       "       'bongo brawny truck', 'masterace surf', 'move latte', 'santa fe',\n",
       "       'terracan', 'teana', 'cima', 'auris', 'corolla fielder', 'ad',\n",
       "       'freelander', 'town box', 'probox van', 'golf variant', 'windom',\n",
       "       'cerato', 'pride', 'escape', 'landy', 'vivio', 'spade', 'clipper',\n",
       "       'dutro', 'elf truck', 'carina', 'wagon r rr', 'x-type', 'trajet',\n",
       "       'minica', 'c30', 'z', 'estima t'], dtype=object)"
      ]
     },
     "execution_count": 9,
     "metadata": {},
     "output_type": "execute_result"
    }
   ],
   "source": [
    "df['model'].unique()"
   ]
  },
  {
   "cell_type": "code",
   "execution_count": 10,
   "id": "8f38d81c",
   "metadata": {},
   "outputs": [
    {
     "data": {
      "text/html": [
       "<div>\n",
       "<style scoped>\n",
       "    .dataframe tbody tr th:only-of-type {\n",
       "        vertical-align: middle;\n",
       "    }\n",
       "\n",
       "    .dataframe tbody tr th {\n",
       "        vertical-align: top;\n",
       "    }\n",
       "\n",
       "    .dataframe thead th {\n",
       "        text-align: right;\n",
       "    }\n",
       "</style>\n",
       "<table border=\"1\" class=\"dataframe\">\n",
       "  <thead>\n",
       "    <tr style=\"text-align: right;\">\n",
       "      <th></th>\n",
       "      <th>price</th>\n",
       "      <th>year</th>\n",
       "      <th>mileage</th>\n",
       "      <th>engine_capacity</th>\n",
       "      <th>transmission</th>\n",
       "      <th>drive</th>\n",
       "      <th>hand_drive</th>\n",
       "      <th>fuel</th>\n",
       "    </tr>\n",
       "  </thead>\n",
       "  <tbody>\n",
       "    <tr>\n",
       "      <th>0</th>\n",
       "      <td>80</td>\n",
       "      <td>2003</td>\n",
       "      <td>80000</td>\n",
       "      <td>1240</td>\n",
       "      <td>at</td>\n",
       "      <td>2wd</td>\n",
       "      <td>rhd</td>\n",
       "      <td>gasoline</td>\n",
       "    </tr>\n",
       "    <tr>\n",
       "      <th>1</th>\n",
       "      <td>110</td>\n",
       "      <td>2010</td>\n",
       "      <td>53000</td>\n",
       "      <td>1200</td>\n",
       "      <td>at</td>\n",
       "      <td>2wd</td>\n",
       "      <td>rhd</td>\n",
       "      <td>gasoline</td>\n",
       "    </tr>\n",
       "    <tr>\n",
       "      <th>2</th>\n",
       "      <td>165</td>\n",
       "      <td>2005</td>\n",
       "      <td>47690</td>\n",
       "      <td>2000</td>\n",
       "      <td>at</td>\n",
       "      <td>2wd</td>\n",
       "      <td>rhd</td>\n",
       "      <td>gasoline</td>\n",
       "    </tr>\n",
       "    <tr>\n",
       "      <th>3</th>\n",
       "      <td>190</td>\n",
       "      <td>2008</td>\n",
       "      <td>130661</td>\n",
       "      <td>1990</td>\n",
       "      <td>at</td>\n",
       "      <td>2wd</td>\n",
       "      <td>rhd</td>\n",
       "      <td>gasoline</td>\n",
       "    </tr>\n",
       "    <tr>\n",
       "      <th>4</th>\n",
       "      <td>190</td>\n",
       "      <td>2006</td>\n",
       "      <td>66300</td>\n",
       "      <td>660</td>\n",
       "      <td>at</td>\n",
       "      <td>2wd</td>\n",
       "      <td>rhd</td>\n",
       "      <td>gasoline</td>\n",
       "    </tr>\n",
       "  </tbody>\n",
       "</table>\n",
       "</div>"
      ],
      "text/plain": [
       "   price  year  mileage  engine_capacity transmission drive hand_drive  \\\n",
       "0     80  2003    80000             1240           at   2wd        rhd   \n",
       "1    110  2010    53000             1200           at   2wd        rhd   \n",
       "2    165  2005    47690             2000           at   2wd        rhd   \n",
       "3    190  2008   130661             1990           at   2wd        rhd   \n",
       "4    190  2006    66300              660           at   2wd        rhd   \n",
       "\n",
       "       fuel  \n",
       "0  gasoline  \n",
       "1  gasoline  \n",
       "2  gasoline  \n",
       "3  gasoline  \n",
       "4  gasoline  "
      ]
     },
     "execution_count": 10,
     "metadata": {},
     "output_type": "execute_result"
    }
   ],
   "source": [
    "#Dropping model and mark column\n",
    "\n",
    "df=df.drop(columns=['id','mark','model'],axis=1)\n",
    "df.head()"
   ]
  },
  {
   "cell_type": "markdown",
   "id": "b084246c",
   "metadata": {},
   "source": [
    "Dropped drops which are not required "
   ]
  },
  {
   "cell_type": "code",
   "execution_count": 11,
   "id": "e6bc30d0",
   "metadata": {},
   "outputs": [
    {
     "data": {
      "text/plain": [
       "array(['at', 'mt', 'cvt'], dtype=object)"
      ]
     },
     "execution_count": 11,
     "metadata": {},
     "output_type": "execute_result"
    }
   ],
   "source": [
    "df['transmission'].unique()"
   ]
  },
  {
   "cell_type": "code",
   "execution_count": 12,
   "id": "293ed3f9",
   "metadata": {},
   "outputs": [
    {
     "data": {
      "text/plain": [
       "array(['2wd', '4wd', 'awd'], dtype=object)"
      ]
     },
     "execution_count": 12,
     "metadata": {},
     "output_type": "execute_result"
    }
   ],
   "source": [
    "df['drive'].unique()"
   ]
  },
  {
   "cell_type": "code",
   "execution_count": 13,
   "id": "0304e48f",
   "metadata": {},
   "outputs": [
    {
     "data": {
      "text/plain": [
       "array(['gasoline', 'diesel', 'hybrid', 'lpg', 'cng'], dtype=object)"
      ]
     },
     "execution_count": 13,
     "metadata": {},
     "output_type": "execute_result"
    }
   ],
   "source": [
    "df['fuel'].unique()"
   ]
  },
  {
   "cell_type": "code",
   "execution_count": 14,
   "id": "e1b0f1da",
   "metadata": {},
   "outputs": [
    {
     "data": {
      "text/plain": [
       "array(['rhd', 'center', 'lhd'], dtype=object)"
      ]
     },
     "execution_count": 14,
     "metadata": {},
     "output_type": "execute_result"
    }
   ],
   "source": [
    "df['hand_drive'].unique()"
   ]
  },
  {
   "cell_type": "markdown",
   "id": "cb0c4f80",
   "metadata": {},
   "source": [
    "# EDA"
   ]
  },
  {
   "cell_type": "markdown",
   "id": "2d8df29e",
   "metadata": {},
   "source": [
    "## Visualisation of Data(categorical columns)"
   ]
  },
  {
   "cell_type": "code",
   "execution_count": 15,
   "id": "d188fcc9",
   "metadata": {},
   "outputs": [
    {
     "name": "stdout",
     "output_type": "stream",
     "text": [
      "at     2171\n",
      "mt      117\n",
      "cvt      30\n",
      "Name: transmission, dtype: int64\n"
     ]
    },
    {
     "data": {
      "image/png": "[encoded data removed]",
      "text/plain": [
       "<Figure size 432x288 with 1 Axes>"
      ]
     },
     "metadata": {
      "needs_background": "light"
     },
     "output_type": "display_data"
    }
   ],
   "source": [
    "ax=sns.countplot(x='transmission',data=df)\n",
    "print(df['transmission'].value_counts())"
   ]
  },
  {
   "cell_type": "code",
   "execution_count": 16,
   "id": "7010b4cd",
   "metadata": {},
   "outputs": [
    {
     "name": "stdout",
     "output_type": "stream",
     "text": [
      "2wd    2121\n",
      "4wd     192\n",
      "awd       5\n",
      "Name: drive, dtype: int64\n"
     ]
    },
    {
     "data": {
      "image/png": "[encoded data removed]",
      "text/plain": [
       "<Figure size 432x288 with 1 Axes>"
      ]
     },
     "metadata": {
      "needs_background": "light"
     },
     "output_type": "display_data"
    }
   ],
   "source": [
    "ax=sns.countplot(x='drive',data=df)\n",
    "print(df['drive'].value_counts())"
   ]
  },
  {
   "cell_type": "code",
   "execution_count": 17,
   "id": "bc1ec16b",
   "metadata": {},
   "outputs": [
    {
     "name": "stdout",
     "output_type": "stream",
     "text": [
      "rhd       2301\n",
      "lhd         16\n",
      "center       1\n",
      "Name: hand_drive, dtype: int64\n"
     ]
    },
    {
     "data": {
      "image/png": "[encoded data removed]",
      "text/plain": [
       "<Figure size 432x288 with 1 Axes>"
      ]
     },
     "metadata": {
      "needs_background": "light"
     },
     "output_type": "display_data"
    }
   ],
   "source": [
    "ax=sns.countplot(x='hand_drive',data=df)\n",
    "print(df['hand_drive'].value_counts())"
   ]
  },
  {
   "cell_type": "code",
   "execution_count": 18,
   "id": "11c16a39",
   "metadata": {},
   "outputs": [
    {
     "name": "stdout",
     "output_type": "stream",
     "text": [
      "rhd       2301\n",
      "lhd         16\n",
      "center       1\n",
      "Name: hand_drive, dtype: int64\n"
     ]
    },
    {
     "data": {
      "image/png": "[encoded data removed]",
      "text/plain": [
       "<Figure size 432x288 with 1 Axes>"
      ]
     },
     "metadata": {
      "needs_background": "light"
     },
     "output_type": "display_data"
    }
   ],
   "source": [
    "ax=sns.countplot(x='hand_drive',data=df)\n",
    "print(df['hand_drive'].value_counts())"
   ]
  },
  {
   "cell_type": "markdown",
   "id": "276da989",
   "metadata": {},
   "source": [
    "## Visualisation of Data(continous columns)"
   ]
  },
  {
   "cell_type": "code",
   "execution_count": 19,
   "id": "6441d634",
   "metadata": {},
   "outputs": [
    {
     "data": {
      "text/plain": [
       "<AxesSubplot:xlabel='price', ylabel='Density'>"
      ]
     },
     "execution_count": 19,
     "metadata": {},
     "output_type": "execute_result"
    },
    {
     "data": {
      "image/png": "[encoded data removed]",
      "text/plain": [
       "<Figure size 432x288 with 1 Axes>"
      ]
     },
     "metadata": {
      "needs_background": "light"
     },
     "output_type": "display_data"
    }
   ],
   "source": [
    "sns.distplot(df['price'])"
   ]
  },
  {
   "cell_type": "markdown",
   "id": "269adcba",
   "metadata": {},
   "source": [
    " We can observe that target variable is right skewed"
   ]
  },
  {
   "cell_type": "code",
   "execution_count": 20,
   "id": "d185880f",
   "metadata": {},
   "outputs": [
    {
     "data": {
      "text/plain": [
       "<AxesSubplot:xlabel='engine_capacity', ylabel='Density'>"
      ]
     },
     "execution_count": 20,
     "metadata": {},
     "output_type": "execute_result"
    },
    {
     "data": {
      "image/png": "[encoded data removed]",
      "text/plain": [
       "<Figure size 432x288 with 1 Axes>"
      ]
     },
     "metadata": {
      "needs_background": "light"
     },
     "output_type": "display_data"
    }
   ],
   "source": [
    "sns.distplot(df['engine_capacity'])"
   ]
  },
  {
   "cell_type": "markdown",
   "id": "c5f239f2",
   "metadata": {},
   "source": [
    "We can observe that engine_capacity column is right skewed"
   ]
  },
  {
   "cell_type": "markdown",
   "id": "cfbf905f",
   "metadata": {},
   "source": [
    "# Encoding Categorical columns"
   ]
  },
  {
   "cell_type": "code",
   "execution_count": 21,
   "id": "8369a830",
   "metadata": {},
   "outputs": [
    {
     "data": {
      "text/html": [
       "<div>\n",
       "<style scoped>\n",
       "    .dataframe tbody tr th:only-of-type {\n",
       "        vertical-align: middle;\n",
       "    }\n",
       "\n",
       "    .dataframe tbody tr th {\n",
       "        vertical-align: top;\n",
       "    }\n",
       "\n",
       "    .dataframe thead th {\n",
       "        text-align: right;\n",
       "    }\n",
       "</style>\n",
       "<table border=\"1\" class=\"dataframe\">\n",
       "  <thead>\n",
       "    <tr style=\"text-align: right;\">\n",
       "      <th></th>\n",
       "      <th>price</th>\n",
       "      <th>year</th>\n",
       "      <th>mileage</th>\n",
       "      <th>engine_capacity</th>\n",
       "      <th>transmission</th>\n",
       "      <th>drive</th>\n",
       "      <th>hand_drive</th>\n",
       "      <th>fuel</th>\n",
       "    </tr>\n",
       "  </thead>\n",
       "  <tbody>\n",
       "    <tr>\n",
       "      <th>0</th>\n",
       "      <td>80</td>\n",
       "      <td>2003</td>\n",
       "      <td>80000</td>\n",
       "      <td>1240</td>\n",
       "      <td>0</td>\n",
       "      <td>2wd</td>\n",
       "      <td>2</td>\n",
       "      <td>2</td>\n",
       "    </tr>\n",
       "    <tr>\n",
       "      <th>1</th>\n",
       "      <td>110</td>\n",
       "      <td>2010</td>\n",
       "      <td>53000</td>\n",
       "      <td>1200</td>\n",
       "      <td>0</td>\n",
       "      <td>2wd</td>\n",
       "      <td>2</td>\n",
       "      <td>2</td>\n",
       "    </tr>\n",
       "    <tr>\n",
       "      <th>2</th>\n",
       "      <td>165</td>\n",
       "      <td>2005</td>\n",
       "      <td>47690</td>\n",
       "      <td>2000</td>\n",
       "      <td>0</td>\n",
       "      <td>2wd</td>\n",
       "      <td>2</td>\n",
       "      <td>2</td>\n",
       "    </tr>\n",
       "    <tr>\n",
       "      <th>3</th>\n",
       "      <td>190</td>\n",
       "      <td>2008</td>\n",
       "      <td>130661</td>\n",
       "      <td>1990</td>\n",
       "      <td>0</td>\n",
       "      <td>2wd</td>\n",
       "      <td>2</td>\n",
       "      <td>2</td>\n",
       "    </tr>\n",
       "    <tr>\n",
       "      <th>4</th>\n",
       "      <td>190</td>\n",
       "      <td>2006</td>\n",
       "      <td>66300</td>\n",
       "      <td>660</td>\n",
       "      <td>0</td>\n",
       "      <td>2wd</td>\n",
       "      <td>2</td>\n",
       "      <td>2</td>\n",
       "    </tr>\n",
       "  </tbody>\n",
       "</table>\n",
       "</div>"
      ],
      "text/plain": [
       "   price  year  mileage  engine_capacity  transmission drive  hand_drive  fuel\n",
       "0     80  2003    80000             1240             0   2wd           2     2\n",
       "1    110  2010    53000             1200             0   2wd           2     2\n",
       "2    165  2005    47690             2000             0   2wd           2     2\n",
       "3    190  2008   130661             1990             0   2wd           2     2\n",
       "4    190  2006    66300              660             0   2wd           2     2"
      ]
     },
     "execution_count": 21,
     "metadata": {},
     "output_type": "execute_result"
    }
   ],
   "source": [
    "#Enocoding  transmission ,fuel,hand_drive using label encoder\n",
    "\n",
    "list1=['transmission','fuel','hand_drive']\n",
    "\n",
    "from sklearn.preprocessing import LabelEncoder\n",
    "le=LabelEncoder()\n",
    "for col in list1:\n",
    "    df[col]=le.fit_transform(df[col])\n",
    "df.head()"
   ]
  },
  {
   "cell_type": "markdown",
   "id": "6f2626ca",
   "metadata": {},
   "source": [
    "Encoded data with label encoder as data are categorically nominal"
   ]
  },
  {
   "cell_type": "code",
   "execution_count": 22,
   "id": "d4f0ad19",
   "metadata": {},
   "outputs": [
    {
     "data": {
      "text/html": [
       "<div>\n",
       "<style scoped>\n",
       "    .dataframe tbody tr th:only-of-type {\n",
       "        vertical-align: middle;\n",
       "    }\n",
       "\n",
       "    .dataframe tbody tr th {\n",
       "        vertical-align: top;\n",
       "    }\n",
       "\n",
       "    .dataframe thead th {\n",
       "        text-align: right;\n",
       "    }\n",
       "</style>\n",
       "<table border=\"1\" class=\"dataframe\">\n",
       "  <thead>\n",
       "    <tr style=\"text-align: right;\">\n",
       "      <th></th>\n",
       "      <th>price</th>\n",
       "      <th>year</th>\n",
       "      <th>mileage</th>\n",
       "      <th>engine_capacity</th>\n",
       "      <th>transmission</th>\n",
       "      <th>drive</th>\n",
       "      <th>hand_drive</th>\n",
       "      <th>fuel</th>\n",
       "    </tr>\n",
       "  </thead>\n",
       "  <tbody>\n",
       "    <tr>\n",
       "      <th>0</th>\n",
       "      <td>80</td>\n",
       "      <td>2003</td>\n",
       "      <td>80000</td>\n",
       "      <td>1240</td>\n",
       "      <td>0</td>\n",
       "      <td>2.0</td>\n",
       "      <td>2</td>\n",
       "      <td>2</td>\n",
       "    </tr>\n",
       "    <tr>\n",
       "      <th>1</th>\n",
       "      <td>110</td>\n",
       "      <td>2010</td>\n",
       "      <td>53000</td>\n",
       "      <td>1200</td>\n",
       "      <td>0</td>\n",
       "      <td>2.0</td>\n",
       "      <td>2</td>\n",
       "      <td>2</td>\n",
       "    </tr>\n",
       "    <tr>\n",
       "      <th>2</th>\n",
       "      <td>165</td>\n",
       "      <td>2005</td>\n",
       "      <td>47690</td>\n",
       "      <td>2000</td>\n",
       "      <td>0</td>\n",
       "      <td>2.0</td>\n",
       "      <td>2</td>\n",
       "      <td>2</td>\n",
       "    </tr>\n",
       "    <tr>\n",
       "      <th>3</th>\n",
       "      <td>190</td>\n",
       "      <td>2008</td>\n",
       "      <td>130661</td>\n",
       "      <td>1990</td>\n",
       "      <td>0</td>\n",
       "      <td>2.0</td>\n",
       "      <td>2</td>\n",
       "      <td>2</td>\n",
       "    </tr>\n",
       "    <tr>\n",
       "      <th>4</th>\n",
       "      <td>190</td>\n",
       "      <td>2006</td>\n",
       "      <td>66300</td>\n",
       "      <td>660</td>\n",
       "      <td>0</td>\n",
       "      <td>2.0</td>\n",
       "      <td>2</td>\n",
       "      <td>2</td>\n",
       "    </tr>\n",
       "  </tbody>\n",
       "</table>\n",
       "</div>"
      ],
      "text/plain": [
       "   price  year  mileage  engine_capacity  transmission  drive  hand_drive  \\\n",
       "0     80  2003    80000             1240             0    2.0           2   \n",
       "1    110  2010    53000             1200             0    2.0           2   \n",
       "2    165  2005    47690             2000             0    2.0           2   \n",
       "3    190  2008   130661             1990             0    2.0           2   \n",
       "4    190  2006    66300              660             0    2.0           2   \n",
       "\n",
       "   fuel  \n",
       "0     2  \n",
       "1     2  \n",
       "2     2  \n",
       "3     2  \n",
       "4     2  "
      ]
     },
     "execution_count": 22,
     "metadata": {},
     "output_type": "execute_result"
    }
   ],
   "source": [
    "#Encoding drive column with Ordinal Encoder\n",
    "\n",
    "cat=['awd','4wd','2wd']\n",
    "\n",
    "from sklearn.preprocessing import OrdinalEncoder\n",
    "enc=OrdinalEncoder(categories=[cat])\n",
    "\n",
    "list2=['drive']\n",
    "\n",
    "for col in list2:\n",
    "    df[col]=enc.fit_transform(df[col].values.reshape(-1,1))\n",
    "df.head()"
   ]
  },
  {
   "cell_type": "markdown",
   "id": "db129286",
   "metadata": {},
   "source": [
    "Enocoded drive column with ordial encoder as data are in order"
   ]
  },
  {
   "cell_type": "markdown",
   "id": "6e098127",
   "metadata": {},
   "source": [
    "# Checking For skewness"
   ]
  },
  {
   "cell_type": "code",
   "execution_count": 23,
   "id": "11a7d843",
   "metadata": {},
   "outputs": [
    {
     "data": {
      "text/plain": [
       "hand_drive        -12.811470\n",
       "drive              -3.193137\n",
       "year               -0.845917\n",
       "price              -0.466780\n",
       "mileage             3.089142\n",
       "transmission        3.820441\n",
       "engine_capacity     4.038892\n",
       "fuel                4.146744\n",
       "dtype: float64"
      ]
     },
     "execution_count": 23,
     "metadata": {},
     "output_type": "execute_result"
    }
   ],
   "source": [
    "df.skew().sort_values()"
   ]
  },
  {
   "cell_type": "markdown",
   "id": "cebd086e",
   "metadata": {},
   "source": [
    " we can see that all the features are having skewness but hand_drive column is highly skewed"
   ]
  },
  {
   "cell_type": "markdown",
   "id": "a67da4ef",
   "metadata": {},
   "source": [
    "# Checking for Corrrelation"
   ]
  },
  {
   "cell_type": "markdown",
   "id": "3543352e",
   "metadata": {},
   "source": [
    "## Checking the correaltion with target variable and between features"
   ]
  },
  {
   "cell_type": "code",
   "execution_count": 24,
   "id": "e8d77a9d",
   "metadata": {},
   "outputs": [],
   "source": [
    "# Plotting heatmap"
   ]
  },
  {
   "cell_type": "code",
   "execution_count": 25,
   "id": "220e66f8",
   "metadata": {},
   "outputs": [
    {
     "data": {
      "image/png": "[encoded data removed]",
      "text/plain": [
       "<Figure size 1800x1440 with 2 Axes>"
      ]
     },
     "metadata": {
      "needs_background": "light"
     },
     "output_type": "display_data"
    }
   ],
   "source": [
    "plt.figure(figsize=(25,20))\n",
    "sns.heatmap(df.corr(),annot=True,linewidths=0.5,linecolor='black',fmt='.2f')\n",
    "plt.title(\"Correlation matrix\")\n",
    "plt.savefig('Correlation matrix.jpg')\n",
    "plt.show()"
   ]
  },
  {
   "cell_type": "markdown",
   "id": "d4afe40f",
   "metadata": {},
   "source": [
    "we can observe that year column have highest relationship with target varibale(21%) and fuel and mileage column have lowest relationship with target varibale(2%)"
   ]
  },
  {
   "cell_type": "markdown",
   "id": "d544c90f",
   "metadata": {},
   "source": [
    "# Checking the columns which are positively and negatively related to target varibale"
   ]
  },
  {
   "cell_type": "code",
   "execution_count": 26,
   "id": "0fa785b4",
   "metadata": {},
   "outputs": [
    {
     "data": {
      "image/png": "[encoded data removed]",
      "text/plain": [
       "<Figure size 1584x504 with 1 Axes>"
      ]
     },
     "metadata": {
      "needs_background": "light"
     },
     "output_type": "display_data"
    }
   ],
   "source": [
    "plt.figure(figsize=(22,7))\n",
    "df.corr()['price'].sort_values(ascending=False).drop(['price']).plot(kind='bar',color='c')\n",
    "plt.xlabel('Feature',fontsize=14)\n",
    "plt.ylabel('column with target names',fontsize=18)\n",
    "plt.title('Correlation')\n",
    "plt.show()\n"
   ]
  },
  {
   "cell_type": "markdown",
   "id": "3a5cf515",
   "metadata": {},
   "source": [
    "we can observe that engine_capacity, transmission ,mileage are positively related to target vaiable and fuel, hand_drive, drive and year are negatively related to target varibale"
   ]
  },
  {
   "cell_type": "markdown",
   "id": "81608147",
   "metadata": {},
   "source": [
    "# Checking for outliers"
   ]
  },
  {
   "cell_type": "code",
   "execution_count": 27,
   "id": "f5f3f4c2",
   "metadata": {},
   "outputs": [
    {
     "data": {
      "text/plain": [
       "<AxesSubplot:>"
      ]
     },
     "execution_count": 27,
     "metadata": {},
     "output_type": "execute_result"
    },
    {
     "data": {
      "image/png": "[encoded data removed]",
      "text/plain": [
       "<Figure size 432x288 with 1 Axes>"
      ]
     },
     "metadata": {
      "needs_background": "light"
     },
     "output_type": "display_data"
    }
   ],
   "source": [
    "df['price'].plot.box()"
   ]
  },
  {
   "cell_type": "code",
   "execution_count": 28,
   "id": "5a4a5a77",
   "metadata": {},
   "outputs": [
    {
     "data": {
      "text/plain": [
       "<AxesSubplot:>"
      ]
     },
     "execution_count": 28,
     "metadata": {},
     "output_type": "execute_result"
    },
    {
     "data": {
      "image/png": "[encoded data removed]",
      "text/plain": [
       "<Figure size 432x288 with 1 Axes>"
      ]
     },
     "metadata": {
      "needs_background": "light"
     },
     "output_type": "display_data"
    }
   ],
   "source": [
    "df['year'].plot.box()"
   ]
  },
  {
   "cell_type": "code",
   "execution_count": 29,
   "id": "5fbe3b4a",
   "metadata": {},
   "outputs": [
    {
     "data": {
      "text/plain": [
       "<AxesSubplot:>"
      ]
     },
     "execution_count": 29,
     "metadata": {},
     "output_type": "execute_result"
    },
    {
     "data": {
      "image/png": "[encoded data removed]",
      "text/plain": [
       "<Figure size 432x288 with 1 Axes>"
      ]
     },
     "metadata": {
      "needs_background": "light"
     },
     "output_type": "display_data"
    }
   ],
   "source": [
    "df['mileage'].plot.box()"
   ]
  },
  {
   "cell_type": "code",
   "execution_count": 30,
   "id": "c0df1aaf",
   "metadata": {},
   "outputs": [
    {
     "data": {
      "text/plain": [
       "<AxesSubplot:>"
      ]
     },
     "execution_count": 30,
     "metadata": {},
     "output_type": "execute_result"
    },
    {
     "data": {
      "image/png": "[encoded data removed]",
      "text/plain": [
       "<Figure size 432x288 with 1 Axes>"
      ]
     },
     "metadata": {
      "needs_background": "light"
     },
     "output_type": "display_data"
    }
   ],
   "source": [
    "df['engine_capacity'].plot.box()"
   ]
  },
  {
   "cell_type": "markdown",
   "id": "9bba4172",
   "metadata": {},
   "source": [
    "We can observe that continous variable are having outliers but we wont remove outliers from target variable"
   ]
  },
  {
   "cell_type": "markdown",
   "id": "022ff190",
   "metadata": {},
   "source": [
    "# DataPreprocessing"
   ]
  },
  {
   "cell_type": "markdown",
   "id": "a9e38958",
   "metadata": {},
   "source": [
    "## Removing outliers using z- technique"
   ]
  },
  {
   "cell_type": "code",
   "execution_count": 31,
   "id": "f5ae09f3",
   "metadata": {},
   "outputs": [
    {
     "data": {
      "text/html": [
       "<div>\n",
       "<style scoped>\n",
       "    .dataframe tbody tr th:only-of-type {\n",
       "        vertical-align: middle;\n",
       "    }\n",
       "\n",
       "    .dataframe tbody tr th {\n",
       "        vertical-align: top;\n",
       "    }\n",
       "\n",
       "    .dataframe thead th {\n",
       "        text-align: right;\n",
       "    }\n",
       "</style>\n",
       "<table border=\"1\" class=\"dataframe\">\n",
       "  <thead>\n",
       "    <tr style=\"text-align: right;\">\n",
       "      <th></th>\n",
       "      <th>price</th>\n",
       "      <th>year</th>\n",
       "      <th>mileage</th>\n",
       "      <th>engine_capacity</th>\n",
       "      <th>transmission</th>\n",
       "      <th>drive</th>\n",
       "      <th>hand_drive</th>\n",
       "      <th>fuel</th>\n",
       "    </tr>\n",
       "  </thead>\n",
       "  <tbody>\n",
       "    <tr>\n",
       "      <th>0</th>\n",
       "      <td>3.089012</td>\n",
       "      <td>0.803769</td>\n",
       "      <td>0.381195</td>\n",
       "      <td>0.485945</td>\n",
       "      <td>0.253487</td>\n",
       "      <td>0.300919</td>\n",
       "      <td>0.083893</td>\n",
       "      <td>0.011522</td>\n",
       "    </tr>\n",
       "    <tr>\n",
       "      <th>1</th>\n",
       "      <td>2.985066</td>\n",
       "      <td>1.089113</td>\n",
       "      <td>0.895470</td>\n",
       "      <td>0.558743</td>\n",
       "      <td>0.253487</td>\n",
       "      <td>0.300919</td>\n",
       "      <td>0.083893</td>\n",
       "      <td>0.011522</td>\n",
       "    </tr>\n",
       "    <tr>\n",
       "      <th>2</th>\n",
       "      <td>2.794498</td>\n",
       "      <td>0.262946</td>\n",
       "      <td>0.996610</td>\n",
       "      <td>0.897214</td>\n",
       "      <td>0.253487</td>\n",
       "      <td>0.300919</td>\n",
       "      <td>0.083893</td>\n",
       "      <td>0.011522</td>\n",
       "    </tr>\n",
       "    <tr>\n",
       "      <th>3</th>\n",
       "      <td>2.707876</td>\n",
       "      <td>0.548289</td>\n",
       "      <td>0.583755</td>\n",
       "      <td>0.879015</td>\n",
       "      <td>0.253487</td>\n",
       "      <td>0.300919</td>\n",
       "      <td>0.083893</td>\n",
       "      <td>0.011522</td>\n",
       "    </tr>\n",
       "    <tr>\n",
       "      <th>4</th>\n",
       "      <td>2.707876</td>\n",
       "      <td>0.007466</td>\n",
       "      <td>0.642142</td>\n",
       "      <td>1.541515</td>\n",
       "      <td>0.253487</td>\n",
       "      <td>0.300919</td>\n",
       "      <td>0.083893</td>\n",
       "      <td>0.011522</td>\n",
       "    </tr>\n",
       "    <tr>\n",
       "      <th>...</th>\n",
       "      <td>...</td>\n",
       "      <td>...</td>\n",
       "      <td>...</td>\n",
       "      <td>...</td>\n",
       "      <td>...</td>\n",
       "      <td>...</td>\n",
       "      <td>...</td>\n",
       "      <td>...</td>\n",
       "    </tr>\n",
       "    <tr>\n",
       "      <th>2313</th>\n",
       "      <td>1.484621</td>\n",
       "      <td>0.818701</td>\n",
       "      <td>0.399740</td>\n",
       "      <td>0.930012</td>\n",
       "      <td>0.253487</td>\n",
       "      <td>0.300919</td>\n",
       "      <td>0.083893</td>\n",
       "      <td>0.011522</td>\n",
       "    </tr>\n",
       "    <tr>\n",
       "      <th>2314</th>\n",
       "      <td>1.484621</td>\n",
       "      <td>0.803769</td>\n",
       "      <td>0.018796</td>\n",
       "      <td>2.717161</td>\n",
       "      <td>0.253487</td>\n",
       "      <td>0.300919</td>\n",
       "      <td>0.083893</td>\n",
       "      <td>0.011522</td>\n",
       "    </tr>\n",
       "    <tr>\n",
       "      <th>2315</th>\n",
       "      <td>1.484621</td>\n",
       "      <td>0.262946</td>\n",
       "      <td>0.018796</td>\n",
       "      <td>1.541515</td>\n",
       "      <td>1.972205</td>\n",
       "      <td>0.300919</td>\n",
       "      <td>0.083893</td>\n",
       "      <td>0.011522</td>\n",
       "    </tr>\n",
       "    <tr>\n",
       "      <th>2316</th>\n",
       "      <td>1.484621</td>\n",
       "      <td>1.615004</td>\n",
       "      <td>1.333053</td>\n",
       "      <td>1.541515</td>\n",
       "      <td>0.253487</td>\n",
       "      <td>3.152204</td>\n",
       "      <td>0.083893</td>\n",
       "      <td>0.011522</td>\n",
       "    </tr>\n",
       "    <tr>\n",
       "      <th>2317</th>\n",
       "      <td>1.484621</td>\n",
       "      <td>0.262946</td>\n",
       "      <td>0.527478</td>\n",
       "      <td>2.717161</td>\n",
       "      <td>0.253487</td>\n",
       "      <td>0.300919</td>\n",
       "      <td>0.083893</td>\n",
       "      <td>0.011522</td>\n",
       "    </tr>\n",
       "  </tbody>\n",
       "</table>\n",
       "<p>2318 rows × 8 columns</p>\n",
       "</div>"
      ],
      "text/plain": [
       "         price      year   mileage  engine_capacity  transmission     drive  \\\n",
       "0     3.089012  0.803769  0.381195         0.485945      0.253487  0.300919   \n",
       "1     2.985066  1.089113  0.895470         0.558743      0.253487  0.300919   \n",
       "2     2.794498  0.262946  0.996610         0.897214      0.253487  0.300919   \n",
       "3     2.707876  0.548289  0.583755         0.879015      0.253487  0.300919   \n",
       "4     2.707876  0.007466  0.642142         1.541515      0.253487  0.300919   \n",
       "...        ...       ...       ...              ...           ...       ...   \n",
       "2313  1.484621  0.818701  0.399740         0.930012      0.253487  0.300919   \n",
       "2314  1.484621  0.803769  0.018796         2.717161      0.253487  0.300919   \n",
       "2315  1.484621  0.262946  0.018796         1.541515      1.972205  0.300919   \n",
       "2316  1.484621  1.615004  1.333053         1.541515      0.253487  3.152204   \n",
       "2317  1.484621  0.262946  0.527478         2.717161      0.253487  0.300919   \n",
       "\n",
       "      hand_drive      fuel  \n",
       "0       0.083893  0.011522  \n",
       "1       0.083893  0.011522  \n",
       "2       0.083893  0.011522  \n",
       "3       0.083893  0.011522  \n",
       "4       0.083893  0.011522  \n",
       "...          ...       ...  \n",
       "2313    0.083893  0.011522  \n",
       "2314    0.083893  0.011522  \n",
       "2315    0.083893  0.011522  \n",
       "2316    0.083893  0.011522  \n",
       "2317    0.083893  0.011522  \n",
       "\n",
       "[2318 rows x 8 columns]"
      ]
     },
     "execution_count": 31,
     "metadata": {},
     "output_type": "execute_result"
    }
   ],
   "source": [
    "from scipy.stats import zscore\n",
    "z=np.abs(zscore(df))\n",
    "z.shape\n",
    "z"
   ]
  },
  {
   "cell_type": "code",
   "execution_count": 32,
   "id": "9539cc08",
   "metadata": {},
   "outputs": [
    {
     "name": "stdout",
     "output_type": "stream",
     "text": [
      "(array([   0,    7,    7,    8,   10,   23,   23,   23,   23,   23,   52,\n",
      "         54,   75,   87,  103,  111,  111,  132,  134,  138,  145,  146,\n",
      "        160,  171,  171,  186,  196,  198,  243,  246,  247,  249,  249,\n",
      "        253,  259,  268,  274,  293,  309,  312,  312,  314,  334,  353,\n",
      "        359,  401,  401,  404,  406,  409,  414,  416,  432,  441,  444,\n",
      "        446,  456,  466,  467,  472,  485,  492,  495,  495,  502,  503,\n",
      "        507,  507,  508,  529,  533,  549,  551,  580,  594,  674,  675,\n",
      "        681,  691,  693,  696,  696,  700,  723,  724,  729,  732,  738,\n",
      "        739,  740,  740,  741,  741,  742,  743,  749,  750,  750,  751,\n",
      "        752,  753,  811,  818,  818,  820,  823,  829,  834,  841,  842,\n",
      "        842,  854,  862,  862,  869,  877,  879,  883,  891,  908,  913,\n",
      "        926,  927,  927,  938,  940,  941,  954,  956,  956,  958,  970,\n",
      "        971,  971,  973,  979, 1001, 1003, 1004, 1006, 1006, 1006, 1012,\n",
      "       1019, 1024, 1036, 1046, 1065, 1065, 1066, 1066, 1076, 1077, 1078,\n",
      "       1079, 1080, 1080, 1083, 1083, 1084, 1084, 1091, 1091, 1091, 1092,\n",
      "       1092, 1094, 1110, 1113, 1114, 1125, 1125, 1125, 1126, 1126, 1128,\n",
      "       1128, 1128, 1129, 1130, 1131, 1132, 1136, 1142, 1147, 1160, 1160,\n",
      "       1171, 1171, 1172, 1172, 1172, 1201, 1213, 1236, 1250, 1258, 1267,\n",
      "       1270, 1281, 1291, 1305, 1315, 1328, 1329, 1341, 1343, 1352, 1353,\n",
      "       1353, 1356, 1356, 1380, 1387, 1393, 1408, 1412, 1425, 1441, 1451,\n",
      "       1455, 1459, 1459, 1466, 1467, 1473, 1477, 1488, 1488, 1500, 1516,\n",
      "       1520, 1521, 1551, 1553, 1571, 1572, 1572, 1573, 1576, 1576, 1576,\n",
      "       1581, 1582, 1587, 1592, 1592, 1607, 1607, 1609, 1609, 1609, 1610,\n",
      "       1610, 1611, 1617, 1627, 1633, 1633, 1656, 1656, 1659, 1662, 1664,\n",
      "       1665, 1665, 1668, 1668, 1670, 1672, 1676, 1681, 1681, 1682, 1682,\n",
      "       1682, 1703, 1703, 1706, 1706, 1707, 1713, 1719, 1719, 1726, 1726,\n",
      "       1727, 1727, 1729, 1729, 1730, 1733, 1736, 1771, 1772, 1772, 1775,\n",
      "       1779, 1780, 1781, 1811, 1836, 1840, 1848, 1857, 1860, 1877, 1877,\n",
      "       1889, 1922, 1922, 1941, 1941, 1941, 1942, 1947, 1947, 1949, 1953,\n",
      "       1956, 1961, 1962, 1966, 1966, 1966, 1978, 1979, 1980, 1980, 1981,\n",
      "       1982, 1984, 1984, 1988, 1988, 1989, 1989, 1990, 1990, 1990, 1990,\n",
      "       2017, 2021, 2026, 2032, 2032, 2033, 2037, 2038, 2039, 2042, 2049,\n",
      "       2055, 2058, 2065, 2069, 2070, 2093, 2094, 2097, 2100, 2107, 2117,\n",
      "       2131, 2132, 2132, 2133, 2133, 2134, 2134, 2135, 2135, 2135, 2153,\n",
      "       2154, 2154, 2157, 2172, 2175, 2175, 2177, 2178, 2188, 2202, 2202,\n",
      "       2210, 2210, 2210, 2210, 2213, 2220, 2239, 2245, 2249, 2251, 2264,\n",
      "       2264, 2265, 2265, 2268, 2268, 2276, 2277, 2282, 2283, 2290, 2292,\n",
      "       2298, 2305, 2306, 2307, 2307, 2308, 2308, 2310, 2310, 2316],\n",
      "      dtype=int64), array([0, 3, 5, 4, 4, 1, 4, 5, 6, 7, 4, 5, 5, 5, 2, 4, 5, 5, 5, 4, 4, 6,\n",
      "       5, 4, 5, 5, 5, 5, 5, 5, 5, 1, 4, 5, 5, 2, 5, 5, 5, 1, 4, 5, 5, 5,\n",
      "       2, 4, 5, 5, 4, 5, 4, 5, 5, 5, 4, 5, 5, 4, 4, 4, 5, 5, 4, 5, 5, 5,\n",
      "       3, 5, 3, 5, 4, 4, 5, 5, 7, 4, 5, 5, 5, 5, 4, 5, 5, 5, 5, 4, 5, 5,\n",
      "       5, 1, 4, 4, 7, 5, 5, 4, 1, 4, 5, 5, 5, 2, 5, 7, 5, 5, 4, 5, 4, 1,\n",
      "       3, 5, 1, 4, 5, 5, 5, 5, 5, 7, 5, 5, 4, 5, 5, 4, 5, 5, 4, 5, 3, 5,\n",
      "       2, 7, 5, 7, 2, 4, 4, 4, 5, 7, 4, 5, 5, 5, 4, 4, 5, 4, 5, 4, 4, 5,\n",
      "       5, 6, 7, 4, 5, 3, 5, 1, 4, 5, 6, 7, 4, 5, 5, 5, 1, 4, 5, 4, 5, 1,\n",
      "       4, 5, 5, 5, 4, 4, 5, 6, 5, 1, 4, 1, 4, 1, 4, 5, 4, 4, 5, 5, 4, 5,\n",
      "       5, 5, 4, 5, 6, 5, 5, 4, 5, 7, 4, 5, 4, 5, 4, 4, 7, 4, 4, 5, 4, 5,\n",
      "       5, 2, 7, 5, 5, 5, 7, 4, 5, 5, 5, 4, 5, 5, 5, 5, 2, 4, 5, 1, 4, 5,\n",
      "       4, 3, 2, 4, 5, 1, 4, 2, 6, 7, 4, 5, 4, 5, 5, 4, 5, 4, 5, 5, 5, 4,\n",
      "       4, 5, 2, 5, 3, 3, 4, 4, 5, 1, 4, 5, 1, 4, 4, 7, 5, 2, 4, 5, 4, 5,\n",
      "       4, 5, 2, 4, 5, 5, 4, 5, 3, 5, 5, 3, 5, 5, 5, 5, 5, 5, 5, 5, 4, 5,\n",
      "       4, 4, 5, 1, 4, 5, 3, 4, 5, 5, 5, 5, 5, 5, 1, 4, 5, 5, 4, 4, 5, 4,\n",
      "       1, 3, 5, 6, 7, 6, 7, 4, 5, 6, 7, 5, 5, 3, 4, 5, 4, 3, 5, 4, 5, 5,\n",
      "       4, 4, 4, 4, 2, 5, 5, 5, 5, 5, 5, 6, 6, 7, 6, 7, 6, 7, 1, 4, 5, 4,\n",
      "       4, 5, 4, 5, 1, 4, 5, 5, 3, 4, 5, 2, 3, 4, 7, 7, 5, 5, 4, 5, 5, 6,\n",
      "       7, 6, 7, 6, 7, 4, 1, 5, 5, 4, 5, 5, 5, 3, 4, 5, 4, 5, 2, 7, 5],\n",
      "      dtype=int64))\n"
     ]
    },
    {
     "data": {
      "text/plain": [
       "417"
      ]
     },
     "execution_count": 32,
     "metadata": {},
     "output_type": "execute_result"
    }
   ],
   "source": [
    "threshold=3  # rule of thumb\n",
    "#index number\n",
    "print(np.where(z>3))\n",
    "len(np.where(z>3)[0])"
   ]
  },
  {
   "cell_type": "markdown",
   "id": "0db4fef5",
   "metadata": {},
   "source": [
    "Since 99% of the data lies between 3rd standard deviation .So we chose 3 as threshold"
   ]
  },
  {
   "cell_type": "code",
   "execution_count": 33,
   "id": "6a1900fb",
   "metadata": {},
   "outputs": [
    {
     "name": "stdout",
     "output_type": "stream",
     "text": [
      "old dataframe (2318, 8)\n",
      "new dataframe (2000, 8)\n",
      "total number of rows dropped 318\n"
     ]
    }
   ],
   "source": [
    "df_new=df[(z<3).all(axis=1)]\n",
    "print(\"old dataframe\",df.shape)\n",
    "print(\"new dataframe\",df_new.shape)\n",
    "print(\"total number of rows dropped\",df.shape[0]-df_new.shape[0])"
   ]
  },
  {
   "cell_type": "markdown",
   "id": "9d14ef21",
   "metadata": {},
   "source": [
    " We can observe that total number of rows dropped are 318"
   ]
  },
  {
   "cell_type": "markdown",
   "id": "11bc0678",
   "metadata": {},
   "source": [
    "## Percentage data loss"
   ]
  },
  {
   "cell_type": "code",
   "execution_count": 34,
   "id": "4adfea08",
   "metadata": {},
   "outputs": [
    {
     "data": {
      "text/plain": [
       "13.718723037100949"
      ]
     },
     "execution_count": 34,
     "metadata": {},
     "output_type": "execute_result"
    }
   ],
   "source": [
    "loss_percent=(2318-2000)/2318*100\n",
    "loss_percent"
   ]
  },
  {
   "cell_type": "markdown",
   "id": "1cf8301a",
   "metadata": {},
   "source": [
    "We can consider this outlier removed from dataset"
   ]
  },
  {
   "cell_type": "code",
   "execution_count": 35,
   "id": "67770bc9",
   "metadata": {},
   "outputs": [],
   "source": [
    "#Separating label and target varibale as x and y\n",
    "\n",
    "\n"
   ]
  },
  {
   "cell_type": "code",
   "execution_count": 36,
   "id": "d96d3af9",
   "metadata": {},
   "outputs": [],
   "source": [
    "x=df_new.drop(columns=['price'],axis=1)\n",
    "y=df_new['price']\n"
   ]
  },
  {
   "cell_type": "code",
   "execution_count": 37,
   "id": "e83c8a3e",
   "metadata": {},
   "outputs": [
    {
     "data": {
      "text/plain": [
       "(2000, 7)"
      ]
     },
     "execution_count": 37,
     "metadata": {},
     "output_type": "execute_result"
    }
   ],
   "source": [
    "x.shape"
   ]
  },
  {
   "cell_type": "code",
   "execution_count": 38,
   "id": "0d63defc",
   "metadata": {},
   "outputs": [
    {
     "data": {
      "text/plain": [
       "(2000,)"
      ]
     },
     "execution_count": 38,
     "metadata": {},
     "output_type": "execute_result"
    }
   ],
   "source": [
    "y.shape"
   ]
  },
  {
   "cell_type": "code",
   "execution_count": 39,
   "id": "227fe703",
   "metadata": {},
   "outputs": [],
   "source": [
    "x_cont=x[['mileage','engine_capacity','year']]\n"
   ]
  },
  {
   "cell_type": "markdown",
   "id": "5f5d02b7",
   "metadata": {},
   "source": [
    "# Removing skewness using Datatransfromation"
   ]
  },
  {
   "cell_type": "code",
   "execution_count": 41,
   "id": "3ac9cbf6",
   "metadata": {},
   "outputs": [],
   "source": [
    "from sklearn.preprocessing import power_transform\n",
    "\n",
    "x_trans=power_transform(x_cont,method='yeo-johnson')\n",
    "x_trans=pd.DataFrame(x_trans)"
   ]
  },
  {
   "cell_type": "code",
   "execution_count": 42,
   "id": "d90019fc",
   "metadata": {},
   "outputs": [
    {
     "data": {
      "image/png": "[encoded data removed]",
      "text/plain": [
       "<Figure size 1440x1296 with 3 Axes>"
      ]
     },
     "metadata": {},
     "output_type": "display_data"
    }
   ],
   "source": [
    "plt.figure(figsize=(20,18),facecolor='yellow')\n",
    "plotnumber=1\n",
    "\n",
    "for column in x_trans:\n",
    "    if plotnumber<=7:\n",
    "        ax=plt.subplot(2,4,plotnumber)\n",
    "        sns.distplot(x_trans[column])\n",
    "    plotnumber=plotnumber+1\n",
    "\n",
    "plt.show()"
   ]
  },
  {
   "cell_type": "code",
   "execution_count": 43,
   "id": "faafcc1f",
   "metadata": {},
   "outputs": [],
   "source": [
    "x=x.drop(columns=['mileage','engine_capacity','year'])"
   ]
  },
  {
   "cell_type": "code",
   "execution_count": 44,
   "id": "22d233ca",
   "metadata": {},
   "outputs": [],
   "source": [
    "X=x.join(x_cont)"
   ]
  },
  {
   "cell_type": "code",
   "execution_count": 59,
   "id": "d43e8fd8",
   "metadata": {},
   "outputs": [
    {
     "data": {
      "text/plain": [
       "transmission       7.986084\n",
       "drive              0.000000\n",
       "hand_drive         0.000000\n",
       "fuel               0.000000\n",
       "mileage            0.613630\n",
       "engine_capacity    0.793025\n",
       "year               0.027314\n",
       "dtype: float64"
      ]
     },
     "execution_count": 59,
     "metadata": {},
     "output_type": "execute_result"
    }
   ],
   "source": [
    "X.skew()"
   ]
  },
  {
   "cell_type": "code",
   "execution_count": 46,
   "id": "2f4b03e7",
   "metadata": {},
   "outputs": [
    {
     "data": {
      "text/plain": [
       "(2000,)"
      ]
     },
     "execution_count": 46,
     "metadata": {},
     "output_type": "execute_result"
    }
   ],
   "source": [
    "y.shape"
   ]
  },
  {
   "cell_type": "code",
   "execution_count": 54,
   "id": "6bda8af4",
   "metadata": {},
   "outputs": [
    {
     "data": {
      "text/plain": [
       "drive              0.000000\n",
       "hand_drive         0.000000\n",
       "fuel               0.000000\n",
       "year               0.027314\n",
       "mileage            0.613630\n",
       "engine_capacity    0.793025\n",
       "transmission       7.986084\n",
       "dtype: float64"
      ]
     },
     "execution_count": 54,
     "metadata": {},
     "output_type": "execute_result"
    }
   ],
   "source": [
    "X.skew().sort_values()"
   ]
  },
  {
   "cell_type": "markdown",
   "id": "d1b5fd58",
   "metadata": {},
   "source": [
    "we can see tht skewness is removed"
   ]
  },
  {
   "cell_type": "markdown",
   "id": "1ea823f4",
   "metadata": {},
   "source": [
    "# DataStandardization"
   ]
  },
  {
   "cell_type": "code",
   "execution_count": 47,
   "id": "fce2e9a4",
   "metadata": {},
   "outputs": [
    {
     "data": {
      "text/plain": [
       "array([[-0.12340351,  0.        ,  0.        , ..., -1.00047856,\n",
       "        -0.64562659,  1.13172483],\n",
       "       [-0.12340351,  0.        ,  0.        , ..., -1.12687201,\n",
       "         1.18817192, -0.46924395],\n",
       "       [-0.12340351,  0.        ,  0.        , ...,  0.84807928,\n",
       "         1.16524944,  0.49133732],\n",
       "       ...,\n",
       "       [-0.12340351,  0.        ,  0.        , ...,  0.14206115,\n",
       "         3.48042005, -1.10963146],\n",
       "       [ 8.10349719,  0.        ,  0.        , ...,  0.14206115,\n",
       "        -1.88344058, -0.46924395],\n",
       "       [-0.12340351,  0.        ,  0.        , ..., -0.54060632,\n",
       "         3.48042005, -0.46924395]])"
      ]
     },
     "execution_count": 47,
     "metadata": {},
     "output_type": "execute_result"
    }
   ],
   "source": [
    "from sklearn.preprocessing import StandardScaler\n",
    "\n",
    "scaler=StandardScaler()\n",
    "\n",
    "x_scaled=scaler.fit_transform(X)\n",
    "x_scaled"
   ]
  },
  {
   "cell_type": "markdown",
   "id": "cb385803",
   "metadata": {},
   "source": [
    "# Check for multicolliernity"
   ]
  },
  {
   "cell_type": "code",
   "execution_count": 48,
   "id": "c98b7550",
   "metadata": {},
   "outputs": [],
   "source": [
    "from statsmodels.stats.outliers_influence import variance_inflation_factor"
   ]
  },
  {
   "cell_type": "code",
   "execution_count": 50,
   "id": "f9617437",
   "metadata": {},
   "outputs": [
    {
     "data": {
      "text/html": [
       "<div>\n",
       "<style scoped>\n",
       "    .dataframe tbody tr th:only-of-type {\n",
       "        vertical-align: middle;\n",
       "    }\n",
       "\n",
       "    .dataframe tbody tr th {\n",
       "        vertical-align: top;\n",
       "    }\n",
       "\n",
       "    .dataframe thead th {\n",
       "        text-align: right;\n",
       "    }\n",
       "</style>\n",
       "<table border=\"1\" class=\"dataframe\">\n",
       "  <thead>\n",
       "    <tr style=\"text-align: right;\">\n",
       "      <th></th>\n",
       "      <th>vif1</th>\n",
       "      <th>features</th>\n",
       "    </tr>\n",
       "  </thead>\n",
       "  <tbody>\n",
       "    <tr>\n",
       "      <th>0</th>\n",
       "      <td>1.000143</td>\n",
       "      <td>transmission</td>\n",
       "    </tr>\n",
       "    <tr>\n",
       "      <th>1</th>\n",
       "      <td>NaN</td>\n",
       "      <td>drive</td>\n",
       "    </tr>\n",
       "    <tr>\n",
       "      <th>2</th>\n",
       "      <td>NaN</td>\n",
       "      <td>hand_drive</td>\n",
       "    </tr>\n",
       "    <tr>\n",
       "      <th>3</th>\n",
       "      <td>NaN</td>\n",
       "      <td>fuel</td>\n",
       "    </tr>\n",
       "    <tr>\n",
       "      <th>4</th>\n",
       "      <td>1.030845</td>\n",
       "      <td>mileage</td>\n",
       "    </tr>\n",
       "    <tr>\n",
       "      <th>5</th>\n",
       "      <td>1.107105</td>\n",
       "      <td>engine_capacity</td>\n",
       "    </tr>\n",
       "    <tr>\n",
       "      <th>6</th>\n",
       "      <td>1.122187</td>\n",
       "      <td>year</td>\n",
       "    </tr>\n",
       "  </tbody>\n",
       "</table>\n",
       "</div>"
      ],
      "text/plain": [
       "       vif1         features\n",
       "0  1.000143     transmission\n",
       "1       NaN            drive\n",
       "2       NaN       hand_drive\n",
       "3       NaN             fuel\n",
       "4  1.030845          mileage\n",
       "5  1.107105  engine_capacity\n",
       "6  1.122187             year"
      ]
     },
     "execution_count": 50,
     "metadata": {},
     "output_type": "execute_result"
    }
   ],
   "source": [
    "vif=pd.DataFrame()\n",
    "vif['vif1']=[variance_inflation_factor(x_scaled,i) for i in range(x_scaled.shape[1])]\n",
    "vif['features']=X.columns\n",
    "vif"
   ]
  },
  {
   "cell_type": "markdown",
   "id": "dddfc282",
   "metadata": {},
   "source": [
    "We can see that variance inflation factor is less than 5 for all columns . So there is no multicollinerity"
   ]
  },
  {
   "cell_type": "markdown",
   "id": "b6f949d7",
   "metadata": {},
   "source": [
    "# Training our model"
   ]
  },
  {
   "cell_type": "markdown",
   "id": "0244cfd7",
   "metadata": {},
   "source": [
    "## Linear Regression Regressor"
   ]
  },
  {
   "cell_type": "code",
   "execution_count": 51,
   "id": "cf19d70b",
   "metadata": {},
   "outputs": [],
   "source": [
    "from sklearn.linear_model import LinearRegression\n",
    "from sklearn.model_selection import train_test_split\n",
    "from sklearn.metrics import r2_score,accuracy_score\n",
    "from sklearn.metrics import mean_squared_error,mean_absolute_error\n"
   ]
  },
  {
   "cell_type": "code",
   "execution_count": 52,
   "id": "905dde0d",
   "metadata": {},
   "outputs": [],
   "source": [
    "lr=LinearRegression()"
   ]
  },
  {
   "cell_type": "markdown",
   "id": "6f36609d",
   "metadata": {},
   "source": [
    "# Finding the best random state"
   ]
  },
  {
   "cell_type": "code",
   "execution_count": 53,
   "id": "51212424",
   "metadata": {},
   "outputs": [
    {
     "name": "stdout",
     "output_type": "stream",
     "text": [
      "At random state0, the training accuracy is :-0.07904956508781225\n",
      "At random state0, the testing accuracy is :-0.08595652098627438\n",
      "\n",
      "\n",
      "At random state1, the training accuracy is :-0.08733621270733405\n",
      "At random state1, the testing accuracy is :-0.05301114565190246\n",
      "\n",
      "\n",
      "At random state2, the training accuracy is :-0.0801517890929676\n",
      "At random state2, the testing accuracy is :-0.07500186456925939\n",
      "\n",
      "\n",
      "At random state3, the training accuracy is :-0.07485824510310923\n",
      "At random state3, the testing accuracy is :-0.10186321047681479\n",
      "\n",
      "\n",
      "At random state4, the training accuracy is :-0.08054493921895278\n",
      "At random state4, the testing accuracy is :-0.08318365512065096\n",
      "\n",
      "\n",
      "At random state5, the training accuracy is :-0.09210539426878106\n",
      "At random state5, the testing accuracy is :-0.03129456667586161\n",
      "\n",
      "\n",
      "At random state6, the training accuracy is :-0.085358356311793\n",
      "At random state6, the testing accuracy is :-0.05292720548283403\n",
      "\n",
      "\n",
      "At random state7, the training accuracy is :-0.07715098774461937\n",
      "At random state7, the testing accuracy is :-0.09225333733808971\n",
      "\n",
      "\n",
      "At random state8, the training accuracy is :-0.08412979391768405\n",
      "At random state8, the testing accuracy is :-0.06698186731639988\n",
      "\n",
      "\n",
      "At random state9, the training accuracy is :-0.082284639071738\n",
      "At random state9, the testing accuracy is :-0.07559509843113854\n",
      "\n",
      "\n",
      "At random state10, the training accuracy is :-0.07001732423777418\n",
      "At random state10, the testing accuracy is :-0.11626697848761924\n",
      "\n",
      "\n",
      "At random state11, the training accuracy is :-0.07712606680537559\n",
      "At random state11, the testing accuracy is :-0.08727497646621485\n",
      "\n",
      "\n",
      "At random state12, the training accuracy is :-0.08220696384777382\n",
      "At random state12, the testing accuracy is :-0.07276606103780214\n",
      "\n",
      "\n",
      "At random state13, the training accuracy is :-0.07825451328915867\n",
      "At random state13, the testing accuracy is :-0.0896671361260597\n",
      "\n",
      "\n",
      "At random state14, the training accuracy is :-0.07451996307302056\n",
      "At random state14, the testing accuracy is :-0.10518041398619749\n",
      "\n",
      "\n",
      "At random state15, the training accuracy is :-0.08290281039482106\n",
      "At random state15, the testing accuracy is :-0.0693490202996715\n",
      "\n",
      "\n",
      "At random state16, the training accuracy is :-0.08252775908257559\n",
      "At random state16, the testing accuracy is :-0.07183956814363457\n",
      "\n",
      "\n",
      "At random state17, the training accuracy is :-0.08077096371411008\n",
      "At random state17, the testing accuracy is :-0.08060629140059417\n",
      "\n",
      "\n",
      "At random state18, the training accuracy is :-0.0801790955826367\n",
      "At random state18, the testing accuracy is :-0.08322441969437333\n",
      "\n",
      "\n",
      "At random state19, the training accuracy is :-0.08359427451953305\n",
      "At random state19, the testing accuracy is :-0.06756999661475926\n",
      "\n",
      "\n",
      "At random state20, the training accuracy is :-0.08575376723862915\n",
      "At random state20, the testing accuracy is :-0.054933109621840504\n",
      "\n",
      "\n",
      "At random state21, the training accuracy is :-0.08335842043634767\n",
      "At random state21, the testing accuracy is :-0.06734183017980389\n",
      "\n",
      "\n",
      "At random state22, the training accuracy is :-0.08433590620134135\n",
      "At random state22, the testing accuracy is :-0.06505345629973591\n",
      "\n",
      "\n",
      "At random state23, the training accuracy is :-0.08073143465506871\n",
      "At random state23, the testing accuracy is :-0.07467042423443426\n",
      "\n",
      "\n",
      "At random state24, the training accuracy is :-0.0896373111919968\n",
      "At random state24, the testing accuracy is :-0.04085276258112003\n",
      "\n",
      "\n",
      "At random state25, the training accuracy is :-0.07120679642945271\n",
      "At random state25, the testing accuracy is :-0.1129695984550162\n",
      "\n",
      "\n",
      "At random state26, the training accuracy is :-0.08232223523474025\n",
      "At random state26, the testing accuracy is :-0.07420389510757175\n",
      "\n",
      "\n",
      "At random state27, the training accuracy is :-0.08403422541418804\n",
      "At random state27, the testing accuracy is :-0.048004762647216426\n",
      "\n",
      "\n",
      "At random state28, the training accuracy is :-0.07625802833463635\n",
      "At random state28, the testing accuracy is :-0.0951985562344071\n",
      "\n",
      "\n",
      "At random state29, the training accuracy is :-0.0852339452568931\n",
      "At random state29, the testing accuracy is :-0.06199771622186778\n",
      "\n",
      "\n",
      "At random state30, the training accuracy is :-0.08169629729476469\n",
      "At random state30, the testing accuracy is :-0.06315093930168836\n",
      "\n",
      "\n",
      "At random state31, the training accuracy is :-0.0869633714287037\n",
      "At random state31, the testing accuracy is :-0.05993901408308011\n",
      "\n",
      "\n",
      "At random state32, the training accuracy is :-0.07938991409793517\n",
      "At random state32, the testing accuracy is :-0.08241083146821937\n",
      "\n",
      "\n",
      "At random state33, the training accuracy is :-0.07716452707237331\n",
      "At random state33, the testing accuracy is :-0.09427808840911378\n",
      "\n",
      "\n",
      "At random state34, the training accuracy is :-0.08253156177204579\n",
      "At random state34, the testing accuracy is :-0.07329238132497684\n",
      "\n",
      "\n",
      "At random state35, the training accuracy is :-0.09097846426782508\n",
      "At random state35, the testing accuracy is :-0.04098278130106203\n",
      "\n",
      "\n",
      "At random state36, the training accuracy is :-0.08667522709999498\n",
      "At random state36, the testing accuracy is :-0.045559190299047314\n",
      "\n",
      "\n",
      "At random state37, the training accuracy is :-0.0764139820308003\n",
      "At random state37, the testing accuracy is :-0.09806030557566059\n",
      "\n",
      "\n",
      "At random state38, the training accuracy is :-0.07782710070829857\n",
      "At random state38, the testing accuracy is :-0.09238635268209239\n",
      "\n",
      "\n",
      "At random state39, the training accuracy is :-0.08556082946391497\n",
      "At random state39, the testing accuracy is :-0.05416627212790259\n",
      "\n",
      "\n",
      "At random state40, the training accuracy is :-0.09148840407883851\n",
      "At random state40, the testing accuracy is :-0.029768840052240675\n",
      "\n",
      "\n",
      "At random state41, the training accuracy is :-0.08428410708824452\n",
      "At random state41, the testing accuracy is :-0.05372096212740929\n",
      "\n",
      "\n",
      "At random state42, the training accuracy is :-0.07577032417646756\n",
      "At random state42, the testing accuracy is :-0.09965559834532667\n",
      "\n",
      "\n",
      "At random state43, the training accuracy is :-0.0806059805081899\n",
      "At random state43, the testing accuracy is :-0.0642641805033527\n",
      "\n",
      "\n",
      "At random state44, the training accuracy is :-0.08158082458935734\n",
      "At random state44, the testing accuracy is :-0.0760246836836711\n",
      "\n",
      "\n",
      "At random state45, the training accuracy is :-0.08843154756202598\n",
      "At random state45, the testing accuracy is :-0.05335194286685252\n",
      "\n",
      "\n",
      "At random state46, the training accuracy is :-0.07756800439310785\n",
      "At random state46, the testing accuracy is :-0.09254557384980444\n",
      "\n",
      "\n",
      "At random state47, the training accuracy is :-0.081087163862258\n",
      "At random state47, the testing accuracy is :-0.07679973826880881\n",
      "\n",
      "\n",
      "At random state48, the training accuracy is :-0.08538757519386042\n",
      "At random state48, the testing accuracy is :-0.06320234550939208\n",
      "\n",
      "\n",
      "At random state49, the training accuracy is :-0.07840170068957009\n",
      "At random state49, the testing accuracy is :-0.090758502389092\n",
      "\n",
      "\n",
      "At random state50, the training accuracy is :-0.0870465612925051\n",
      "At random state50, the testing accuracy is :-0.05416338685605471\n",
      "\n",
      "\n",
      "At random state51, the training accuracy is :-0.07735143680548895\n",
      "At random state51, the testing accuracy is :-0.0939851958961112\n",
      "\n",
      "\n",
      "At random state52, the training accuracy is :-0.09000083860068042\n",
      "At random state52, the testing accuracy is :-0.042814550934309414\n",
      "\n",
      "\n",
      "At random state53, the training accuracy is :-0.0689709221822089\n",
      "At random state53, the testing accuracy is :-0.12247520985891514\n",
      "\n",
      "\n",
      "At random state54, the training accuracy is :-0.08678377651990576\n",
      "At random state54, the testing accuracy is :-0.054639396603247126\n",
      "\n",
      "\n",
      "At random state55, the training accuracy is :-0.086293656094379\n",
      "At random state55, the testing accuracy is :-0.05479763577919994\n",
      "\n",
      "\n",
      "At random state56, the training accuracy is :-0.08843459824400035\n",
      "At random state56, the testing accuracy is :-0.04829151432168188\n",
      "\n",
      "\n",
      "At random state57, the training accuracy is :-0.09272164164666985\n",
      "At random state57, the testing accuracy is :-0.024991054914132005\n",
      "\n",
      "\n",
      "At random state58, the training accuracy is :-0.07141820590540304\n",
      "At random state58, the testing accuracy is :-0.11258361064978128\n",
      "\n",
      "\n",
      "At random state59, the training accuracy is :-0.07165642905915137\n",
      "At random state59, the testing accuracy is :-0.1157588453344992\n",
      "\n",
      "\n",
      "At random state60, the training accuracy is :-0.07609945228573212\n",
      "At random state60, the testing accuracy is :-0.08383023423004077\n",
      "\n",
      "\n",
      "At random state61, the training accuracy is :-0.0845966474045321\n",
      "At random state61, the testing accuracy is :-0.06159277652684958\n",
      "\n",
      "\n",
      "At random state62, the training accuracy is :-0.08732740284621143\n",
      "At random state62, the testing accuracy is :-0.055418580482459734\n",
      "\n",
      "\n",
      "At random state63, the training accuracy is :-0.07799828532935671\n",
      "At random state63, the testing accuracy is :-0.09237737122248302\n",
      "\n",
      "\n",
      "At random state64, the training accuracy is :-0.0852649245965087\n",
      "At random state64, the testing accuracy is :-0.06474812374773287\n",
      "\n",
      "\n",
      "At random state65, the training accuracy is :-0.0787920229537934\n",
      "At random state65, the testing accuracy is :-0.08525969670949607\n",
      "\n",
      "\n",
      "At random state66, the training accuracy is :-0.07129797369808133\n",
      "At random state66, the testing accuracy is :-0.11871657398804858\n",
      "\n",
      "\n",
      "At random state67, the training accuracy is :-0.07326456373078716\n",
      "At random state67, the testing accuracy is :-0.10766761287423898\n",
      "\n",
      "\n",
      "At random state68, the training accuracy is :-0.07980071529563337\n",
      "At random state68, the testing accuracy is :-0.0814770857249284\n",
      "\n",
      "\n",
      "At random state69, the training accuracy is :-0.07995888207960211\n",
      "At random state69, the testing accuracy is :-0.08378605304677877\n",
      "\n",
      "\n",
      "At random state70, the training accuracy is :-0.08318349350418608\n",
      "At random state70, the testing accuracy is :-0.0689668560617922\n",
      "\n",
      "\n",
      "At random state71, the training accuracy is :-0.08177661189010943\n",
      "At random state71, the testing accuracy is :-0.07531348745826294\n",
      "\n",
      "\n",
      "At random state72, the training accuracy is :-0.08463571687178617\n",
      "At random state72, the testing accuracy is :-0.0636756336136679\n",
      "\n",
      "\n",
      "At random state73, the training accuracy is :-0.08902793375908713\n",
      "At random state73, the testing accuracy is :-0.04832093711897134\n",
      "\n",
      "\n",
      "At random state74, the training accuracy is :-0.07864968072499612\n",
      "At random state74, the testing accuracy is :-0.08777491016853922\n",
      "\n",
      "\n",
      "At random state75, the training accuracy is :-0.07434425110615128\n",
      "At random state75, the testing accuracy is :-0.10230186774781935\n",
      "\n",
      "\n",
      "At random state76, the training accuracy is :-0.07419821997939768\n",
      "At random state76, the testing accuracy is :-0.10251495878376138\n",
      "\n",
      "\n",
      "At random state77, the training accuracy is :-0.09118629604613515\n",
      "At random state77, the testing accuracy is :-0.027569505126662786\n",
      "\n",
      "\n",
      "At random state78, the training accuracy is :-0.08255551873004141\n",
      "At random state78, the testing accuracy is :-0.07395025916934306\n",
      "\n",
      "\n",
      "At random state79, the training accuracy is :-0.08451648765289022\n",
      "At random state79, the testing accuracy is :-0.06709009387281639\n",
      "\n",
      "\n",
      "At random state80, the training accuracy is :-0.09708814646087727\n",
      "At random state80, the testing accuracy is :-0.009287383555235285\n",
      "\n",
      "\n",
      "At random state81, the training accuracy is :-0.08388114110373479\n",
      "At random state81, the testing accuracy is :-0.06647870910974152\n",
      "\n",
      "\n",
      "At random state82, the training accuracy is :-0.07516989268854712\n",
      "At random state82, the testing accuracy is :-0.1031686656500318\n",
      "\n",
      "\n",
      "At random state83, the training accuracy is :-0.0826005046668623\n",
      "At random state83, the testing accuracy is :-0.06231701470286066\n",
      "\n",
      "\n",
      "At random state84, the training accuracy is :-0.08271737054106931\n",
      "At random state84, the testing accuracy is :-0.07075795889775449\n",
      "\n",
      "\n",
      "At random state85, the training accuracy is :-0.07958023050495622\n",
      "At random state85, the testing accuracy is :-0.0857009296348542\n",
      "\n",
      "\n",
      "At random state86, the training accuracy is :-0.08608785680676412\n",
      "At random state86, the testing accuracy is :-0.054851847164901435\n",
      "\n",
      "\n",
      "At random state87, the training accuracy is :-0.09972171072901559\n",
      "At random state87, the testing accuracy is :--0.008340618530617627\n",
      "\n",
      "\n",
      "At random state88, the training accuracy is :-0.0848758016313047\n",
      "At random state88, the testing accuracy is :-0.06350126981130799\n",
      "\n",
      "\n",
      "At random state89, the training accuracy is :-0.07640421948390075\n",
      "At random state89, the testing accuracy is :-0.09885544220741682\n",
      "\n",
      "\n",
      "At random state90, the training accuracy is :-0.07282732324554675\n",
      "At random state90, the testing accuracy is :-0.11600628854617756\n",
      "\n",
      "\n",
      "At random state91, the training accuracy is :-0.08576787244694006\n",
      "At random state91, the testing accuracy is :-0.051416173447847546\n",
      "\n",
      "\n",
      "At random state92, the training accuracy is :-0.08178030364086042\n",
      "At random state92, the testing accuracy is :-0.0685833513226366\n",
      "\n",
      "\n",
      "At random state93, the training accuracy is :-0.08255136393616902\n",
      "At random state93, the testing accuracy is :-0.07402467666080137\n",
      "\n",
      "\n",
      "At random state94, the training accuracy is :-0.09023816566428056\n",
      "At random state94, the testing accuracy is :-0.04014789956687714\n",
      "\n",
      "\n",
      "At random state95, the training accuracy is :-0.07857129681189479\n",
      "At random state95, the testing accuracy is :-0.08833120387477411\n",
      "\n",
      "\n",
      "At random state96, the training accuracy is :-0.08517582263271617\n",
      "At random state96, the testing accuracy is :-0.06143269543670582\n",
      "\n",
      "\n",
      "At random state97, the training accuracy is :-0.07660752082801481\n",
      "At random state97, the testing accuracy is :-0.09616136866418834\n",
      "\n",
      "\n",
      "At random state98, the training accuracy is :-0.078640306585398\n",
      "At random state98, the testing accuracy is :-0.08984954615111818\n",
      "\n",
      "\n",
      "At random state99, the training accuracy is :-0.06979823643978023\n",
      "At random state99, the testing accuracy is :-0.11426287954907177\n",
      "\n",
      "\n"
     ]
    }
   ],
   "source": [
    "for i in range(0,100):\n",
    "    x_train,x_test,y_train,y_test=train_test_split(x_scaled,y,test_size=0.2,random_state=i)\n",
    "    lr.fit(x_train,y_train)\n",
    "    y_train_pred=lr.predict(x_train)\n",
    "    y_pred_test=lr.predict(x_test)\n",
    "    print(f\"At random state{i}, the training accuracy is :-{r2_score(y_train,y_train_pred)}\")\n",
    "    print(f\"At random state{i}, the testing accuracy is :-{r2_score(y_test,y_pred_test)}\")\n",
    "    print(\"\\n\")\n",
    "    "
   ]
  },
  {
   "cell_type": "code",
   "execution_count": 60,
   "id": "125ca2d1",
   "metadata": {},
   "outputs": [],
   "source": [
    "x_train,x_test,y_train,y_test=train_test_split(x_scaled,y,test_size=0.2,random_state=99)"
   ]
  },
  {
   "cell_type": "code",
   "execution_count": 61,
   "id": "fe79d240",
   "metadata": {
    "scrolled": false
   },
   "outputs": [],
   "source": [
    "lr=LinearRegression()\n",
    "\n"
   ]
  },
  {
   "cell_type": "code",
   "execution_count": 62,
   "id": "4161e2e1",
   "metadata": {},
   "outputs": [
    {
     "data": {
      "text/html": [
       "<style>#sk-container-id-1 {color: black;background-color: white;}#sk-container-id-1 pre{padding: 0;}#sk-container-id-1 div.sk-toggleable {background-color: white;}#sk-container-id-1 label.sk-toggleable__label {cursor: pointer;display: block;width: 100%;margin-bottom: 0;padding: 0.3em;box-sizing: border-box;text-align: center;}#sk-container-id-1 label.sk-toggleable__label-arrow:before {content: \"▸\";float: left;margin-right: 0.25em;color: #696969;}#sk-container-id-1 label.sk-toggleable__label-arrow:hover:before {color: black;}#sk-container-id-1 div.sk-estimator:hover label.sk-toggleable__label-arrow:before {color: black;}#sk-container-id-1 div.sk-toggleable__content {max-height: 0;max-width: 0;overflow: hidden;text-align: left;background-color: #f0f8ff;}#sk-container-id-1 div.sk-toggleable__content pre {margin: 0.2em;color: black;border-radius: 0.25em;background-color: #f0f8ff;}#sk-container-id-1 input.sk-toggleable__control:checked~div.sk-toggleable__content {max-height: 200px;max-width: 100%;overflow: auto;}#sk-container-id-1 input.sk-toggleable__control:checked~label.sk-toggleable__label-arrow:before {content: \"▾\";}#sk-container-id-1 div.sk-estimator input.sk-toggleable__control:checked~label.sk-toggleable__label {background-color: #d4ebff;}#sk-container-id-1 div.sk-label input.sk-toggleable__control:checked~label.sk-toggleable__label {background-color: #d4ebff;}#sk-container-id-1 input.sk-hidden--visually {border: 0;clip: rect(1px 1px 1px 1px);clip: rect(1px, 1px, 1px, 1px);height: 1px;margin: -1px;overflow: hidden;padding: 0;position: absolute;width: 1px;}#sk-container-id-1 div.sk-estimator {font-family: monospace;background-color: #f0f8ff;border: 1px dotted black;border-radius: 0.25em;box-sizing: border-box;margin-bottom: 0.5em;}#sk-container-id-1 div.sk-estimator:hover {background-color: #d4ebff;}#sk-container-id-1 div.sk-parallel-item::after {content: \"\";width: 100%;border-bottom: 1px solid gray;flex-grow: 1;}#sk-container-id-1 div.sk-label:hover label.sk-toggleable__label {background-color: #d4ebff;}#sk-container-id-1 div.sk-serial::before {content: \"\";position: absolute;border-left: 1px solid gray;box-sizing: border-box;top: 0;bottom: 0;left: 50%;z-index: 0;}#sk-container-id-1 div.sk-serial {display: flex;flex-direction: column;align-items: center;background-color: white;padding-right: 0.2em;padding-left: 0.2em;position: relative;}#sk-container-id-1 div.sk-item {position: relative;z-index: 1;}#sk-container-id-1 div.sk-parallel {display: flex;align-items: stretch;justify-content: center;background-color: white;position: relative;}#sk-container-id-1 div.sk-item::before, #sk-container-id-1 div.sk-parallel-item::before {content: \"\";position: absolute;border-left: 1px solid gray;box-sizing: border-box;top: 0;bottom: 0;left: 50%;z-index: -1;}#sk-container-id-1 div.sk-parallel-item {display: flex;flex-direction: column;z-index: 1;position: relative;background-color: white;}#sk-container-id-1 div.sk-parallel-item:first-child::after {align-self: flex-end;width: 50%;}#sk-container-id-1 div.sk-parallel-item:last-child::after {align-self: flex-start;width: 50%;}#sk-container-id-1 div.sk-parallel-item:only-child::after {width: 0;}#sk-container-id-1 div.sk-dashed-wrapped {border: 1px dashed gray;margin: 0 0.4em 0.5em 0.4em;box-sizing: border-box;padding-bottom: 0.4em;background-color: white;}#sk-container-id-1 div.sk-label label {font-family: monospace;font-weight: bold;display: inline-block;line-height: 1.2em;}#sk-container-id-1 div.sk-label-container {text-align: center;}#sk-container-id-1 div.sk-container {/* jupyter's `normalize.less` sets `[hidden] { display: none; }` but bootstrap.min.css set `[hidden] { display: none !important; }` so we also need the `!important` here to be able to override the default hidden behavior on the sphinx rendered scikit-learn.org. See: https://github.com/scikit-learn/scikit-learn/issues/21755 */display: inline-block !important;position: relative;}#sk-container-id-1 div.sk-text-repr-fallback {display: none;}</style><div id=\"sk-container-id-1\" class=\"sk-top-container\"><div class=\"sk-text-repr-fallback\"><pre>LinearRegression()</pre><b>In a Jupyter environment, please rerun this cell to show the HTML representation or trust the notebook. <br />On GitHub, the HTML representation is unable to render, please try loading this page with nbviewer.org.</b></div><div class=\"sk-container\" hidden><div class=\"sk-item\"><div class=\"sk-estimator sk-toggleable\"><input class=\"sk-toggleable__control sk-hidden--visually\" id=\"sk-estimator-id-1\" type=\"checkbox\" checked><label for=\"sk-estimator-id-1\" class=\"sk-toggleable__label sk-toggleable__label-arrow\">LinearRegression</label><div class=\"sk-toggleable__content\"><pre>LinearRegression()</pre></div></div></div></div></div>"
      ],
      "text/plain": [
       "LinearRegression()"
      ]
     },
     "execution_count": 62,
     "metadata": {},
     "output_type": "execute_result"
    }
   ],
   "source": [
    "lr.fit(x_train,y_train)\n"
   ]
  },
  {
   "cell_type": "code",
   "execution_count": 63,
   "id": "efb252e8",
   "metadata": {},
   "outputs": [
    {
     "name": "stdout",
     "output_type": "stream",
     "text": [
      "0.11426287954907177\n"
     ]
    }
   ],
   "source": [
    "pred_test_y=lr.predict(x_test)\n",
    "\n",
    "\n",
    "\n",
    "print(r2_score(y_test,pred_test_y))"
   ]
  },
  {
   "cell_type": "code",
   "execution_count": 64,
   "id": "b0d3b637",
   "metadata": {},
   "outputs": [
    {
     "name": "stdout",
     "output_type": "stream",
     "text": [
      "At cross fold 2 the cv score is -11.570250711423009 and the accuracy score in training is  0.06979823643978023 and the accuracy score in testing is 0.11426287954907177\n",
      "At cross fold 3 the cv score is -15.946852246084392 and the accuracy score in training is  0.06979823643978023 and the accuracy score in testing is 0.11426287954907177\n",
      "At cross fold 4 the cv score is -23.008157020979947 and the accuracy score in training is  0.06979823643978023 and the accuracy score in testing is 0.11426287954907177\n",
      "At cross fold 5 the cv score is -33.26354368940919 and the accuracy score in training is  0.06979823643978023 and the accuracy score in testing is 0.11426287954907177\n",
      "At cross fold 6 the cv score is -44.34561357013323 and the accuracy score in training is  0.06979823643978023 and the accuracy score in testing is 0.11426287954907177\n",
      "At cross fold 7 the cv score is -56.100656968724316 and the accuracy score in training is  0.06979823643978023 and the accuracy score in testing is 0.11426287954907177\n",
      "At cross fold 8 the cv score is -61.91799618405284 and the accuracy score in training is  0.06979823643978023 and the accuracy score in testing is 0.11426287954907177\n",
      "At cross fold 9 the cv score is -79.3487202456139 and the accuracy score in training is  0.06979823643978023 and the accuracy score in testing is 0.11426287954907177\n"
     ]
    }
   ],
   "source": [
    "Train_accuracy=r2_score(y_train,y_train_pred)\n",
    "Test_accuracy=r2_score(y_test,pred_test_y)\n",
    "\n",
    "\n",
    "from sklearn.model_selection import cross_val_score\n",
    "\n",
    "for j in range(2,10):\n",
    "    cv_score=cross_val_score(lr,x_scaled,y,cv=j)\n",
    "    cv_mean=cv_score.mean()\n",
    "    print(f\"At cross fold {j} the cv score is {cv_mean} and the accuracy score in training is  {Train_accuracy} and the accuracy score in testing is {Test_accuracy}\")"
   ]
  },
  {
   "cell_type": "code",
   "execution_count": null,
   "id": "84877199",
   "metadata": {},
   "outputs": [],
   "source": []
  }
 ],
 "metadata": {
  "kernelspec": {
   "display_name": "Python 3 (ipykernel)",
   "language": "python",
   "name": "python3"
  },
  "language_info": {
   "codemirror_mode": {
    "name": "ipython",
    "version": 3
   },
   "file_extension": ".py",
   "mimetype": "text/x-python",
   "name": "python",
   "nbconvert_exporter": "python",
   "pygments_lexer": "ipython3",
   "version": "3.9.12"
  }
 },
 "nbformat": 4,
 "nbformat_minor": 5
}
