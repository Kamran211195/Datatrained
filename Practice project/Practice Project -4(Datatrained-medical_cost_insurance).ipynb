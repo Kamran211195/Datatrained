{
 "cells": [
  {
   "cell_type": "markdown",
   "id": "37ba9ead",
   "metadata": {},
   "source": [
    "# Importing Required libraries"
   ]
  },
  {
   "cell_type": "code",
   "execution_count": 1,
   "id": "c1fb49b5",
   "metadata": {},
   "outputs": [],
   "source": [
    "import numpy as np\n",
    "import pandas as pd\n",
    "import matplotlib.pyplot as plt \n",
    "import seaborn as sns\n",
    "%matplotlib inline\n",
    "\n",
    "import warnings\n",
    "warnings.filterwarnings('ignore')"
   ]
  },
  {
   "cell_type": "markdown",
   "id": "ed040fe7",
   "metadata": {},
   "source": [
    "# Importing Dataset"
   ]
  },
  {
   "cell_type": "code",
   "execution_count": 2,
   "id": "2deb90b1",
   "metadata": {},
   "outputs": [
    {
     "data": {
      "text/html": [
       "<div>\n",
       "<style scoped>\n",
       "    .dataframe tbody tr th:only-of-type {\n",
       "        vertical-align: middle;\n",
       "    }\n",
       "\n",
       "    .dataframe tbody tr th {\n",
       "        vertical-align: top;\n",
       "    }\n",
       "\n",
       "    .dataframe thead th {\n",
       "        text-align: right;\n",
       "    }\n",
       "</style>\n",
       "<table border=\"1\" class=\"dataframe\">\n",
       "  <thead>\n",
       "    <tr style=\"text-align: right;\">\n",
       "      <th></th>\n",
       "      <th>age</th>\n",
       "      <th>sex</th>\n",
       "      <th>bmi</th>\n",
       "      <th>children</th>\n",
       "      <th>smoker</th>\n",
       "      <th>region</th>\n",
       "      <th>charges</th>\n",
       "    </tr>\n",
       "  </thead>\n",
       "  <tbody>\n",
       "    <tr>\n",
       "      <th>0</th>\n",
       "      <td>19</td>\n",
       "      <td>female</td>\n",
       "      <td>27.900</td>\n",
       "      <td>0</td>\n",
       "      <td>yes</td>\n",
       "      <td>southwest</td>\n",
       "      <td>16884.92400</td>\n",
       "    </tr>\n",
       "    <tr>\n",
       "      <th>1</th>\n",
       "      <td>18</td>\n",
       "      <td>male</td>\n",
       "      <td>33.770</td>\n",
       "      <td>1</td>\n",
       "      <td>no</td>\n",
       "      <td>southeast</td>\n",
       "      <td>1725.55230</td>\n",
       "    </tr>\n",
       "    <tr>\n",
       "      <th>2</th>\n",
       "      <td>28</td>\n",
       "      <td>male</td>\n",
       "      <td>33.000</td>\n",
       "      <td>3</td>\n",
       "      <td>no</td>\n",
       "      <td>southeast</td>\n",
       "      <td>4449.46200</td>\n",
       "    </tr>\n",
       "    <tr>\n",
       "      <th>3</th>\n",
       "      <td>33</td>\n",
       "      <td>male</td>\n",
       "      <td>22.705</td>\n",
       "      <td>0</td>\n",
       "      <td>no</td>\n",
       "      <td>northwest</td>\n",
       "      <td>21984.47061</td>\n",
       "    </tr>\n",
       "    <tr>\n",
       "      <th>4</th>\n",
       "      <td>32</td>\n",
       "      <td>male</td>\n",
       "      <td>28.880</td>\n",
       "      <td>0</td>\n",
       "      <td>no</td>\n",
       "      <td>northwest</td>\n",
       "      <td>3866.85520</td>\n",
       "    </tr>\n",
       "    <tr>\n",
       "      <th>...</th>\n",
       "      <td>...</td>\n",
       "      <td>...</td>\n",
       "      <td>...</td>\n",
       "      <td>...</td>\n",
       "      <td>...</td>\n",
       "      <td>...</td>\n",
       "      <td>...</td>\n",
       "    </tr>\n",
       "    <tr>\n",
       "      <th>1333</th>\n",
       "      <td>50</td>\n",
       "      <td>male</td>\n",
       "      <td>30.970</td>\n",
       "      <td>3</td>\n",
       "      <td>no</td>\n",
       "      <td>northwest</td>\n",
       "      <td>10600.54830</td>\n",
       "    </tr>\n",
       "    <tr>\n",
       "      <th>1334</th>\n",
       "      <td>18</td>\n",
       "      <td>female</td>\n",
       "      <td>31.920</td>\n",
       "      <td>0</td>\n",
       "      <td>no</td>\n",
       "      <td>northeast</td>\n",
       "      <td>2205.98080</td>\n",
       "    </tr>\n",
       "    <tr>\n",
       "      <th>1335</th>\n",
       "      <td>18</td>\n",
       "      <td>female</td>\n",
       "      <td>36.850</td>\n",
       "      <td>0</td>\n",
       "      <td>no</td>\n",
       "      <td>southeast</td>\n",
       "      <td>1629.83350</td>\n",
       "    </tr>\n",
       "    <tr>\n",
       "      <th>1336</th>\n",
       "      <td>21</td>\n",
       "      <td>female</td>\n",
       "      <td>25.800</td>\n",
       "      <td>0</td>\n",
       "      <td>no</td>\n",
       "      <td>southwest</td>\n",
       "      <td>2007.94500</td>\n",
       "    </tr>\n",
       "    <tr>\n",
       "      <th>1337</th>\n",
       "      <td>61</td>\n",
       "      <td>female</td>\n",
       "      <td>29.070</td>\n",
       "      <td>0</td>\n",
       "      <td>yes</td>\n",
       "      <td>northwest</td>\n",
       "      <td>29141.36030</td>\n",
       "    </tr>\n",
       "  </tbody>\n",
       "</table>\n",
       "<p>1338 rows × 7 columns</p>\n",
       "</div>"
      ],
      "text/plain": [
       "      age     sex     bmi  children smoker     region      charges\n",
       "0      19  female  27.900         0    yes  southwest  16884.92400\n",
       "1      18    male  33.770         1     no  southeast   1725.55230\n",
       "2      28    male  33.000         3     no  southeast   4449.46200\n",
       "3      33    male  22.705         0     no  northwest  21984.47061\n",
       "4      32    male  28.880         0     no  northwest   3866.85520\n",
       "...   ...     ...     ...       ...    ...        ...          ...\n",
       "1333   50    male  30.970         3     no  northwest  10600.54830\n",
       "1334   18  female  31.920         0     no  northeast   2205.98080\n",
       "1335   18  female  36.850         0     no  southeast   1629.83350\n",
       "1336   21  female  25.800         0     no  southwest   2007.94500\n",
       "1337   61  female  29.070         0    yes  northwest  29141.36030\n",
       "\n",
       "[1338 rows x 7 columns]"
      ]
     },
     "execution_count": 2,
     "metadata": {},
     "output_type": "execute_result"
    }
   ],
   "source": [
    "df=pd.read_csv('medical_cost_insurance.csv')\n",
    "df"
   ]
  },
  {
   "cell_type": "code",
   "execution_count": null,
   "id": "498206a0",
   "metadata": {},
   "outputs": [],
   "source": []
  },
  {
   "cell_type": "code",
   "execution_count": 3,
   "id": "bc8b217a",
   "metadata": {},
   "outputs": [
    {
     "data": {
      "text/plain": [
       "(1338, 7)"
      ]
     },
     "execution_count": 3,
     "metadata": {},
     "output_type": "execute_result"
    }
   ],
   "source": [
    "df.shape"
   ]
  },
  {
   "cell_type": "markdown",
   "id": "07a70de1",
   "metadata": {},
   "source": [
    "The dataset have 1338 rows and 7 columns"
   ]
  },
  {
   "cell_type": "code",
   "execution_count": 4,
   "id": "6fdbbb10",
   "metadata": {},
   "outputs": [
    {
     "data": {
      "text/plain": [
       "Index(['age', 'sex', 'bmi', 'children', 'smoker', 'region', 'charges'], dtype='object')"
      ]
     },
     "execution_count": 4,
     "metadata": {},
     "output_type": "execute_result"
    }
   ],
   "source": [
    "df.columns"
   ]
  },
  {
   "cell_type": "markdown",
   "id": "cb8e73ea",
   "metadata": {},
   "source": [
    "The dataset have 7 columns"
   ]
  },
  {
   "cell_type": "code",
   "execution_count": 5,
   "id": "826180e8",
   "metadata": {},
   "outputs": [
    {
     "data": {
      "text/plain": [
       "age           int64\n",
       "sex          object\n",
       "bmi         float64\n",
       "children      int64\n",
       "smoker       object\n",
       "region       object\n",
       "charges     float64\n",
       "dtype: object"
      ]
     },
     "execution_count": 5,
     "metadata": {},
     "output_type": "execute_result"
    }
   ],
   "source": [
    "df.dtypes"
   ]
  },
  {
   "cell_type": "markdown",
   "id": "21237e09",
   "metadata": {},
   "source": [
    "We can see that datatypes of all columns are correct"
   ]
  },
  {
   "cell_type": "code",
   "execution_count": 6,
   "id": "c016f7ec",
   "metadata": {},
   "outputs": [
    {
     "data": {
      "text/plain": [
       "age         0\n",
       "sex         0\n",
       "bmi         0\n",
       "children    0\n",
       "smoker      0\n",
       "region      0\n",
       "charges     0\n",
       "dtype: int64"
      ]
     },
     "execution_count": 6,
     "metadata": {},
     "output_type": "execute_result"
    }
   ],
   "source": [
    "df.isna().sum()"
   ]
  },
  {
   "cell_type": "markdown",
   "id": "896fbbf0",
   "metadata": {},
   "source": [
    "We can observe that there is no null values in dataset"
   ]
  },
  {
   "cell_type": "code",
   "execution_count": 7,
   "id": "c6234bff",
   "metadata": {},
   "outputs": [
    {
     "data": {
      "text/plain": [
       "southeast    364\n",
       "southwest    325\n",
       "northwest    325\n",
       "northeast    324\n",
       "Name: region, dtype: int64"
      ]
     },
     "execution_count": 7,
     "metadata": {},
     "output_type": "execute_result"
    }
   ],
   "source": [
    "df['region'].value_counts()"
   ]
  },
  {
   "cell_type": "code",
   "execution_count": null,
   "id": "cb0b0fb4",
   "metadata": {},
   "outputs": [],
   "source": []
  },
  {
   "cell_type": "markdown",
   "id": "2266d2a0",
   "metadata": {},
   "source": [
    "# Encoding Categorical columns"
   ]
  },
  {
   "cell_type": "markdown",
   "id": "fefbb7b3",
   "metadata": {},
   "source": [
    "## Label Encoding"
   ]
  },
  {
   "cell_type": "code",
   "execution_count": 8,
   "id": "e7793e09",
   "metadata": {},
   "outputs": [
    {
     "data": {
      "text/html": [
       "<div>\n",
       "<style scoped>\n",
       "    .dataframe tbody tr th:only-of-type {\n",
       "        vertical-align: middle;\n",
       "    }\n",
       "\n",
       "    .dataframe tbody tr th {\n",
       "        vertical-align: top;\n",
       "    }\n",
       "\n",
       "    .dataframe thead th {\n",
       "        text-align: right;\n",
       "    }\n",
       "</style>\n",
       "<table border=\"1\" class=\"dataframe\">\n",
       "  <thead>\n",
       "    <tr style=\"text-align: right;\">\n",
       "      <th></th>\n",
       "      <th>age</th>\n",
       "      <th>sex</th>\n",
       "      <th>bmi</th>\n",
       "      <th>children</th>\n",
       "      <th>smoker</th>\n",
       "      <th>region</th>\n",
       "      <th>charges</th>\n",
       "    </tr>\n",
       "  </thead>\n",
       "  <tbody>\n",
       "    <tr>\n",
       "      <th>0</th>\n",
       "      <td>19</td>\n",
       "      <td>0</td>\n",
       "      <td>27.900</td>\n",
       "      <td>0</td>\n",
       "      <td>1</td>\n",
       "      <td>3</td>\n",
       "      <td>16884.92400</td>\n",
       "    </tr>\n",
       "    <tr>\n",
       "      <th>1</th>\n",
       "      <td>18</td>\n",
       "      <td>1</td>\n",
       "      <td>33.770</td>\n",
       "      <td>1</td>\n",
       "      <td>0</td>\n",
       "      <td>2</td>\n",
       "      <td>1725.55230</td>\n",
       "    </tr>\n",
       "    <tr>\n",
       "      <th>2</th>\n",
       "      <td>28</td>\n",
       "      <td>1</td>\n",
       "      <td>33.000</td>\n",
       "      <td>3</td>\n",
       "      <td>0</td>\n",
       "      <td>2</td>\n",
       "      <td>4449.46200</td>\n",
       "    </tr>\n",
       "    <tr>\n",
       "      <th>3</th>\n",
       "      <td>33</td>\n",
       "      <td>1</td>\n",
       "      <td>22.705</td>\n",
       "      <td>0</td>\n",
       "      <td>0</td>\n",
       "      <td>1</td>\n",
       "      <td>21984.47061</td>\n",
       "    </tr>\n",
       "    <tr>\n",
       "      <th>4</th>\n",
       "      <td>32</td>\n",
       "      <td>1</td>\n",
       "      <td>28.880</td>\n",
       "      <td>0</td>\n",
       "      <td>0</td>\n",
       "      <td>1</td>\n",
       "      <td>3866.85520</td>\n",
       "    </tr>\n",
       "  </tbody>\n",
       "</table>\n",
       "</div>"
      ],
      "text/plain": [
       "   age  sex     bmi  children  smoker  region      charges\n",
       "0   19    0  27.900         0       1       3  16884.92400\n",
       "1   18    1  33.770         1       0       2   1725.55230\n",
       "2   28    1  33.000         3       0       2   4449.46200\n",
       "3   33    1  22.705         0       0       1  21984.47061\n",
       "4   32    1  28.880         0       0       1   3866.85520"
      ]
     },
     "execution_count": 8,
     "metadata": {},
     "output_type": "execute_result"
    }
   ],
   "source": [
    "from sklearn.preprocessing import LabelEncoder\n",
    "cols=['sex','smoker','region']\n",
    "le=LabelEncoder()\n",
    "for col in cols:\n",
    "    df[col]=le.fit_transform(df[col])\n",
    "df.head()"
   ]
  },
  {
   "cell_type": "markdown",
   "id": "95b2a3e4",
   "metadata": {},
   "source": [
    "We encoded categorical columns using label enocders"
   ]
  },
  {
   "cell_type": "markdown",
   "id": "17c68e71",
   "metadata": {},
   "source": [
    "# EDA "
   ]
  },
  {
   "cell_type": "markdown",
   "id": "5d63ae02",
   "metadata": {},
   "source": [
    "## Visualisation of Data(categorical columns)"
   ]
  },
  {
   "cell_type": "code",
   "execution_count": 9,
   "id": "0f91299b",
   "metadata": {},
   "outputs": [
    {
     "name": "stdout",
     "output_type": "stream",
     "text": [
      "1    676\n",
      "0    662\n",
      "Name: sex, dtype: int64\n"
     ]
    },
    {
     "data": {
      "image/png": "[encoded data removed]",
      "text/plain": [
       "<Figure size 432x288 with 1 Axes>"
      ]
     },
     "metadata": {
      "needs_background": "light"
     },
     "output_type": "display_data"
    }
   ],
   "source": [
    "ax=sns.countplot(x='sex',data=df)\n",
    "print(df['sex'].value_counts())"
   ]
  },
  {
   "cell_type": "markdown",
   "id": "1b848182",
   "metadata": {},
   "source": [
    "We can see that no of male is :676 and no. of females is :662"
   ]
  },
  {
   "cell_type": "code",
   "execution_count": 10,
   "id": "d0848b61",
   "metadata": {},
   "outputs": [
    {
     "name": "stdout",
     "output_type": "stream",
     "text": [
      "0    574\n",
      "1    324\n",
      "2    240\n",
      "3    157\n",
      "4     25\n",
      "5     18\n",
      "Name: children, dtype: int64\n"
     ]
    },
    {
     "data": {
      "image/png": "[encoded data removed]",
      "text/plain": [
       "<Figure size 432x288 with 1 Axes>"
      ]
     },
     "metadata": {
      "needs_background": "light"
     },
     "output_type": "display_data"
    }
   ],
   "source": [
    "ax=sns.countplot(x='children',data=df)\n",
    "print(df['children'].value_counts())"
   ]
  },
  {
   "cell_type": "markdown",
   "id": "8cac85ad",
   "metadata": {},
   "source": [
    "We can see parents  that have  no.of children  with\n",
    "\n",
    "    0 childs-:574 parents\n",
    "    1 childs-:324 parents\n",
    "    2 childs-:240 parents\n",
    "    3 childs-:157 parents\n",
    "    4 childs-:25 parents\n",
    "    5 childs-:18 parents\n",
    "    \n",
    "    "
   ]
  },
  {
   "cell_type": "code",
   "execution_count": 11,
   "id": "9a31de26",
   "metadata": {},
   "outputs": [
    {
     "name": "stdout",
     "output_type": "stream",
     "text": [
      "0    1064\n",
      "1     274\n",
      "Name: smoker, dtype: int64\n"
     ]
    },
    {
     "data": {
      "image/png": "[encoded data removed]",
      "text/plain": [
       "<Figure size 432x288 with 1 Axes>"
      ]
     },
     "metadata": {
      "needs_background": "light"
     },
     "output_type": "display_data"
    }
   ],
   "source": [
    "ax=sns.countplot(x='smoker',data=df)\n",
    "print(df['smoker'].value_counts())"
   ]
  },
  {
   "cell_type": "markdown",
   "id": "431a22b5",
   "metadata": {},
   "source": [
    "We can observe that no. of non smokers are 1064 and no. of smokers are: 274"
   ]
  },
  {
   "cell_type": "code",
   "execution_count": 12,
   "id": "4699fb04",
   "metadata": {},
   "outputs": [
    {
     "name": "stdout",
     "output_type": "stream",
     "text": [
      "2    364\n",
      "3    325\n",
      "1    325\n",
      "0    324\n",
      "Name: region, dtype: int64\n"
     ]
    },
    {
     "data": {
      "image/png": "[encoded data removed]",
      "text/plain": [
       "<Figure size 432x288 with 1 Axes>"
      ]
     },
     "metadata": {
      "needs_background": "light"
     },
     "output_type": "display_data"
    }
   ],
   "source": [
    "ax=sns.countplot(x='region',data=df)\n",
    "print(df['region'].value_counts())"
   ]
  },
  {
   "cell_type": "markdown",
   "id": "02deb1a0",
   "metadata": {},
   "source": [
    "We can observe that people from  southeast region is 364,southwest region is 325,north east region is 325 and southwest region is 324"
   ]
  },
  {
   "cell_type": "markdown",
   "id": "56f5ce9e",
   "metadata": {},
   "source": [
    "## Visualisation of Data(continous columns)"
   ]
  },
  {
   "cell_type": "code",
   "execution_count": 13,
   "id": "e18503a1",
   "metadata": {},
   "outputs": [],
   "source": [
    "df_continous=df[['age','bmi','charges']]"
   ]
  },
  {
   "cell_type": "code",
   "execution_count": 14,
   "id": "91a82ada",
   "metadata": {},
   "outputs": [
    {
     "data": {
      "image/png": "[encoded data removed]",
      "text/plain": [
       "<Figure size 720x576 with 3 Axes>"
      ]
     },
     "metadata": {},
     "output_type": "display_data"
    }
   ],
   "source": [
    "plt.figure(figsize=(10,8),facecolor='yellow')\n",
    "plotnumber=1\n",
    "\n",
    "for column in df_continous:\n",
    "    if plotnumber<=3:\n",
    "        ax=plt.subplot(1,3,plotnumber)\n",
    "        sns.distplot(df_continous[column])\n",
    "    plotnumber=plotnumber+1\n",
    "\n",
    "plt.show()"
   ]
  },
  {
   "cell_type": "markdown",
   "id": "c12618c8",
   "metadata": {},
   "source": [
    "We can see that for age columns data is normally distributed with age values bwtween 20-60\n",
    "\n",
    "For bmi column the data is normally distributed.\n",
    "For charges column the data is mostly right skewed.\n"
   ]
  },
  {
   "cell_type": "markdown",
   "id": "8f6e09fa",
   "metadata": {},
   "source": [
    "# Checking For skewness"
   ]
  },
  {
   "cell_type": "code",
   "execution_count": 15,
   "id": "2173ec47",
   "metadata": {},
   "outputs": [
    {
     "data": {
      "text/plain": [
       "region     -0.038101\n",
       "sex        -0.020951\n",
       "age         0.055673\n",
       "bmi         0.284047\n",
       "children    0.938380\n",
       "smoker      1.464766\n",
       "charges     1.515880\n",
       "dtype: float64"
      ]
     },
     "execution_count": 15,
     "metadata": {},
     "output_type": "execute_result"
    }
   ],
   "source": [
    "df.skew().sort_values()"
   ]
  },
  {
   "cell_type": "markdown",
   "id": "b361e0bb",
   "metadata": {},
   "source": [
    "We can observe that the skewness of charges is high but we dont remove skewness from target variable"
   ]
  },
  {
   "cell_type": "markdown",
   "id": "b9760448",
   "metadata": {},
   "source": [
    "For rest of the columns the skewness values is within the limit"
   ]
  },
  {
   "cell_type": "markdown",
   "id": "c74e5c4a",
   "metadata": {},
   "source": [
    "# Checking for Corrrelation"
   ]
  },
  {
   "cell_type": "markdown",
   "id": "29db0885",
   "metadata": {},
   "source": [
    "## Checking the correaltion with target variable and between features"
   ]
  },
  {
   "cell_type": "markdown",
   "id": "ec22a653",
   "metadata": {},
   "source": [
    "### Plotting heatmap"
   ]
  },
  {
   "cell_type": "code",
   "execution_count": 16,
   "id": "0495eb17",
   "metadata": {},
   "outputs": [
    {
     "data": {
      "image/png": "[encoded data removed]",
      "text/plain": [
       "<Figure size 1800x1440 with 2 Axes>"
      ]
     },
     "metadata": {
      "needs_background": "light"
     },
     "output_type": "display_data"
    }
   ],
   "source": [
    "plt.figure(figsize=(25,20))\n",
    "sns.heatmap(df.corr(),annot=True,linewidths=0.5,linecolor='black',fmt='.2f')\n",
    "plt.title(\"Correlation matrix\")\n",
    "plt.savefig('Correlation matrix.jpg')\n",
    "plt.show()"
   ]
  },
  {
   "cell_type": "markdown",
   "id": "543ab3e0",
   "metadata": {},
   "source": [
    "We can observe that smoker column is having highest correlation with target variable with 79% and region columns is having lowest relationship with target variable with percentage (1%)"
   ]
  },
  {
   "cell_type": "markdown",
   "id": "9a723ae2",
   "metadata": {},
   "source": [
    "# Checking the columns which are positively and negatively related to target varibale"
   ]
  },
  {
   "cell_type": "code",
   "execution_count": 17,
   "id": "50ae186d",
   "metadata": {},
   "outputs": [
    {
     "data": {
      "image/png": "[encoded data removed]",
      "text/plain": [
       "<Figure size 1584x504 with 1 Axes>"
      ]
     },
     "metadata": {
      "needs_background": "light"
     },
     "output_type": "display_data"
    }
   ],
   "source": [
    "plt.figure(figsize=(22,7))\n",
    "df.corr()['charges'].sort_values(ascending=False).drop(['charges']).plot(kind='bar',color='c')\n",
    "plt.xlabel('Feature',fontsize=14)\n",
    "plt.ylabel('column with target names',fontsize=18)\n",
    "plt.title('Correlation')\n",
    "plt.show()\n",
    "\n"
   ]
  },
  {
   "cell_type": "markdown",
   "id": "e7288b55",
   "metadata": {},
   "source": [
    "# Checking for outliers"
   ]
  },
  {
   "cell_type": "code",
   "execution_count": 18,
   "id": "9d218bfe",
   "metadata": {},
   "outputs": [
    {
     "data": {
      "text/plain": [
       "<AxesSubplot:>"
      ]
     },
     "execution_count": 18,
     "metadata": {},
     "output_type": "execute_result"
    },
    {
     "data": {
      "image/png": "[encoded data removed]",
      "text/plain": [
       "<Figure size 432x288 with 1 Axes>"
      ]
     },
     "metadata": {
      "needs_background": "light"
     },
     "output_type": "display_data"
    }
   ],
   "source": [
    "df['age'].plot.box()"
   ]
  },
  {
   "cell_type": "markdown",
   "id": "446ab3eb",
   "metadata": {},
   "source": [
    "No outliers in age column"
   ]
  },
  {
   "cell_type": "code",
   "execution_count": 19,
   "id": "e5c5627b",
   "metadata": {},
   "outputs": [
    {
     "data": {
      "text/plain": [
       "<AxesSubplot:>"
      ]
     },
     "execution_count": 19,
     "metadata": {},
     "output_type": "execute_result"
    },
    {
     "data": {
      "image/png": "[encoded data removed]",
      "text/plain": [
       "<Figure size 432x288 with 1 Axes>"
      ]
     },
     "metadata": {
      "needs_background": "light"
     },
     "output_type": "display_data"
    }
   ],
   "source": [
    "df['bmi'].plot.box()"
   ]
  },
  {
   "cell_type": "markdown",
   "id": "236d93bb",
   "metadata": {},
   "source": [
    "We can observe that we have outliers in bmi columns"
   ]
  },
  {
   "cell_type": "code",
   "execution_count": 20,
   "id": "9f1246a8",
   "metadata": {},
   "outputs": [
    {
     "data": {
      "text/plain": [
       "<AxesSubplot:>"
      ]
     },
     "execution_count": 20,
     "metadata": {},
     "output_type": "execute_result"
    },
    {
     "data": {
      "image/png": "[encoded data removed]",
      "text/plain": [
       "<Figure size 432x288 with 1 Axes>"
      ]
     },
     "metadata": {
      "needs_background": "light"
     },
     "output_type": "display_data"
    }
   ],
   "source": [
    "df['charges'].plot.box()"
   ]
  },
  {
   "cell_type": "markdown",
   "id": "ffd183da",
   "metadata": {},
   "source": [
    "We have lots of outliers values in target varibale"
   ]
  },
  {
   "cell_type": "markdown",
   "id": "889656bd",
   "metadata": {},
   "source": [
    "# Preprocessing"
   ]
  },
  {
   "cell_type": "markdown",
   "id": "27851e75",
   "metadata": {},
   "source": [
    "## Removing outliers using z- technique"
   ]
  },
  {
   "cell_type": "code",
   "execution_count": 21,
   "id": "5c1bf7a2",
   "metadata": {},
   "outputs": [
    {
     "data": {
      "text/html": [
       "<div>\n",
       "<style scoped>\n",
       "    .dataframe tbody tr th:only-of-type {\n",
       "        vertical-align: middle;\n",
       "    }\n",
       "\n",
       "    .dataframe tbody tr th {\n",
       "        vertical-align: top;\n",
       "    }\n",
       "\n",
       "    .dataframe thead th {\n",
       "        text-align: right;\n",
       "    }\n",
       "</style>\n",
       "<table border=\"1\" class=\"dataframe\">\n",
       "  <thead>\n",
       "    <tr style=\"text-align: right;\">\n",
       "      <th></th>\n",
       "      <th>age</th>\n",
       "      <th>sex</th>\n",
       "      <th>bmi</th>\n",
       "      <th>children</th>\n",
       "      <th>smoker</th>\n",
       "      <th>region</th>\n",
       "      <th>charges</th>\n",
       "    </tr>\n",
       "  </thead>\n",
       "  <tbody>\n",
       "    <tr>\n",
       "      <th>0</th>\n",
       "      <td>1.438764</td>\n",
       "      <td>1.010519</td>\n",
       "      <td>0.453320</td>\n",
       "      <td>0.908614</td>\n",
       "      <td>1.970587</td>\n",
       "      <td>1.343905</td>\n",
       "      <td>0.298584</td>\n",
       "    </tr>\n",
       "    <tr>\n",
       "      <th>1</th>\n",
       "      <td>1.509965</td>\n",
       "      <td>0.989591</td>\n",
       "      <td>0.509621</td>\n",
       "      <td>0.078767</td>\n",
       "      <td>0.507463</td>\n",
       "      <td>0.438495</td>\n",
       "      <td>0.953689</td>\n",
       "    </tr>\n",
       "    <tr>\n",
       "      <th>2</th>\n",
       "      <td>0.797954</td>\n",
       "      <td>0.989591</td>\n",
       "      <td>0.383307</td>\n",
       "      <td>1.580926</td>\n",
       "      <td>0.507463</td>\n",
       "      <td>0.438495</td>\n",
       "      <td>0.728675</td>\n",
       "    </tr>\n",
       "    <tr>\n",
       "      <th>3</th>\n",
       "      <td>0.441948</td>\n",
       "      <td>0.989591</td>\n",
       "      <td>1.305531</td>\n",
       "      <td>0.908614</td>\n",
       "      <td>0.507463</td>\n",
       "      <td>0.466915</td>\n",
       "      <td>0.719843</td>\n",
       "    </tr>\n",
       "    <tr>\n",
       "      <th>4</th>\n",
       "      <td>0.513149</td>\n",
       "      <td>0.989591</td>\n",
       "      <td>0.292556</td>\n",
       "      <td>0.908614</td>\n",
       "      <td>0.507463</td>\n",
       "      <td>0.466915</td>\n",
       "      <td>0.776802</td>\n",
       "    </tr>\n",
       "    <tr>\n",
       "      <th>...</th>\n",
       "      <td>...</td>\n",
       "      <td>...</td>\n",
       "      <td>...</td>\n",
       "      <td>...</td>\n",
       "      <td>...</td>\n",
       "      <td>...</td>\n",
       "      <td>...</td>\n",
       "    </tr>\n",
       "    <tr>\n",
       "      <th>1333</th>\n",
       "      <td>0.768473</td>\n",
       "      <td>0.989591</td>\n",
       "      <td>0.050297</td>\n",
       "      <td>1.580926</td>\n",
       "      <td>0.507463</td>\n",
       "      <td>0.466915</td>\n",
       "      <td>0.220551</td>\n",
       "    </tr>\n",
       "    <tr>\n",
       "      <th>1334</th>\n",
       "      <td>1.509965</td>\n",
       "      <td>1.010519</td>\n",
       "      <td>0.206139</td>\n",
       "      <td>0.908614</td>\n",
       "      <td>0.507463</td>\n",
       "      <td>1.372326</td>\n",
       "      <td>0.914002</td>\n",
       "    </tr>\n",
       "    <tr>\n",
       "      <th>1335</th>\n",
       "      <td>1.509965</td>\n",
       "      <td>1.010519</td>\n",
       "      <td>1.014878</td>\n",
       "      <td>0.908614</td>\n",
       "      <td>0.507463</td>\n",
       "      <td>0.438495</td>\n",
       "      <td>0.961596</td>\n",
       "    </tr>\n",
       "    <tr>\n",
       "      <th>1336</th>\n",
       "      <td>1.296362</td>\n",
       "      <td>1.010519</td>\n",
       "      <td>0.797813</td>\n",
       "      <td>0.908614</td>\n",
       "      <td>0.507463</td>\n",
       "      <td>1.343905</td>\n",
       "      <td>0.930362</td>\n",
       "    </tr>\n",
       "    <tr>\n",
       "      <th>1337</th>\n",
       "      <td>1.551686</td>\n",
       "      <td>1.010519</td>\n",
       "      <td>0.261388</td>\n",
       "      <td>0.908614</td>\n",
       "      <td>1.970587</td>\n",
       "      <td>0.466915</td>\n",
       "      <td>1.311053</td>\n",
       "    </tr>\n",
       "  </tbody>\n",
       "</table>\n",
       "<p>1338 rows × 7 columns</p>\n",
       "</div>"
      ],
      "text/plain": [
       "           age       sex       bmi  children    smoker    region   charges\n",
       "0     1.438764  1.010519  0.453320  0.908614  1.970587  1.343905  0.298584\n",
       "1     1.509965  0.989591  0.509621  0.078767  0.507463  0.438495  0.953689\n",
       "2     0.797954  0.989591  0.383307  1.580926  0.507463  0.438495  0.728675\n",
       "3     0.441948  0.989591  1.305531  0.908614  0.507463  0.466915  0.719843\n",
       "4     0.513149  0.989591  0.292556  0.908614  0.507463  0.466915  0.776802\n",
       "...        ...       ...       ...       ...       ...       ...       ...\n",
       "1333  0.768473  0.989591  0.050297  1.580926  0.507463  0.466915  0.220551\n",
       "1334  1.509965  1.010519  0.206139  0.908614  0.507463  1.372326  0.914002\n",
       "1335  1.509965  1.010519  1.014878  0.908614  0.507463  0.438495  0.961596\n",
       "1336  1.296362  1.010519  0.797813  0.908614  0.507463  1.343905  0.930362\n",
       "1337  1.551686  1.010519  0.261388  0.908614  1.970587  0.466915  1.311053\n",
       "\n",
       "[1338 rows x 7 columns]"
      ]
     },
     "execution_count": 21,
     "metadata": {},
     "output_type": "execute_result"
    }
   ],
   "source": [
    "from scipy.stats import zscore\n",
    "z=np.abs(zscore(df))\n",
    "z.shape\n",
    "z"
   ]
  },
  {
   "cell_type": "code",
   "execution_count": 22,
   "id": "aac0525d",
   "metadata": {},
   "outputs": [
    {
     "name": "stdout",
     "output_type": "stream",
     "text": [
      "(array([  32,   34,   71,  116,  166,  413,  425,  438,  543,  568,  577,\n",
      "        640,  819,  847,  877,  932,  937,  969,  984, 1047, 1085, 1116,\n",
      "       1130, 1146, 1230, 1245, 1272, 1300, 1317], dtype=int64), array([3, 6, 3, 2, 3, 3, 3, 3, 6, 3, 6, 3, 6, 2, 3, 3, 3, 3, 3, 2, 3, 3,\n",
      "       3, 6, 6, 3, 3, 6, 2], dtype=int64))\n"
     ]
    },
    {
     "data": {
      "text/plain": [
       "29"
      ]
     },
     "execution_count": 22,
     "metadata": {},
     "output_type": "execute_result"
    }
   ],
   "source": [
    "threshold=3  # rule of thumb\n",
    "#index number\n",
    "print(np.where(z>3))\n",
    "len(np.where(z>3)[0])"
   ]
  },
  {
   "cell_type": "code",
   "execution_count": 24,
   "id": "eacb87da",
   "metadata": {},
   "outputs": [
    {
     "name": "stdout",
     "output_type": "stream",
     "text": [
      "old dataframe (1309, 7)\n",
      "new dataframe (1309, 7)\n",
      "total number of rows dropped 0\n"
     ]
    }
   ],
   "source": [
    "df_new=df[(z<3).all(axis=1)]\n",
    "print(\"old dataframe\",df.shape)\n",
    "print(\"new dataframe\",df_new.shape)\n",
    "print(\"total number of rows dropped\",df.shape[0]-df_new.shape[0])"
   ]
  },
  {
   "cell_type": "markdown",
   "id": "a72ab508",
   "metadata": {},
   "source": [
    "Since 99% of the data lies between 3rd standard deviation .So we chose 3 as threshold"
   ]
  },
  {
   "cell_type": "code",
   "execution_count": null,
   "id": "bbfce7da",
   "metadata": {},
   "outputs": [],
   "source": []
  },
  {
   "cell_type": "markdown",
   "id": "e2ec68b8",
   "metadata": {},
   "source": [
    " We can observe that after outlier removal there are 29 no. of outliers are removed"
   ]
  },
  {
   "cell_type": "code",
   "execution_count": 26,
   "id": "0d405e0b",
   "metadata": {},
   "outputs": [
    {
     "data": {
      "text/plain": [
       "(1309, 7)"
      ]
     },
     "execution_count": 26,
     "metadata": {},
     "output_type": "execute_result"
    }
   ],
   "source": [
    "df=df_new\n",
    "df.shape"
   ]
  },
  {
   "cell_type": "markdown",
   "id": "ea1f5980",
   "metadata": {},
   "source": [
    "## Percentage data loss"
   ]
  },
  {
   "cell_type": "code",
   "execution_count": 27,
   "id": "461098e2",
   "metadata": {},
   "outputs": [
    {
     "data": {
      "text/plain": [
       "8.818011257035648"
      ]
     },
     "execution_count": 27,
     "metadata": {},
     "output_type": "execute_result"
    }
   ],
   "source": [
    "loss_percent=(1599-1458)/1599*100\n",
    "loss_percent"
   ]
  },
  {
   "cell_type": "markdown",
   "id": "2e014b14",
   "metadata": {},
   "source": [
    "Data loss is less than 10% So its ok to remove outliers"
   ]
  },
  {
   "cell_type": "markdown",
   "id": "c17e1d09",
   "metadata": {},
   "source": [
    "# Separating label and features as x and y"
   ]
  },
  {
   "cell_type": "code",
   "execution_count": 28,
   "id": "ab9af291",
   "metadata": {},
   "outputs": [],
   "source": [
    "x=df.drop(columns=['charges','region'],axis=1)\n",
    "y=df['charges']"
   ]
  },
  {
   "cell_type": "markdown",
   "id": "b7dc6abb",
   "metadata": {},
   "source": [
    "Removed region column as it is contributing very less to target variable"
   ]
  },
  {
   "cell_type": "markdown",
   "id": "c7586c71",
   "metadata": {},
   "source": [
    "## Removing skewness using Datatransfromation"
   ]
  },
  {
   "cell_type": "code",
   "execution_count": 29,
   "id": "1aafa906",
   "metadata": {},
   "outputs": [],
   "source": [
    "from sklearn.preprocessing import power_transform"
   ]
  },
  {
   "cell_type": "code",
   "execution_count": 30,
   "id": "dd427cd3",
   "metadata": {},
   "outputs": [
    {
     "data": {
      "text/plain": [
       "array([[-1.52338838, -1.00536197, -0.41533151, -1.0686717 ,  1.98484827],\n",
       "       [-1.61486488,  0.99466663,  0.56155224,  0.32286499, -0.50381685],\n",
       "       [-0.76526073,  0.99466663,  0.43769977,  1.4202725 , -0.50381685],\n",
       "       ...,\n",
       "       [-1.61486488, -1.00536197,  1.04555528, -1.0686717 , -0.50381685],\n",
       "       [-1.34540925, -1.00536197, -0.78526808, -1.0686717 , -0.50381685],\n",
       "       [ 1.46003406, -1.00536197, -0.2142488 , -1.0686717 ,  1.98484827]])"
      ]
     },
     "execution_count": 30,
     "metadata": {},
     "output_type": "execute_result"
    }
   ],
   "source": [
    "x=power_transform(x,method='yeo-johnson')\n",
    "x"
   ]
  },
  {
   "cell_type": "code",
   "execution_count": 31,
   "id": "88a8d658",
   "metadata": {},
   "outputs": [
    {
     "data": {
      "text/plain": [
       "0   -0.101636\n",
       "2   -0.012857\n",
       "1   -0.010708\n",
       "3    0.098891\n",
       "4    1.482731\n",
       "dtype: float64"
      ]
     },
     "execution_count": 31,
     "metadata": {},
     "output_type": "execute_result"
    }
   ],
   "source": [
    "pd.DataFrame(x).skew().sort_values()"
   ]
  },
  {
   "cell_type": "markdown",
   "id": "24a3fc8a",
   "metadata": {},
   "source": [
    "We can see that skewness is removed"
   ]
  },
  {
   "cell_type": "code",
   "execution_count": 32,
   "id": "9db9adae",
   "metadata": {},
   "outputs": [
    {
     "data": {
      "text/html": [
       "<div>\n",
       "<style scoped>\n",
       "    .dataframe tbody tr th:only-of-type {\n",
       "        vertical-align: middle;\n",
       "    }\n",
       "\n",
       "    .dataframe tbody tr th {\n",
       "        vertical-align: top;\n",
       "    }\n",
       "\n",
       "    .dataframe thead th {\n",
       "        text-align: right;\n",
       "    }\n",
       "</style>\n",
       "<table border=\"1\" class=\"dataframe\">\n",
       "  <thead>\n",
       "    <tr style=\"text-align: right;\">\n",
       "      <th></th>\n",
       "      <th>0</th>\n",
       "      <th>1</th>\n",
       "      <th>2</th>\n",
       "      <th>3</th>\n",
       "      <th>4</th>\n",
       "    </tr>\n",
       "  </thead>\n",
       "  <tbody>\n",
       "    <tr>\n",
       "      <th>0</th>\n",
       "      <td>-1.523388</td>\n",
       "      <td>-1.005362</td>\n",
       "      <td>-0.415332</td>\n",
       "      <td>-1.068672</td>\n",
       "      <td>1.984848</td>\n",
       "    </tr>\n",
       "    <tr>\n",
       "      <th>1</th>\n",
       "      <td>-1.614865</td>\n",
       "      <td>0.994667</td>\n",
       "      <td>0.561552</td>\n",
       "      <td>0.322865</td>\n",
       "      <td>-0.503817</td>\n",
       "    </tr>\n",
       "    <tr>\n",
       "      <th>2</th>\n",
       "      <td>-0.765261</td>\n",
       "      <td>0.994667</td>\n",
       "      <td>0.437700</td>\n",
       "      <td>1.420272</td>\n",
       "      <td>-0.503817</td>\n",
       "    </tr>\n",
       "    <tr>\n",
       "      <th>3</th>\n",
       "      <td>-0.382755</td>\n",
       "      <td>0.994667</td>\n",
       "      <td>-1.354109</td>\n",
       "      <td>-1.068672</td>\n",
       "      <td>-0.503817</td>\n",
       "    </tr>\n",
       "    <tr>\n",
       "      <th>4</th>\n",
       "      <td>-0.457477</td>\n",
       "      <td>0.994667</td>\n",
       "      <td>-0.246671</td>\n",
       "      <td>-1.068672</td>\n",
       "      <td>-0.503817</td>\n",
       "    </tr>\n",
       "    <tr>\n",
       "      <th>...</th>\n",
       "      <td>...</td>\n",
       "      <td>...</td>\n",
       "      <td>...</td>\n",
       "      <td>...</td>\n",
       "      <td>...</td>\n",
       "    </tr>\n",
       "    <tr>\n",
       "      <th>1304</th>\n",
       "      <td>0.783431</td>\n",
       "      <td>0.994667</td>\n",
       "      <td>0.105252</td>\n",
       "      <td>1.420272</td>\n",
       "      <td>-0.503817</td>\n",
       "    </tr>\n",
       "    <tr>\n",
       "      <th>1305</th>\n",
       "      <td>-1.614865</td>\n",
       "      <td>-1.005362</td>\n",
       "      <td>0.261929</td>\n",
       "      <td>-1.068672</td>\n",
       "      <td>-0.503817</td>\n",
       "    </tr>\n",
       "    <tr>\n",
       "      <th>1306</th>\n",
       "      <td>-1.614865</td>\n",
       "      <td>-1.005362</td>\n",
       "      <td>1.045555</td>\n",
       "      <td>-1.068672</td>\n",
       "      <td>-0.503817</td>\n",
       "    </tr>\n",
       "    <tr>\n",
       "      <th>1307</th>\n",
       "      <td>-1.345409</td>\n",
       "      <td>-1.005362</td>\n",
       "      <td>-0.785268</td>\n",
       "      <td>-1.068672</td>\n",
       "      <td>-0.503817</td>\n",
       "    </tr>\n",
       "    <tr>\n",
       "      <th>1308</th>\n",
       "      <td>1.460034</td>\n",
       "      <td>-1.005362</td>\n",
       "      <td>-0.214249</td>\n",
       "      <td>-1.068672</td>\n",
       "      <td>1.984848</td>\n",
       "    </tr>\n",
       "  </tbody>\n",
       "</table>\n",
       "<p>1309 rows × 5 columns</p>\n",
       "</div>"
      ],
      "text/plain": [
       "             0         1         2         3         4\n",
       "0    -1.523388 -1.005362 -0.415332 -1.068672  1.984848\n",
       "1    -1.614865  0.994667  0.561552  0.322865 -0.503817\n",
       "2    -0.765261  0.994667  0.437700  1.420272 -0.503817\n",
       "3    -0.382755  0.994667 -1.354109 -1.068672 -0.503817\n",
       "4    -0.457477  0.994667 -0.246671 -1.068672 -0.503817\n",
       "...        ...       ...       ...       ...       ...\n",
       "1304  0.783431  0.994667  0.105252  1.420272 -0.503817\n",
       "1305 -1.614865 -1.005362  0.261929 -1.068672 -0.503817\n",
       "1306 -1.614865 -1.005362  1.045555 -1.068672 -0.503817\n",
       "1307 -1.345409 -1.005362 -0.785268 -1.068672 -0.503817\n",
       "1308  1.460034 -1.005362 -0.214249 -1.068672  1.984848\n",
       "\n",
       "[1309 rows x 5 columns]"
      ]
     },
     "execution_count": 32,
     "metadata": {},
     "output_type": "execute_result"
    }
   ],
   "source": [
    "x_new=pd.DataFrame(x)\n",
    "x_new"
   ]
  },
  {
   "cell_type": "markdown",
   "id": "618ca04e",
   "metadata": {},
   "source": [
    "# Data Standardisation"
   ]
  },
  {
   "cell_type": "code",
   "execution_count": 33,
   "id": "14fc7da5",
   "metadata": {},
   "outputs": [],
   "source": [
    "from sklearn.preprocessing import StandardScaler"
   ]
  },
  {
   "cell_type": "code",
   "execution_count": 34,
   "id": "83952d85",
   "metadata": {},
   "outputs": [],
   "source": [
    "scaler=StandardScaler()"
   ]
  },
  {
   "cell_type": "code",
   "execution_count": 35,
   "id": "b6fbab73",
   "metadata": {},
   "outputs": [],
   "source": [
    "x_scaled=scaler.fit_transform(x_new)"
   ]
  },
  {
   "cell_type": "markdown",
   "id": "e160a846",
   "metadata": {},
   "source": [
    "# Check for multicolliernity"
   ]
  },
  {
   "cell_type": "code",
   "execution_count": 36,
   "id": "065a1919",
   "metadata": {},
   "outputs": [],
   "source": [
    "from statsmodels.stats.outliers_influence import variance_inflation_factor"
   ]
  },
  {
   "cell_type": "code",
   "execution_count": 37,
   "id": "1376942b",
   "metadata": {},
   "outputs": [
    {
     "data": {
      "text/html": [
       "<div>\n",
       "<style scoped>\n",
       "    .dataframe tbody tr th:only-of-type {\n",
       "        vertical-align: middle;\n",
       "    }\n",
       "\n",
       "    .dataframe tbody tr th {\n",
       "        vertical-align: top;\n",
       "    }\n",
       "\n",
       "    .dataframe thead th {\n",
       "        text-align: right;\n",
       "    }\n",
       "</style>\n",
       "<table border=\"1\" class=\"dataframe\">\n",
       "  <thead>\n",
       "    <tr style=\"text-align: right;\">\n",
       "      <th></th>\n",
       "      <th>vif1</th>\n",
       "      <th>features</th>\n",
       "    </tr>\n",
       "  </thead>\n",
       "  <tbody>\n",
       "    <tr>\n",
       "      <th>0</th>\n",
       "      <td>1.021950</td>\n",
       "      <td>0</td>\n",
       "    </tr>\n",
       "    <tr>\n",
       "      <th>1</th>\n",
       "      <td>1.008851</td>\n",
       "      <td>1</td>\n",
       "    </tr>\n",
       "    <tr>\n",
       "      <th>2</th>\n",
       "      <td>1.016803</td>\n",
       "      <td>2</td>\n",
       "    </tr>\n",
       "    <tr>\n",
       "      <th>3</th>\n",
       "      <td>1.007845</td>\n",
       "      <td>3</td>\n",
       "    </tr>\n",
       "    <tr>\n",
       "      <th>4</th>\n",
       "      <td>1.007859</td>\n",
       "      <td>4</td>\n",
       "    </tr>\n",
       "  </tbody>\n",
       "</table>\n",
       "</div>"
      ],
      "text/plain": [
       "       vif1  features\n",
       "0  1.021950         0\n",
       "1  1.008851         1\n",
       "2  1.016803         2\n",
       "3  1.007845         3\n",
       "4  1.007859         4"
      ]
     },
     "execution_count": 37,
     "metadata": {},
     "output_type": "execute_result"
    }
   ],
   "source": [
    "vif=pd.DataFrame()\n",
    "vif['vif1']=[variance_inflation_factor(x_scaled,i) for i in range(x_scaled.shape[1])]\n",
    "vif['features']=x_new.columns\n",
    "vif"
   ]
  },
  {
   "cell_type": "markdown",
   "id": "10c5e17e",
   "metadata": {},
   "source": [
    "We can see that vif is less than 5 for all columns so  there are no multicollierinity"
   ]
  },
  {
   "cell_type": "markdown",
   "id": "c10d2d76",
   "metadata": {},
   "source": [
    "# Training our model"
   ]
  },
  {
   "cell_type": "markdown",
   "id": "052a8bf7",
   "metadata": {},
   "source": [
    "## Linear Regression Regressor"
   ]
  },
  {
   "cell_type": "code",
   "execution_count": 38,
   "id": "7ee6bf91",
   "metadata": {},
   "outputs": [],
   "source": [
    "from sklearn.linear_model import LinearRegression\n",
    "from sklearn.model_selection import train_test_split\n",
    "from sklearn.metrics import r2_score,accuracy_score\n",
    "from sklearn.metrics import mean_squared_error,mean_absolute_error\n"
   ]
  },
  {
   "cell_type": "code",
   "execution_count": 39,
   "id": "de32a8f1",
   "metadata": {},
   "outputs": [],
   "source": [
    "lr=LinearRegression()"
   ]
  },
  {
   "cell_type": "markdown",
   "id": "e50f116b",
   "metadata": {},
   "source": [
    "## Finding the best random state"
   ]
  },
  {
   "cell_type": "code",
   "execution_count": 40,
   "id": "38085a1a",
   "metadata": {},
   "outputs": [
    {
     "name": "stdout",
     "output_type": "stream",
     "text": [
      "At random state0, the training accuracy is :-0.7383232626981107\n",
      "At random state0, the testing accuracy is :-0.7864794303628455\n",
      "\n",
      "\n",
      "At random state1, the training accuracy is :-0.7482550273950868\n",
      "At random state1, the testing accuracy is :-0.7553101969241917\n",
      "\n",
      "\n",
      "At random state2, the training accuracy is :-0.7590819659927489\n",
      "At random state2, the testing accuracy is :-0.7114045681170514\n",
      "\n",
      "\n",
      "At random state3, the training accuracy is :-0.751504929742894\n",
      "At random state3, the testing accuracy is :-0.7420163113004092\n",
      "\n",
      "\n",
      "At random state4, the training accuracy is :-0.7526183158942263\n",
      "At random state4, the testing accuracy is :-0.7359632312195621\n",
      "\n",
      "\n",
      "At random state5, the training accuracy is :-0.7517614594365002\n",
      "At random state5, the testing accuracy is :-0.7406242841430994\n",
      "\n",
      "\n",
      "At random state6, the training accuracy is :-0.7461351936351954\n",
      "At random state6, the testing accuracy is :-0.7633564436672041\n",
      "\n",
      "\n",
      "At random state7, the training accuracy is :-0.7565463351095689\n",
      "At random state7, the testing accuracy is :-0.7199215352030994\n",
      "\n",
      "\n",
      "At random state8, the training accuracy is :-0.7535703010058286\n",
      "At random state8, the testing accuracy is :-0.730120871878221\n",
      "\n",
      "\n",
      "At random state9, the training accuracy is :-0.7398399784326459\n",
      "At random state9, the testing accuracy is :-0.7800778341062533\n",
      "\n",
      "\n",
      "At random state10, the training accuracy is :-0.7409113069095933\n",
      "At random state10, the testing accuracy is :-0.7799977531053208\n",
      "\n",
      "\n",
      "At random state11, the training accuracy is :-0.7501160064291347\n",
      "At random state11, the testing accuracy is :-0.747102419877594\n",
      "\n",
      "\n",
      "At random state12, the training accuracy is :-0.7442801817034173\n",
      "At random state12, the testing accuracy is :-0.765970992170125\n",
      "\n",
      "\n",
      "At random state13, the training accuracy is :-0.7482006465972664\n",
      "At random state13, the testing accuracy is :-0.7530656724700262\n",
      "\n",
      "\n",
      "At random state14, the training accuracy is :-0.7527307394211028\n",
      "At random state14, the testing accuracy is :-0.7330214536470971\n",
      "\n",
      "\n",
      "At random state15, the training accuracy is :-0.7489411690640825\n",
      "At random state15, the testing accuracy is :-0.751770165276331\n",
      "\n",
      "\n",
      "At random state16, the training accuracy is :-0.7547368543836988\n",
      "At random state16, the testing accuracy is :-0.722110445452926\n",
      "\n",
      "\n",
      "At random state17, the training accuracy is :-0.7644303236690722\n",
      "At random state17, the testing accuracy is :-0.6783542113134045\n",
      "\n",
      "\n",
      "At random state18, the training accuracy is :-0.7541014032966258\n",
      "At random state18, the testing accuracy is :-0.7257933489139516\n",
      "\n",
      "\n",
      "At random state19, the training accuracy is :-0.7455281718027966\n",
      "At random state19, the testing accuracy is :-0.7661805284722588\n",
      "\n",
      "\n",
      "At random state20, the training accuracy is :-0.7538849545826851\n",
      "At random state20, the testing accuracy is :-0.7300179915665763\n",
      "\n",
      "\n",
      "At random state21, the training accuracy is :-0.7533669619809138\n",
      "At random state21, the testing accuracy is :-0.734972740717784\n",
      "\n",
      "\n",
      "At random state22, the training accuracy is :-0.7541267088352273\n",
      "At random state22, the testing accuracy is :-0.7287196925903641\n",
      "\n",
      "\n",
      "At random state23, the training accuracy is :-0.7424898526827268\n",
      "At random state23, the testing accuracy is :-0.7766128267673523\n",
      "\n",
      "\n",
      "At random state24, the training accuracy is :-0.7632455042643697\n",
      "At random state24, the testing accuracy is :-0.692154890017965\n",
      "\n",
      "\n",
      "At random state25, the training accuracy is :-0.7449648748025992\n",
      "At random state25, the testing accuracy is :-0.7679610106824429\n",
      "\n",
      "\n",
      "At random state26, the training accuracy is :-0.7500024876366167\n",
      "At random state26, the testing accuracy is :-0.7353932702698976\n",
      "\n",
      "\n",
      "At random state27, the training accuracy is :-0.7426920845493661\n",
      "At random state27, the testing accuracy is :-0.7777167061429558\n",
      "\n",
      "\n",
      "At random state28, the training accuracy is :-0.7461652052292274\n",
      "At random state28, the testing accuracy is :-0.7630090561481153\n",
      "\n",
      "\n",
      "At random state29, the training accuracy is :-0.743866056579749\n",
      "At random state29, the testing accuracy is :-0.7672715096488446\n",
      "\n",
      "\n",
      "At random state30, the training accuracy is :-0.7446169851283989\n",
      "At random state30, the testing accuracy is :-0.7678736795526468\n",
      "\n",
      "\n",
      "At random state31, the training accuracy is :-0.7619665502692472\n",
      "At random state31, the testing accuracy is :-0.7012574757319174\n",
      "\n",
      "\n",
      "At random state32, the training accuracy is :-0.7423221283072061\n",
      "At random state32, the testing accuracy is :-0.7768115551826027\n",
      "\n",
      "\n",
      "At random state33, the training accuracy is :-0.7496431357975015\n",
      "At random state33, the testing accuracy is :-0.7448942504913376\n",
      "\n",
      "\n",
      "At random state34, the training accuracy is :-0.745986440486093\n",
      "At random state34, the testing accuracy is :-0.7639035223013186\n",
      "\n",
      "\n",
      "At random state35, the training accuracy is :-0.7566842107272577\n",
      "At random state35, the testing accuracy is :-0.7083243555483003\n",
      "\n",
      "\n",
      "At random state36, the training accuracy is :-0.7455109422088169\n",
      "At random state36, the testing accuracy is :-0.7603547934877721\n",
      "\n",
      "\n",
      "At random state37, the training accuracy is :-0.7325013750910969\n",
      "At random state37, the testing accuracy is :-0.8034926814207877\n",
      "\n",
      "\n",
      "At random state38, the training accuracy is :-0.7619512470712625\n",
      "At random state38, the testing accuracy is :-0.674767804372385\n",
      "\n",
      "\n",
      "At random state39, the training accuracy is :-0.7508328129411473\n",
      "At random state39, the testing accuracy is :-0.7447042394767971\n",
      "\n",
      "\n",
      "At random state40, the training accuracy is :-0.7543706561323282\n",
      "At random state40, the testing accuracy is :-0.7299081804435592\n",
      "\n",
      "\n",
      "At random state41, the training accuracy is :-0.7507726302798994\n",
      "At random state41, the testing accuracy is :-0.7426383649655032\n",
      "\n",
      "\n",
      "At random state42, the training accuracy is :-0.7427711510327841\n",
      "At random state42, the testing accuracy is :-0.7775574451787288\n",
      "\n",
      "\n",
      "At random state43, the training accuracy is :-0.7538821897598312\n",
      "At random state43, the testing accuracy is :-0.7308742161764448\n",
      "\n",
      "\n",
      "At random state44, the training accuracy is :-0.7533877375604516\n",
      "At random state44, the testing accuracy is :-0.7269612525649044\n",
      "\n",
      "\n",
      "At random state45, the training accuracy is :-0.7443012858249088\n",
      "At random state45, the testing accuracy is :-0.7591433556151802\n",
      "\n",
      "\n",
      "At random state46, the training accuracy is :-0.7496865160853992\n",
      "At random state46, the testing accuracy is :-0.7495125806004971\n",
      "\n",
      "\n",
      "At random state47, the training accuracy is :-0.7557993701597306\n",
      "At random state47, the testing accuracy is :-0.7250999646762086\n",
      "\n",
      "\n",
      "At random state48, the training accuracy is :-0.7435591826599741\n",
      "At random state48, the testing accuracy is :-0.7733361047337647\n",
      "\n",
      "\n",
      "At random state49, the training accuracy is :-0.7515658663037715\n",
      "At random state49, the testing accuracy is :-0.741966658514158\n",
      "\n",
      "\n",
      "At random state50, the training accuracy is :-0.7450184594199767\n",
      "At random state50, the testing accuracy is :-0.765439967265495\n",
      "\n",
      "\n",
      "At random state51, the training accuracy is :-0.7539676077081794\n",
      "At random state51, the testing accuracy is :-0.73130027618423\n",
      "\n",
      "\n",
      "At random state52, the training accuracy is :-0.7587217654791469\n",
      "At random state52, the testing accuracy is :-0.7088512033970117\n",
      "\n",
      "\n",
      "At random state53, the training accuracy is :-0.7530976572013127\n",
      "At random state53, the testing accuracy is :-0.7328023504032098\n",
      "\n",
      "\n",
      "At random state54, the training accuracy is :-0.7525939200751657\n",
      "At random state54, the testing accuracy is :-0.732469952943426\n",
      "\n",
      "\n",
      "At random state55, the training accuracy is :-0.7603950091171233\n",
      "At random state55, the testing accuracy is :-0.7034308389163577\n",
      "\n",
      "\n",
      "At random state56, the training accuracy is :-0.7460195574437078\n",
      "At random state56, the testing accuracy is :-0.7651089943927312\n",
      "\n",
      "\n",
      "At random state57, the training accuracy is :-0.7382900744079887\n",
      "At random state57, the testing accuracy is :-0.7917058265173293\n",
      "\n",
      "\n",
      "At random state58, the training accuracy is :-0.7500339374228351\n",
      "At random state58, the testing accuracy is :-0.7473197990423693\n",
      "\n",
      "\n",
      "At random state59, the training accuracy is :-0.7483980650412494\n",
      "At random state59, the testing accuracy is :-0.7533654156918697\n",
      "\n",
      "\n",
      "At random state60, the training accuracy is :-0.7350873839820629\n",
      "At random state60, the testing accuracy is :-0.803377219344444\n",
      "\n",
      "\n",
      "At random state61, the training accuracy is :-0.7589214080692325\n",
      "At random state61, the testing accuracy is :-0.7100259383143478\n",
      "\n",
      "\n",
      "At random state62, the training accuracy is :-0.7449669889676311\n",
      "At random state62, the testing accuracy is :-0.7648233053549891\n",
      "\n",
      "\n",
      "At random state63, the training accuracy is :-0.7480476498393156\n",
      "At random state63, the testing accuracy is :-0.7546402396462452\n",
      "\n",
      "\n",
      "At random state64, the training accuracy is :-0.7468381725230429\n",
      "At random state64, the testing accuracy is :-0.7579573845270055\n",
      "\n",
      "\n",
      "At random state65, the training accuracy is :-0.7481466605933382\n",
      "At random state65, the testing accuracy is :-0.7551211521674128\n",
      "\n",
      "\n",
      "At random state66, the training accuracy is :-0.7532770928625554\n",
      "At random state66, the testing accuracy is :-0.733602795011959\n",
      "\n",
      "\n",
      "At random state67, the training accuracy is :-0.7619623061004206\n",
      "At random state67, the testing accuracy is :-0.7042129151029796\n",
      "\n",
      "\n",
      "At random state68, the training accuracy is :-0.7654586346352483\n",
      "At random state68, the testing accuracy is :-0.682504984094296\n",
      "\n",
      "\n",
      "At random state69, the training accuracy is :-0.7355340243850477\n",
      "At random state69, the testing accuracy is :-0.798414238969398\n",
      "\n",
      "\n",
      "At random state70, the training accuracy is :-0.7499208614998446\n",
      "At random state70, the testing accuracy is :-0.7468715296230239\n",
      "\n",
      "\n",
      "At random state71, the training accuracy is :-0.7465603698577727\n",
      "At random state71, the testing accuracy is :-0.761853836349025\n",
      "\n",
      "\n",
      "At random state72, the training accuracy is :-0.7294283082392493\n",
      "At random state72, the testing accuracy is :-0.8203355723144583\n",
      "\n",
      "\n",
      "At random state73, the training accuracy is :-0.7465685043481127\n",
      "At random state73, the testing accuracy is :-0.7619913194186824\n",
      "\n",
      "\n",
      "At random state74, the training accuracy is :-0.7455964607864496\n",
      "At random state74, the testing accuracy is :-0.7600935068088077\n",
      "\n",
      "\n",
      "At random state75, the training accuracy is :-0.7504437540297961\n",
      "At random state75, the testing accuracy is :-0.7421173217029795\n",
      "\n",
      "\n",
      "At random state76, the training accuracy is :-0.7531591973881118\n",
      "At random state76, the testing accuracy is :-0.7268123421532344\n",
      "\n",
      "\n",
      "At random state77, the training accuracy is :-0.7636062911789161\n",
      "At random state77, the testing accuracy is :-0.6740417787605426\n",
      "\n",
      "\n",
      "At random state78, the training accuracy is :-0.7504575119526933\n",
      "At random state78, the testing accuracy is :-0.744968973741826\n",
      "\n",
      "\n",
      "At random state79, the training accuracy is :-0.7628876506651222\n",
      "At random state79, the testing accuracy is :-0.6943389164979517\n",
      "\n",
      "\n",
      "At random state80, the training accuracy is :-0.750319982719444\n",
      "At random state80, the testing accuracy is :-0.7449109539565273\n",
      "\n",
      "\n",
      "At random state81, the training accuracy is :-0.7327522987987214\n",
      "At random state81, the testing accuracy is :-0.8031632997908733\n",
      "\n",
      "\n",
      "At random state82, the training accuracy is :-0.7279276127309269\n",
      "At random state82, the testing accuracy is :-0.8128236302123144\n",
      "\n",
      "\n",
      "At random state83, the training accuracy is :-0.7488995831511092\n",
      "At random state83, the testing accuracy is :-0.750680052957757\n",
      "\n",
      "\n",
      "At random state84, the training accuracy is :-0.7585292338641645\n",
      "At random state84, the testing accuracy is :-0.7139564027889772\n",
      "\n",
      "\n",
      "At random state85, the training accuracy is :-0.7432165503736317\n",
      "At random state85, the testing accuracy is :-0.768488859811661\n",
      "\n",
      "\n",
      "At random state86, the training accuracy is :-0.7540803873041093\n",
      "At random state86, the testing accuracy is :-0.7283523131652638\n",
      "\n",
      "\n",
      "At random state87, the training accuracy is :-0.7496193701219147\n",
      "At random state87, the testing accuracy is :-0.7499729677216048\n",
      "\n",
      "\n",
      "At random state88, the training accuracy is :-0.7437216277921246\n",
      "At random state88, the testing accuracy is :-0.773678938577495\n",
      "\n",
      "\n",
      "At random state89, the training accuracy is :-0.7404462624054957\n",
      "At random state89, the testing accuracy is :-0.7836489084057027\n",
      "\n",
      "\n",
      "At random state90, the training accuracy is :-0.751037423611754\n",
      "At random state90, the testing accuracy is :-0.7399416081399464\n",
      "\n",
      "\n",
      "At random state91, the training accuracy is :-0.7635429726821981\n",
      "At random state91, the testing accuracy is :-0.6845175329511682\n",
      "\n",
      "\n",
      "At random state92, the training accuracy is :-0.7559182680431464\n",
      "At random state92, the testing accuracy is :-0.7218439013377844\n",
      "\n",
      "\n",
      "At random state93, the training accuracy is :-0.7412186070876359\n",
      "At random state93, the testing accuracy is :-0.7800509287065512\n",
      "\n",
      "\n",
      "At random state94, the training accuracy is :-0.7473835483405901\n",
      "At random state94, the testing accuracy is :-0.7563737281049727\n",
      "\n",
      "\n",
      "At random state95, the training accuracy is :-0.7415711432144025\n",
      "At random state95, the testing accuracy is :-0.7773090056996088\n",
      "\n",
      "\n",
      "At random state96, the training accuracy is :-0.7423615587378873\n",
      "At random state96, the testing accuracy is :-0.7724978283900782\n",
      "\n",
      "\n",
      "At random state97, the training accuracy is :-0.7562603948931987\n",
      "At random state97, the testing accuracy is :-0.7175630834883883\n",
      "\n",
      "\n",
      "At random state98, the training accuracy is :-0.7539045303075056\n",
      "At random state98, the testing accuracy is :-0.7319343639376884\n",
      "\n",
      "\n",
      "At random state99, the training accuracy is :-0.7450506045902285\n",
      "At random state99, the testing accuracy is :-0.7662196714408352\n",
      "\n",
      "\n"
     ]
    }
   ],
   "source": [
    "for i in range(0,100):\n",
    "    x_train,x_test,y_train,y_test=train_test_split(x_scaled,y,test_size=0.2,random_state=i)\n",
    "    lr.fit(x_train,y_train)\n",
    "    y_train_pred=lr.predict(x_train)\n",
    "    y_pred_test=lr.predict(x_test)\n",
    "    print(f\"At random state{i}, the training accuracy is :-{r2_score(y_train,y_train_pred)}\")\n",
    "    print(f\"At random state{i}, the testing accuracy is :-{r2_score(y_test,y_pred_test)}\")\n",
    "    print(\"\\n\")\n",
    "    "
   ]
  },
  {
   "cell_type": "markdown",
   "id": "c9e90da0",
   "metadata": {},
   "source": [
    "We can see that there is least difference between training accuracy and testing accuracy at radom state 1"
   ]
  },
  {
   "cell_type": "markdown",
   "id": "76228e16",
   "metadata": {},
   "source": [
    "# Train Test Split"
   ]
  },
  {
   "cell_type": "code",
   "execution_count": 43,
   "id": "67fbc6d7",
   "metadata": {},
   "outputs": [],
   "source": [
    "x_train,x_test,y_train,y_test=train_test_split(x_scaled,y,test_size=0.2,random_state=1)"
   ]
  },
  {
   "cell_type": "code",
   "execution_count": 44,
   "id": "fe79d240",
   "metadata": {},
   "outputs": [],
   "source": [
    "lr=LinearRegression()\n",
    "\n"
   ]
  },
  {
   "cell_type": "code",
   "execution_count": 45,
   "id": "4161e2e1",
   "metadata": {},
   "outputs": [
    {
     "data": {
      "text/html": [
       "<style>#sk-container-id-1 {color: black;background-color: white;}#sk-container-id-1 pre{padding: 0;}#sk-container-id-1 div.sk-toggleable {background-color: white;}#sk-container-id-1 label.sk-toggleable__label {cursor: pointer;display: block;width: 100%;margin-bottom: 0;padding: 0.3em;box-sizing: border-box;text-align: center;}#sk-container-id-1 label.sk-toggleable__label-arrow:before {content: \"▸\";float: left;margin-right: 0.25em;color: #696969;}#sk-container-id-1 label.sk-toggleable__label-arrow:hover:before {color: black;}#sk-container-id-1 div.sk-estimator:hover label.sk-toggleable__label-arrow:before {color: black;}#sk-container-id-1 div.sk-toggleable__content {max-height: 0;max-width: 0;overflow: hidden;text-align: left;background-color: #f0f8ff;}#sk-container-id-1 div.sk-toggleable__content pre {margin: 0.2em;color: black;border-radius: 0.25em;background-color: #f0f8ff;}#sk-container-id-1 input.sk-toggleable__control:checked~div.sk-toggleable__content {max-height: 200px;max-width: 100%;overflow: auto;}#sk-container-id-1 input.sk-toggleable__control:checked~label.sk-toggleable__label-arrow:before {content: \"▾\";}#sk-container-id-1 div.sk-estimator input.sk-toggleable__control:checked~label.sk-toggleable__label {background-color: #d4ebff;}#sk-container-id-1 div.sk-label input.sk-toggleable__control:checked~label.sk-toggleable__label {background-color: #d4ebff;}#sk-container-id-1 input.sk-hidden--visually {border: 0;clip: rect(1px 1px 1px 1px);clip: rect(1px, 1px, 1px, 1px);height: 1px;margin: -1px;overflow: hidden;padding: 0;position: absolute;width: 1px;}#sk-container-id-1 div.sk-estimator {font-family: monospace;background-color: #f0f8ff;border: 1px dotted black;border-radius: 0.25em;box-sizing: border-box;margin-bottom: 0.5em;}#sk-container-id-1 div.sk-estimator:hover {background-color: #d4ebff;}#sk-container-id-1 div.sk-parallel-item::after {content: \"\";width: 100%;border-bottom: 1px solid gray;flex-grow: 1;}#sk-container-id-1 div.sk-label:hover label.sk-toggleable__label {background-color: #d4ebff;}#sk-container-id-1 div.sk-serial::before {content: \"\";position: absolute;border-left: 1px solid gray;box-sizing: border-box;top: 0;bottom: 0;left: 50%;z-index: 0;}#sk-container-id-1 div.sk-serial {display: flex;flex-direction: column;align-items: center;background-color: white;padding-right: 0.2em;padding-left: 0.2em;position: relative;}#sk-container-id-1 div.sk-item {position: relative;z-index: 1;}#sk-container-id-1 div.sk-parallel {display: flex;align-items: stretch;justify-content: center;background-color: white;position: relative;}#sk-container-id-1 div.sk-item::before, #sk-container-id-1 div.sk-parallel-item::before {content: \"\";position: absolute;border-left: 1px solid gray;box-sizing: border-box;top: 0;bottom: 0;left: 50%;z-index: -1;}#sk-container-id-1 div.sk-parallel-item {display: flex;flex-direction: column;z-index: 1;position: relative;background-color: white;}#sk-container-id-1 div.sk-parallel-item:first-child::after {align-self: flex-end;width: 50%;}#sk-container-id-1 div.sk-parallel-item:last-child::after {align-self: flex-start;width: 50%;}#sk-container-id-1 div.sk-parallel-item:only-child::after {width: 0;}#sk-container-id-1 div.sk-dashed-wrapped {border: 1px dashed gray;margin: 0 0.4em 0.5em 0.4em;box-sizing: border-box;padding-bottom: 0.4em;background-color: white;}#sk-container-id-1 div.sk-label label {font-family: monospace;font-weight: bold;display: inline-block;line-height: 1.2em;}#sk-container-id-1 div.sk-label-container {text-align: center;}#sk-container-id-1 div.sk-container {/* jupyter's `normalize.less` sets `[hidden] { display: none; }` but bootstrap.min.css set `[hidden] { display: none !important; }` so we also need the `!important` here to be able to override the default hidden behavior on the sphinx rendered scikit-learn.org. See: https://github.com/scikit-learn/scikit-learn/issues/21755 */display: inline-block !important;position: relative;}#sk-container-id-1 div.sk-text-repr-fallback {display: none;}</style><div id=\"sk-container-id-1\" class=\"sk-top-container\"><div class=\"sk-text-repr-fallback\"><pre>LinearRegression()</pre><b>In a Jupyter environment, please rerun this cell to show the HTML representation or trust the notebook. <br />On GitHub, the HTML representation is unable to render, please try loading this page with nbviewer.org.</b></div><div class=\"sk-container\" hidden><div class=\"sk-item\"><div class=\"sk-estimator sk-toggleable\"><input class=\"sk-toggleable__control sk-hidden--visually\" id=\"sk-estimator-id-1\" type=\"checkbox\" checked><label for=\"sk-estimator-id-1\" class=\"sk-toggleable__label sk-toggleable__label-arrow\">LinearRegression</label><div class=\"sk-toggleable__content\"><pre>LinearRegression()</pre></div></div></div></div></div>"
      ],
      "text/plain": [
       "LinearRegression()"
      ]
     },
     "execution_count": 45,
     "metadata": {},
     "output_type": "execute_result"
    }
   ],
   "source": [
    "lr.fit(x_train,y_train)\n"
   ]
  },
  {
   "cell_type": "code",
   "execution_count": 46,
   "id": "bed6abad",
   "metadata": {},
   "outputs": [],
   "source": [
    "pred_test_y=lr.predict(x_test)\n",
    "\n"
   ]
  },
  {
   "cell_type": "code",
   "execution_count": 47,
   "id": "bc76f62c",
   "metadata": {},
   "outputs": [
    {
     "name": "stdout",
     "output_type": "stream",
     "text": [
      "0.7553101969241917\n"
     ]
    }
   ],
   "source": [
    "print(r2_score(y_test,pred_test_y))"
   ]
  },
  {
   "cell_type": "markdown",
   "id": "38ca84ed",
   "metadata": {},
   "source": [
    "Testing accurcy is 75.5%"
   ]
  },
  {
   "cell_type": "markdown",
   "id": "93883590",
   "metadata": {},
   "source": [
    "# Finding best value for cross validation of the model"
   ]
  },
  {
   "cell_type": "code",
   "execution_count": 49,
   "id": "7e233498",
   "metadata": {},
   "outputs": [
    {
     "name": "stdout",
     "output_type": "stream",
     "text": [
      "At cross fold 2 the cv score is 0.7473666611180607 and the accuracy score in training is  -0.7089249572340452 and the accuracy score in testing is 0.7553101969241917\n",
      "At cross fold 3 the cv score is 0.7454719739499867 and the accuracy score in training is  -0.7089249572340452 and the accuracy score in testing is 0.7553101969241917\n",
      "At cross fold 4 the cv score is 0.7434656605813895 and the accuracy score in training is  -0.7089249572340452 and the accuracy score in testing is 0.7553101969241917\n",
      "At cross fold 5 the cv score is 0.7476631228509125 and the accuracy score in training is  -0.7089249572340452 and the accuracy score in testing is 0.7553101969241917\n",
      "At cross fold 6 the cv score is 0.74530285961422 and the accuracy score in training is  -0.7089249572340452 and the accuracy score in testing is 0.7553101969241917\n",
      "At cross fold 7 the cv score is 0.7447102693291201 and the accuracy score in training is  -0.7089249572340452 and the accuracy score in testing is 0.7553101969241917\n",
      "At cross fold 8 the cv score is 0.7423553074720667 and the accuracy score in training is  -0.7089249572340452 and the accuracy score in testing is 0.7553101969241917\n",
      "At cross fold 9 the cv score is 0.7433146971968936 and the accuracy score in training is  -0.7089249572340452 and the accuracy score in testing is 0.7553101969241917\n"
     ]
    }
   ],
   "source": [
    "Train_accuracy=r2_score(y_train,y_train_pred)\n",
    "Test_accuracy=r2_score(y_test,pred_test_y)\n",
    "\n",
    "\n",
    "from sklearn.model_selection import cross_val_score\n",
    "\n",
    "for j in range(2,10):\n",
    "    cv_score=cross_val_score(lr,x_scaled,y,cv=j)\n",
    "    cv_mean=cv_score.mean()\n",
    "    print(f\"At cross fold {j} the cv score is {cv_mean} and the accuracy score in training is  {Train_accuracy} and the accuracy score in testing is {Test_accuracy}\")"
   ]
  },
  {
   "cell_type": "markdown",
   "id": "580cafa2",
   "metadata": {},
   "source": [
    "At cv =5 there is less difference between training acccuracy and cv score"
   ]
  },
  {
   "cell_type": "markdown",
   "id": "3a475e3f",
   "metadata": {},
   "source": [
    "# Cross Validation"
   ]
  },
  {
   "cell_type": "code",
   "execution_count": 50,
   "id": "d6d764f3",
   "metadata": {},
   "outputs": [
    {
     "name": "stdout",
     "output_type": "stream",
     "text": [
      "the cv score is  0.7454719739499867\n"
     ]
    }
   ],
   "source": [
    "lssscore_selected=cross_val_score(lr,x_scaled,y,cv=3).mean()\n",
    "print(\"the cv score is \",lssscore_selected)"
   ]
  },
  {
   "cell_type": "code",
   "execution_count": 53,
   "id": "047600a2",
   "metadata": {},
   "outputs": [
    {
     "data": {
      "image/png": "[encoded data removed]",
      "text/plain": [
       "<Figure size 576x432 with 1 Axes>"
      ]
     },
     "metadata": {
      "needs_background": "light"
     },
     "output_type": "display_data"
    }
   ],
   "source": [
    "plt.figure(figsize=(8,6))\n",
    "plt.scatter(x=y_test,y=pred_test_y,color='r')\n",
    "plt.plot(y_test,y_test,color='b')\n",
    "plt.xlabel('Actual Charges',fontsize=14)\n",
    "plt.ylabel('predicted charges',fontsize=14)\n",
    "plt.title('Linear Regression',fontsize=18)\n",
    "plt.savefig('lr.png')\n",
    "plt.show()\n"
   ]
  },
  {
   "cell_type": "markdown",
   "id": "9736f04a",
   "metadata": {},
   "source": [
    "## Best fit line covering most of the data points which shows good fit to our model."
   ]
  },
  {
   "cell_type": "markdown",
   "id": "6aa0e1a7",
   "metadata": {},
   "source": [
    "# "
   ]
  },
  {
   "cell_type": "markdown",
   "id": "29e7fb21",
   "metadata": {},
   "source": [
    "# Hyperparameter Tuning"
   ]
  },
  {
   "cell_type": "markdown",
   "id": "b55af331",
   "metadata": {},
   "source": [
    "## Using Grid Search Cv(Lasso)"
   ]
  },
  {
   "cell_type": "code",
   "execution_count": 55,
   "id": "47b8d797",
   "metadata": {},
   "outputs": [],
   "source": [
    "from sklearn.model_selection import GridSearchCV\n",
    "from sklearn.linear_model import Lasso,Ridge\n",
    "\n"
   ]
  },
  {
   "cell_type": "code",
   "execution_count": 56,
   "id": "e4180f68",
   "metadata": {},
   "outputs": [
    {
     "name": "stdout",
     "output_type": "stream",
     "text": [
      "{'alpha': 10, 'max_iter': 10, 'random_state': 0}\n"
     ]
    }
   ],
   "source": [
    "parameters={'alpha':[0.0001,0.001,0.01,.1,1,10],\n",
    "            'random_state':list(range(0,10)),\n",
    "            'max_iter':[10,100,500,1000]}\n",
    "ls=Lasso()\n",
    "clf=GridSearchCV(ls,parameters)\n",
    "clf.fit(x_train,y_train)\n",
    "print(clf.best_params_)\n",
    "\n"
   ]
  },
  {
   "cell_type": "code",
   "execution_count": 57,
   "id": "2d21cdcc",
   "metadata": {},
   "outputs": [],
   "source": [
    "ls=clf.best_estimator_\n",
    "\n"
   ]
  },
  {
   "cell_type": "code",
   "execution_count": 58,
   "id": "9bdc0b7f",
   "metadata": {},
   "outputs": [
    {
     "name": "stdout",
     "output_type": "stream",
     "text": [
      "Testing Accuracy 0.7554178463283188\n"
     ]
    }
   ],
   "source": [
    "pred_test_y=ls.predict(x_test)\n",
    "\n",
    "print(\"Testing Accuracy\",r2_score(y_test,pred_test_y))\n",
    "\n"
   ]
  },
  {
   "cell_type": "code",
   "execution_count": 59,
   "id": "a2e8c108",
   "metadata": {},
   "outputs": [
    {
     "name": "stdout",
     "output_type": "stream",
     "text": [
      "the cv score is  0.7455648099512441\n"
     ]
    }
   ],
   "source": [
    "lssscore_selected=cross_val_score(ls,x_scaled,y,cv=3).mean()\n",
    "print(\"the cv score is \",lssscore_selected)"
   ]
  },
  {
   "cell_type": "markdown",
   "id": "6172565b",
   "metadata": {},
   "source": [
    "We can see that after hyperparameter tuning testing accuracy is 75.54 and cross val score is  74.55"
   ]
  },
  {
   "cell_type": "markdown",
   "id": "2957c446",
   "metadata": {},
   "source": [
    "## Ridge"
   ]
  },
  {
   "cell_type": "code",
   "execution_count": 60,
   "id": "63362066",
   "metadata": {},
   "outputs": [],
   "source": [
    "parameters={'alpha':np.arange(0.001,0.1,0.01),'random_state':[1,50],'max_iter':[100,500,1000,250]}"
   ]
  },
  {
   "cell_type": "code",
   "execution_count": 61,
   "id": "89fa089d",
   "metadata": {},
   "outputs": [
    {
     "name": "stdout",
     "output_type": "stream",
     "text": [
      "{'alpha': 0.09099999999999998, 'max_iter': 100, 'random_state': 1}\n"
     ]
    }
   ],
   "source": [
    "ridge=Ridge()\n",
    "clf=GridSearchCV(ridge,parameters)\n",
    "clf.fit(x_train,y_train)\n",
    "print(clf.best_params_)"
   ]
  },
  {
   "cell_type": "code",
   "execution_count": 62,
   "id": "7f3b7d6b",
   "metadata": {},
   "outputs": [],
   "source": [
    "ridege=clf.best_estimator_"
   ]
  },
  {
   "cell_type": "code",
   "execution_count": 63,
   "id": "d1425fdc",
   "metadata": {},
   "outputs": [
    {
     "name": "stdout",
     "output_type": "stream",
     "text": [
      "Testing Accuracy 0.7553114642537856\n"
     ]
    }
   ],
   "source": [
    "pred_test_y=ridege.predict(x_test)\n",
    "\n",
    "print(\"Testing Accuracy\",r2_score(y_test,pred_test_y))\n"
   ]
  },
  {
   "cell_type": "markdown",
   "id": "0b0f91a0",
   "metadata": {},
   "source": [
    "## Cross Val Score"
   ]
  },
  {
   "cell_type": "code",
   "execution_count": 64,
   "id": "4e5efd43",
   "metadata": {},
   "outputs": [
    {
     "name": "stdout",
     "output_type": "stream",
     "text": [
      "the cv score is  0.7454720540892043\n"
     ]
    }
   ],
   "source": [
    "lssscore_selected=cross_val_score(ridege,x_scaled,y,cv=3).mean()\n",
    "print(\"the cv score is \",lssscore_selected)"
   ]
  },
  {
   "cell_type": "markdown",
   "id": "8f7ff6e7",
   "metadata": {},
   "source": [
    "We can see that after hyperparameter tuning testing accuracy is 75.54 and cross val score is  74.55"
   ]
  },
  {
   "cell_type": "markdown",
   "id": "54e6a22c",
   "metadata": {},
   "source": [
    "# Using Random Forest "
   ]
  },
  {
   "cell_type": "code",
   "execution_count": 66,
   "id": "ead7af74",
   "metadata": {},
   "outputs": [],
   "source": [
    "from sklearn.ensemble import RandomForestRegressor\n"
   ]
  },
  {
   "cell_type": "code",
   "execution_count": 67,
   "id": "27f6c162",
   "metadata": {},
   "outputs": [
    {
     "name": "stdout",
     "output_type": "stream",
     "text": [
      "Testing Accuracy 0.835631713635967\n"
     ]
    }
   ],
   "source": [
    "rf=RandomForestRegressor()\n",
    "\n",
    "rf.fit(x_train,y_train)\n",
    "\n",
    "pred_test_y=rf.predict(x_test)\n",
    "print(\"Testing Accuracy\",r2_score(y_test,pred_test_y))\n"
   ]
  },
  {
   "cell_type": "markdown",
   "id": "bc45f1a5",
   "metadata": {},
   "source": [
    "## Cross val score"
   ]
  },
  {
   "cell_type": "code",
   "execution_count": 69,
   "id": "169de8f2",
   "metadata": {},
   "outputs": [
    {
     "name": "stdout",
     "output_type": "stream",
     "text": [
      "the cv score is  0.8240431250604549\n"
     ]
    }
   ],
   "source": [
    "lssscore_selected=cross_val_score(rf,x_scaled,y,cv=3).mean()\n",
    "print(\"the cv score is \",lssscore_selected)\n"
   ]
  },
  {
   "cell_type": "markdown",
   "id": "e0eced29",
   "metadata": {},
   "source": [
    "# Hyperparameter Tuning\n",
    "\n"
   ]
  },
  {
   "cell_type": "code",
   "execution_count": 70,
   "id": "abfc7de5",
   "metadata": {},
   "outputs": [],
   "source": [
    "params={'n_estimators':[10,15],\n",
    "       'max_depth':[10,20],\n",
    "       'min_samples_split':[6,7,8]}"
   ]
  },
  {
   "cell_type": "code",
   "execution_count": 71,
   "id": "a78370f4",
   "metadata": {},
   "outputs": [
    {
     "name": "stdout",
     "output_type": "stream",
     "text": [
      "{'max_depth': 20, 'min_samples_split': 7, 'n_estimators': 15}\n"
     ]
    }
   ],
   "source": [
    "clf=GridSearchCV(rf,params)\n",
    "clf.fit(x_train,y_train)\n",
    "print(clf.best_params_)\n",
    "\n"
   ]
  },
  {
   "cell_type": "code",
   "execution_count": 72,
   "id": "fe07e462",
   "metadata": {},
   "outputs": [
    {
     "name": "stdout",
     "output_type": "stream",
     "text": [
      "Testing Accuracy 0.8441680831447163\n",
      "the cv score is  0.8335520005602098\n"
     ]
    }
   ],
   "source": [
    "rf=RandomForestRegressor(max_depth=20,min_samples_split=7,n_estimators=15)\n",
    "\n",
    "rf.fit(x_train,y_train)\n",
    "\n",
    "pred_test_y=rf.predict(x_test)\n",
    "\n",
    "print(\"Testing Accuracy\",r2_score(y_test,pred_test_y))\n",
    "\n",
    "lssscore_selected=cross_val_score(rf,x_scaled,y,cv=3).mean()\n",
    "print(\"the cv score is \",lssscore_selected)"
   ]
  },
  {
   "cell_type": "markdown",
   "id": "541bf342",
   "metadata": {},
   "source": [
    "# Using KNN "
   ]
  },
  {
   "cell_type": "code",
   "execution_count": 74,
   "id": "6d834f16",
   "metadata": {},
   "outputs": [],
   "source": [
    "from sklearn.neighbors import KNeighborsRegressor\n",
    "\n",
    "\n",
    "\n"
   ]
  },
  {
   "cell_type": "code",
   "execution_count": 75,
   "id": "00d4c98f",
   "metadata": {},
   "outputs": [
    {
     "name": "stdout",
     "output_type": "stream",
     "text": [
      "Testing Accuracy 0.8064810062090035\n"
     ]
    }
   ],
   "source": [
    "knn=KNeighborsRegressor()\n",
    "\n",
    "knn.fit(x_train,y_train)\n",
    "\n",
    "pred_test_y=knn.predict(x_test)\n",
    "print(\"Testing Accuracy\",r2_score(y_test,pred_test_y))\n",
    "\n"
   ]
  },
  {
   "cell_type": "markdown",
   "id": "6eb9fe42",
   "metadata": {},
   "source": [
    "## Cross val score"
   ]
  },
  {
   "cell_type": "code",
   "execution_count": 77,
   "id": "6a872344",
   "metadata": {},
   "outputs": [
    {
     "name": "stdout",
     "output_type": "stream",
     "text": [
      "the cv score is  0.8073745536043552\n"
     ]
    }
   ],
   "source": [
    "lssscore_selected=cross_val_score(knn,x_scaled,y,cv=3).mean()\n",
    "print(\"the cv score is \",lssscore_selected)"
   ]
  },
  {
   "cell_type": "markdown",
   "id": "dd46d723",
   "metadata": {},
   "source": [
    "# Hyperparameter Tuning"
   ]
  },
  {
   "cell_type": "code",
   "execution_count": 78,
   "id": "6a83470d",
   "metadata": {},
   "outputs": [],
   "source": [
    "params={'leaf_size':[2,3,4,5,6,7,8,9],\n",
    "       'n_neighbors':[3,5,7,9],\n",
    "       'algorithm':['kd_tree','brute','ball_tree']}\n",
    "\n",
    "\n",
    "\n"
   ]
  },
  {
   "cell_type": "code",
   "execution_count": 79,
   "id": "037b19b3",
   "metadata": {},
   "outputs": [
    {
     "name": "stdout",
     "output_type": "stream",
     "text": [
      "{'algorithm': 'kd_tree', 'leaf_size': 2, 'n_neighbors': 9}\n"
     ]
    }
   ],
   "source": [
    "clf=GridSearchCV(knn,params)\n",
    "clf.fit(x_train,y_train)\n",
    "print(clf.best_params_)"
   ]
  },
  {
   "cell_type": "code",
   "execution_count": 80,
   "id": "ad1e0bba",
   "metadata": {},
   "outputs": [
    {
     "name": "stdout",
     "output_type": "stream",
     "text": [
      "Testing Accuracy 0.8158504194125388\n"
     ]
    }
   ],
   "source": [
    "knn=KNeighborsRegressor(algorithm='kd_tree',leaf_size=2,n_neighbors=9)\n",
    "\n",
    "knn.fit(x_train,y_train)\n",
    "\n",
    "pred_test_y=knn.predict(x_test)\n",
    "\n",
    "print(\"Testing Accuracy\",r2_score(y_test,pred_test_y))"
   ]
  },
  {
   "cell_type": "code",
   "execution_count": 81,
   "id": "cc6b2a35",
   "metadata": {},
   "outputs": [
    {
     "name": "stdout",
     "output_type": "stream",
     "text": [
      "the cv score is  0.8189074567737347\n"
     ]
    }
   ],
   "source": [
    "lssscore_selected=cross_val_score(knn,x_scaled,y,cv=3).mean()\n",
    "print(\"the cv score is \",lssscore_selected)"
   ]
  },
  {
   "cell_type": "markdown",
   "id": "d4a4221d",
   "metadata": {},
   "source": [
    "# Using Adaboost"
   ]
  },
  {
   "cell_type": "code",
   "execution_count": 82,
   "id": "81a383a2",
   "metadata": {},
   "outputs": [],
   "source": [
    "from sklearn.ensemble import AdaBoostRegressor\n",
    "\n",
    "\n",
    "\n",
    "\n"
   ]
  },
  {
   "cell_type": "code",
   "execution_count": 83,
   "id": "5277b876",
   "metadata": {},
   "outputs": [
    {
     "name": "stdout",
     "output_type": "stream",
     "text": [
      "Testing Accuracy 0.7855773931774142\n"
     ]
    }
   ],
   "source": [
    "ada=AdaBoostRegressor()\n",
    "\n",
    "ada.fit(x_train,y_train)\n",
    "\n",
    "pred_test_y=ada.predict(x_test)\n",
    "\n",
    "print(\"Testing Accuracy\",r2_score(y_test,pred_test_y))"
   ]
  },
  {
   "cell_type": "markdown",
   "id": "be16716f",
   "metadata": {},
   "source": [
    "## Cross val score"
   ]
  },
  {
   "cell_type": "code",
   "execution_count": 84,
   "id": "ba1ad07e",
   "metadata": {},
   "outputs": [
    {
     "name": "stdout",
     "output_type": "stream",
     "text": [
      "the cv score is  0.810827531824505\n"
     ]
    }
   ],
   "source": [
    "lssscore_selected=cross_val_score(ada,x_scaled,y,cv=3).mean()\n",
    "print(\"the cv score is \",lssscore_selected)"
   ]
  },
  {
   "cell_type": "markdown",
   "id": "9d23d727",
   "metadata": {},
   "source": [
    "# Hyperparameter Tuning"
   ]
  },
  {
   "cell_type": "code",
   "execution_count": 85,
   "id": "94aa9162",
   "metadata": {},
   "outputs": [],
   "source": [
    "params={'n_estimators':[20,30,40,50,60,70],\n",
    "       'learning_rate':[0.15,0.2,0.25,0.3,0.35,0.5,0.6],\n",
    "       'random_state':[1,100]}\n",
    "\n",
    "\n",
    "\n",
    "\n",
    "\n"
   ]
  },
  {
   "cell_type": "code",
   "execution_count": 86,
   "id": "c637b4a7",
   "metadata": {},
   "outputs": [
    {
     "name": "stdout",
     "output_type": "stream",
     "text": [
      "{'learning_rate': 0.15, 'n_estimators': 20, 'random_state': 1}\n"
     ]
    }
   ],
   "source": [
    "clf=GridSearchCV(ada,params)\n",
    "clf.fit(x_train,y_train)\n",
    "print(clf.best_params_)"
   ]
  },
  {
   "cell_type": "code",
   "execution_count": 87,
   "id": "e997a139",
   "metadata": {},
   "outputs": [
    {
     "name": "stdout",
     "output_type": "stream",
     "text": [
      "Testing Accuracy 0.8672721098310832\n"
     ]
    }
   ],
   "source": [
    "ada=AdaBoostRegressor(learning_rate=0.15,n_estimators=20,random_state=1)\n",
    "\n",
    "ada.fit(x_test,y_test)\n",
    "\n",
    "pred_test_y=ada.predict(x_test)\n",
    "\n",
    "print(\"Testing Accuracy\",r2_score(y_test,pred_test_y))"
   ]
  },
  {
   "cell_type": "code",
   "execution_count": 88,
   "id": "d7fab885",
   "metadata": {},
   "outputs": [
    {
     "name": "stdout",
     "output_type": "stream",
     "text": [
      "the cv score is  0.8306764831781647\n"
     ]
    }
   ],
   "source": [
    "lssscore_selected=cross_val_score(ada,x_scaled,y,cv=3).mean()\n",
    "print(\"the cv score is \",lssscore_selected)"
   ]
  },
  {
   "cell_type": "markdown",
   "id": "3a7a7190",
   "metadata": {},
   "source": [
    "# Conclusion"
   ]
  },
  {
   "cell_type": "raw",
   "id": "3c637c6d",
   "metadata": {},
   "source": [
    "We can observe that\n",
    "\n",
    "Linear Regression\n",
    "     Testing Accuracy:75.5 and Cross val score:74.5\n",
    "\n",
    "Ranfom Froest\n",
    "     Testing Accuracy:84.4 and Cross val score:83.3\n",
    "\n",
    "Ada Boosting\n",
    "     Testing Accuracy:86.72 and Cross val score:83.06\n",
    "\n",
    "KNN \n",
    "     Testing Accuracy:81.58 and Cross val score:81.89\n",
    " "
   ]
  },
  {
   "cell_type": "markdown",
   "id": "c7d98934",
   "metadata": {},
   "source": [
    "#### We can conclude that KNN is the best model for this dataset as it is having least difference between testing accurcy and cross val score"
   ]
  },
  {
   "cell_type": "markdown",
   "id": "bc9dea0b",
   "metadata": {},
   "source": [
    "# Saving the best model"
   ]
  },
  {
   "cell_type": "code",
   "execution_count": 90,
   "id": "8248768b",
   "metadata": {},
   "outputs": [],
   "source": [
    "import pickle\n",
    "\n",
    "pickle.dump(lr,open('regmodel_insurance','wb'))"
   ]
  },
  {
   "cell_type": "code",
   "execution_count": null,
   "id": "1383aa56",
   "metadata": {},
   "outputs": [],
   "source": []
  }
 ],
 "metadata": {
  "kernelspec": {
   "display_name": "Python 3 (ipykernel)",
   "language": "python",
   "name": "python3"
  },
  "language_info": {
   "codemirror_mode": {
    "name": "ipython",
    "version": 3
   },
   "file_extension": ".py",
   "mimetype": "text/x-python",
   "name": "python",
   "nbconvert_exporter": "python",
   "pygments_lexer": "ipython3",
   "version": "3.9.12"
  }
 },
 "nbformat": 4,
 "nbformat_minor": 5
}
